{
 "cells": [
  {
   "cell_type": "markdown",
   "metadata": {},
   "source": [
    "# Gesture Recognition\n",
    "In this group project, you are going to build a 3D Conv model that will be able to predict the 5 gestures correctly. Please import the following libraries to get started."
   ]
  },
  {
   "cell_type": "code",
   "execution_count": 1,
   "metadata": {},
   "outputs": [],
   "source": [
    "import numpy as np\n",
    "import os\n",
    "import datetime\n",
    "import os\n",
    "from skimage import io\n",
    "from skimage.transform import resize\n",
    "import matplotlib.pyplot as plt\n",
    "%matplotlib inline\n",
    "import cv2\n",
    "from scipy import ndimage"
   ]
  },
  {
   "cell_type": "markdown",
   "metadata": {},
   "source": [
    "We set the random seed so that the results don't vary drastically."
   ]
  },
  {
   "cell_type": "code",
   "execution_count": 2,
   "metadata": {},
   "outputs": [
    {
     "name": "stderr",
     "output_type": "stream",
     "text": [
      "Using TensorFlow backend.\n"
     ]
    }
   ],
   "source": [
    "np.random.seed(30)\n",
    "import random as rn\n",
    "rn.seed(30)\n",
    "from keras import backend as K\n",
    "from keras.optimizers import Adam\n",
    "from keras.callbacks import ReduceLROnPlateau\n",
    "import tensorflow as tf\n",
    "tf.set_random_seed(30)"
   ]
  },
  {
   "cell_type": "code",
   "execution_count": 3,
   "metadata": {},
   "outputs": [],
   "source": [
    "from keras.models import Sequential, Model\n",
    "from keras.layers import Dense, GRU, Flatten, TimeDistributed, Flatten, BatchNormalization, Activation, Dropout\n",
    "from keras.layers.convolutional import Conv3D, MaxPooling3D, MaxPooling2D, Conv2D\n",
    "from keras.layers.recurrent import LSTM\n",
    "from keras.callbacks import ModelCheckpoint, ReduceLROnPlateau\n",
    "from keras import optimizers\n",
    "from keras.applications import VGG16\n",
    "from keras.applications import MobileNetV2"
   ]
  },
  {
   "cell_type": "markdown",
   "metadata": {},
   "source": [
    "In this block, you read the folder names for training and validation. You also set the `batch_size` here. Note that you set the batch size in such a way that you are able to use the GPU in full capacity. You keep increasing the batch size until the machine throws an error."
   ]
  },
  {
   "cell_type": "code",
   "execution_count": 4,
   "metadata": {},
   "outputs": [],
   "source": [
    "project_folder=\"./Project_data\"\n",
    "train_doc = np.random.permutation(open(project_folder+'/train.csv').readlines())\n",
    "val_doc = np.random.permutation(open(project_folder+'/val.csv').readlines())\n",
    "batch_size = 20 # experiment with the batch size\n",
    "row = 120\n",
    "col = 120\n",
    "channel = 3\n",
    "frames_to_consider_start = 0\n",
    "frames_to_consider_end = 30\n",
    "train_path = project_folder + '/' + 'train'\n",
    "val_path =  project_folder + '/' + 'val'\n",
    "num_train_sequences = len(train_doc)\n",
    "num_val_sequences = len(val_doc)\n",
    "no_of_classes = 5\n",
    "curr_dt_time = datetime.datetime.now()\n",
    "num_epochs = 15"
   ]
  },
  {
   "cell_type": "markdown",
   "metadata": {},
   "source": [
    "### utility function"
   ]
  },
  {
   "cell_type": "code",
   "execution_count": 5,
   "metadata": {},
   "outputs": [],
   "source": [
    "def normalize_image(img):\n",
    "    '''this function is used to normalize the image'''\n",
    "    return ((img-np.min(img))/(np.max(img) - np.min(img)))\n",
    "\n",
    "def plot_graph(model_history):\n",
    "    # fig, axes = plt.subplots(nrows=1, ncols=1, figsize=(15,4))\n",
    "    plt.plot(model_history.history['categorical_accuracy'])   \n",
    "    plt.plot(model_history.history['val_categorical_accuracy'])\n",
    "    plt.legend(['categorical_accuracy','val_categorical_accuracy'])"
   ]
  },
  {
   "cell_type": "markdown",
   "metadata": {},
   "source": [
    "## Generator\n",
    "This is one of the most important part of the code. The overall structure of the generator has been given. In the generator, you are going to preprocess the images as you have images of 2 different dimensions as well as create a batch of video frames. You have to experiment with `img_idx`, `y`,`z` and normalization such that you get high accuracy."
   ]
  },
  {
   "cell_type": "code",
   "execution_count": 6,
   "metadata": {},
   "outputs": [],
   "source": [
    "c = 3\n",
    "image_index = [x for x in range(frames_to_consider_start, frames_to_consider_end, 2)] #create a list of image numbers you want to use for a particular video\n",
    "def generator(source_path, folder_list, batch_size, augment_data=False):\n",
    "    x = len(image_index)\n",
    "    y = 120\n",
    "    z = 120\n",
    "    \n",
    "    print( 'Source path = ', source_path, '; batch size =', batch_size)\n",
    "    img_idx = image_index #create a list of image numbers you want to use for a particular video\n",
    "    while True:\n",
    "        t = np.random.permutation(folder_list)\n",
    "        num_batches = len(t)//batch_size # calculate the number of batches\n",
    "        for batch in range(num_batches): # we iterate over the number of batches\n",
    "            batch_data = np.zeros((batch_size,x,y,z,3)) # x is the number of images you use for each video, (y,z) is the final size of the input images and 3 is the number of channels RGB\n",
    "            batch_labels = np.zeros((batch_size,5)) # batch_labels is the one hot representation of the output\n",
    "            batch_data_aug = batch_data\n",
    "            for folder in range(batch_size): # iterate over the batch_size\n",
    "                imgs = os.listdir(source_path+'/'+ t[folder + (batch*batch_size)].split(';')[0]) # read all the images in the folder\n",
    "                for idx,item in enumerate(img_idx): #  Iterate iver the frames/images of a folder to read them in\n",
    "                    image = io.imread(source_path+'/'+ t[folder + (batch*batch_size)].strip().split(';')[0]+'/'+imgs[item]).astype(np.float32)\n",
    "\n",
    "                    #crop the images and resize them. Note that the images are of 2 different shape \n",
    "                    #and the conv3D will throw error if the inputs in a batch have different shapes\n",
    "                    image_temp = resize(image, (row, col))\n",
    "                    image_norm = normalize_image(image_temp)\n",
    "                    batch_data[folder,idx,:,:,0] = image_norm[:,:,0] #normalise and feed in the image\n",
    "                    batch_data[folder,idx,:,:,1] = image_norm[:,:,1]#normalise and feed in the image\n",
    "                    batch_data[folder,idx,:,:,2] = image_norm[:,:,2]#normalise and feed in the image\n",
    "                    if augment_data:\n",
    "                        rotated_image = ndimage.rotate(image_norm, 10)\n",
    "                        rotated_image = resize(rotated_image,(row,col))\n",
    "                        batch_data_aug[folder,idx,:,:,0] = rotated_image[:,:,0]\n",
    "                        batch_data_aug[folder,idx,:,:,1] = rotated_image[:,:,1]\n",
    "                        batch_data_aug[folder,idx,:,:,2] = rotated_image[:,:,2]\n",
    "                \n",
    "                    \n",
    "                batch_labels[folder, int(t[folder + (batch*batch_size)].strip().split(';')[2])] = 1\n",
    "            if augment_data:\n",
    "                batch_data = np.concatenate([batch_data, batch_data_aug])\n",
    "                batch_labels = np.concatenate([batch_labels, batch_labels])\n",
    "                \n",
    "            yield batch_data, batch_labels #you yield the batch_data and the batch_labels, remember what does yield do\n",
    "\n",
    "        \n",
    "        # write the code for the remaining data points which are left after full batches\n",
    "        if (len(folder_list) != batch_size*num_batches):\n",
    "            print(\"Batch: \",num_batches+1,\"Index:\", batch_size)\n",
    "            batch_size = len(folder_list) - (batch_size*num_batches)\n",
    "            batch_data = np.zeros((batch_size,x,y,z,c)) # x is the number of images you use for each video, (y,z) is the final size of the input images and 3 is the number of channels RGB\n",
    "            batch_labels = np.zeros((batch_size,5)) # batch_labels is the one hot representation of the output\n",
    "            batch_data_aug = batch_data\n",
    "            for folder in range(batch_size): # iterate over the batch_size\n",
    "                imgs = os.listdir(source_path+'/'+ t[folder + (batch*batch_size)].split(';')[0]) # read all the images in the folder\n",
    "                for idx,item in enumerate(img_idx): #  Iterate iver the frames/images of a folder to read them in\n",
    "                    image = io.imread(source_path+'/'+ t[folder + (batch*batch_size)].strip().split(';')[0]+'/'+imgs[item]).astype(np.float32)\n",
    "                    \n",
    "                    #crop the images and resize them. Note that the images are of 2 different shape \n",
    "                    #and the conv3D will throw error if the inputs in a batch have different shapes\n",
    "                    image_temp = resize(image,(row,col))\n",
    "                    norm_img = normalize_image(image_temp)\n",
    "                    \n",
    "                    batch_data[folder,idx,:,:,0] = (norm_img[:,:,0])\n",
    "                    batch_data[folder,idx,:,:,1] = (norm_img[:,:,1])\n",
    "                    batch_data[folder,idx,:,:,2] = (norm_img[:,:,2])\n",
    "                    if augment_data:\n",
    "                        rotated_image = ndimage.rotate(norm_img, 10)\n",
    "                        rotated_image = resize(rotated_image,(row,col))\n",
    "                        batch_data_aug[folder,idx,:,:,0] = rotated_image[:,:,0]\n",
    "                        batch_data_aug[folder,idx,:,:,1] = rotated_image[:,:,1]\n",
    "                        batch_data_aug[folder,idx,:,:,2] = rotated_image[:,:,2]\n",
    "\n",
    "                   \n",
    "                batch_labels[folder, int(t[folder + (batch*batch_size)].strip().split(';')[2])] = 1\n",
    "            if augment_data:\n",
    "                batch_data = np.concatenate([batch_data, batch_data_aug])\n",
    "                batch_labels = np.concatenate([batch_labels, batch_labels])\n",
    "\n",
    "            yield batch_data, batch_labels"
   ]
  },
  {
   "cell_type": "code",
   "execution_count": 7,
   "metadata": {},
   "outputs": [],
   "source": [
    "def train_model(model, train_path, train_doc, val_path, val_doc, batch_size, num_epochs, augment_data=False):\n",
    "        train_generator = generator(train_path, train_doc,batch_size, augment_data=augment_data)\n",
    "        val_generator = generator(val_path, val_doc, batch_size, augment_data=augment_data)\n",
    "        model_name = 'model_init' + '_' + str(datetime.datetime.now()).replace(' ','').replace(':','_') + '/'\n",
    "    \n",
    "        if not os.path.exists(model_name):\n",
    "            os.mkdir(model_name)\n",
    "        \n",
    "        filepath = model_name + 'model-{epoch:05d}-{loss:.5f}-{categorical_accuracy:.5f}-{val_loss:.5f}-{val_categorical_accuracy:.5f}.h5'\n",
    "\n",
    "        checkpoint = ModelCheckpoint(filepath, monitor='val_loss', verbose=1, save_best_only=False, save_weights_only=False, mode='auto', period=1)\n",
    "        LR = ReduceLROnPlateau(monitor='val_loss', factor=0.2, verbose=1, patience=4)\n",
    "        callbacks_list = [checkpoint, LR]\n",
    "\n",
    "        if (num_train_sequences%batch_size) == 0:\n",
    "            steps_per_epoch = int(num_train_sequences/batch_size)\n",
    "        else:\n",
    "            steps_per_epoch = (num_train_sequences//batch_size) + 1\n",
    "\n",
    "        if (num_val_sequences%batch_size) == 0:\n",
    "            validation_steps = int(num_val_sequences/batch_size)\n",
    "        else:\n",
    "            validation_steps = (num_val_sequences//batch_size) + 1\n",
    "    \n",
    "        history=model.fit_generator(train_generator, steps_per_epoch=steps_per_epoch, epochs=num_epochs, verbose=1, \n",
    "                            callbacks=callbacks_list, validation_data=val_generator, \n",
    "                            validation_steps=validation_steps, class_weight=None, workers=1, initial_epoch=0)\n",
    "        return history"
   ]
  },
  {
   "cell_type": "markdown",
   "metadata": {},
   "source": [
    "Note here that a video is represented above in the generator as (number of images, height, width, number of channels). Take this into consideration while creating the model architecture."
   ]
  },
  {
   "cell_type": "markdown",
   "metadata": {},
   "source": [
    "## Model\n",
    "Here you make the model using different functionalities that Keras provides. Remember to use `Conv3D` and `MaxPooling3D` and not `Conv2D` and `Maxpooling2D` for a 3D convolution model. You would want to use `TimeDistributed` while building a Conv2D + RNN model. Also remember that the last layer is the softmax. Design the network in such a way that the model is able to give good accuracy on the least number of parameters so that it can fit in the memory of the webcam."
   ]
  },
  {
   "cell_type": "code",
   "execution_count": 8,
   "metadata": {},
   "outputs": [],
   "source": [
    "input_size = (len(image_index), 120,120,channel)"
   ]
  },
  {
   "cell_type": "markdown",
   "metadata": {},
   "source": [
    "### Model-1 --  model with Conv3d layers\n",
    "Model with Conv3d layers without batch normalization after convolution layer and using batch normalization after dense layer"
   ]
  },
  {
   "cell_type": "code",
   "execution_count": 9,
   "metadata": {},
   "outputs": [
    {
     "name": "stdout",
     "output_type": "stream",
     "text": [
      "_________________________________________________________________\n",
      "Layer (type)                 Output Shape              Param #   \n",
      "=================================================================\n",
      "conv3d_1 (Conv3D)            (None, 15, 120, 120, 16)  1312      \n",
      "_________________________________________________________________\n",
      "activation_1 (Activation)    (None, 15, 120, 120, 16)  0         \n",
      "_________________________________________________________________\n",
      "max_pooling3d_1 (MaxPooling3 (None, 7, 60, 60, 16)     0         \n",
      "_________________________________________________________________\n",
      "conv3d_2 (Conv3D)            (None, 7, 60, 60, 32)     13856     \n",
      "_________________________________________________________________\n",
      "activation_2 (Activation)    (None, 7, 60, 60, 32)     0         \n",
      "_________________________________________________________________\n",
      "max_pooling3d_2 (MaxPooling3 (None, 3, 30, 30, 32)     0         \n",
      "_________________________________________________________________\n",
      "conv3d_3 (Conv3D)            (None, 3, 30, 30, 64)     55360     \n",
      "_________________________________________________________________\n",
      "activation_3 (Activation)    (None, 3, 30, 30, 64)     0         \n",
      "_________________________________________________________________\n",
      "max_pooling3d_3 (MaxPooling3 (None, 1, 15, 15, 64)     0         \n",
      "_________________________________________________________________\n",
      "conv3d_4 (Conv3D)            (None, 1, 15, 15, 128)    221312    \n",
      "_________________________________________________________________\n",
      "activation_4 (Activation)    (None, 1, 15, 15, 128)    0         \n",
      "_________________________________________________________________\n",
      "max_pooling3d_4 (MaxPooling3 (None, 1, 8, 8, 128)      0         \n",
      "_________________________________________________________________\n",
      "flatten_1 (Flatten)          (None, 8192)              0         \n",
      "_________________________________________________________________\n",
      "dense_1 (Dense)              (None, 64)                524352    \n",
      "_________________________________________________________________\n",
      "batch_normalization_1 (Batch (None, 64)                256       \n",
      "_________________________________________________________________\n",
      "dropout_1 (Dropout)          (None, 64)                0         \n",
      "_________________________________________________________________\n",
      "dense_2 (Dense)              (None, 64)                4160      \n",
      "_________________________________________________________________\n",
      "batch_normalization_2 (Batch (None, 64)                256       \n",
      "_________________________________________________________________\n",
      "dropout_2 (Dropout)          (None, 64)                0         \n",
      "_________________________________________________________________\n",
      "dense_3 (Dense)              (None, 5)                 325       \n",
      "=================================================================\n",
      "Total params: 821,189\n",
      "Trainable params: 820,933\n",
      "Non-trainable params: 256\n",
      "_________________________________________________________________\n",
      "None\n"
     ]
    }
   ],
   "source": [
    "#write your model here\n",
    "model_conv3d = Sequential()\n",
    "\n",
    "model_conv3d.add(Conv3D(16, kernel_size=(3,3,3),input_shape=input_size, padding='same'))\n",
    "model_conv3d.add(Activation('relu'))\n",
    "model_conv3d.add(MaxPooling3D(pool_size=(2, 2, 2)))\n",
    "\n",
    "model_conv3d.add(Conv3D(32, kernel_size=(3,3,3), padding='same'))\n",
    "model_conv3d.add(Activation('relu'))\n",
    "model_conv3d.add(MaxPooling3D(pool_size=(2, 2, 2)))\n",
    "\n",
    "model_conv3d.add(Conv3D(64, kernel_size=(3,3,3), padding='same'))\n",
    "model_conv3d.add(Activation('relu'))\n",
    "model_conv3d.add(MaxPooling3D(pool_size=(2, 2, 2)))\n",
    "\n",
    "model_conv3d.add(Conv3D(128, kernel_size=(3,3,3), padding='same'))\n",
    "model_conv3d.add(Activation('relu'))\n",
    "model_conv3d.add(MaxPooling3D(pool_size=(2, 2, 2), padding='same'))\n",
    "\n",
    "model_conv3d.add(Flatten())\n",
    "model_conv3d.add(Dense(64,activation='relu'))\n",
    "model_conv3d.add(BatchNormalization())\n",
    "model_conv3d.add(Dropout(0.25))\n",
    "\n",
    "model_conv3d.add(Dense(64,activation='relu'))\n",
    "model_conv3d.add(BatchNormalization())\n",
    "model_conv3d.add(Dropout(0.25))\n",
    "\n",
    "\n",
    "model_conv3d.add(Dense(no_of_classes,activation='softmax'))\n",
    "\n",
    "optimiser = Adam() #write your optimizer\n",
    "model_conv3d.compile(optimizer=optimiser, loss='categorical_crossentropy', metrics=['categorical_accuracy'])\n",
    "print (model_conv3d.summary())"
   ]
  },
  {
   "cell_type": "markdown",
   "metadata": {},
   "source": [
    "Now that you have written the model, the next step is to `compile` the model. When you print the `summary` of the model, you'll see the total number of parameters you have to train."
   ]
  },
  {
   "cell_type": "markdown",
   "metadata": {},
   "source": [
    "Let us create the `train_generator` and the `val_generator` which will be used in `.fit_generator`."
   ]
  },
  {
   "cell_type": "code",
   "execution_count": 10,
   "metadata": {},
   "outputs": [
    {
     "name": "stdout",
     "output_type": "stream",
     "text": [
      "Source path = Source path =  ./Project_data/train ; batch size = 20\n",
      " ./Project_data/val ; batch size = 20\n",
      "Epoch 1/15\n"
     ]
    },
    {
     "name": "stderr",
     "output_type": "stream",
     "text": [
      "/mnt/disks/user/anaconda3/lib/python3.6/site-packages/skimage/transform/_warps.py:105: UserWarning: The default mode, 'constant', will be changed to 'reflect' in skimage 0.15.\n",
      "  warn(\"The default mode, 'constant', will be changed to 'reflect' in \"\n",
      "/mnt/disks/user/anaconda3/lib/python3.6/site-packages/skimage/transform/_warps.py:110: UserWarning: Anti-aliasing will be enabled by default in skimage 0.15 to avoid aliasing artifacts when down-sampling images.\n",
      "  warn(\"Anti-aliasing will be enabled by default in skimage 0.15 to \"\n"
     ]
    },
    {
     "name": "stdout",
     "output_type": "stream",
     "text": [
      "32/34 [===========================>..] - ETA: 9s - loss: 1.7472 - categorical_accuracy: 0.3500 Batch:  34 Index: 20\n",
      "34/34 [==============================] - 164s 5s/step - loss: 1.7297 - categorical_accuracy: 0.3576 - val_loss: 6.9404 - val_categorical_accuracy: 0.2300\n",
      "\n",
      "Epoch 00001: saving model to model_init_2020-11-0116_17_40.971969/model-00001-1.74567-0.34992-6.94043-0.23000.h5\n",
      "Epoch 2/15\n",
      "34/34 [==============================] - 18s 521ms/step - loss: 2.1582 - categorical_accuracy: 0.2843 - val_loss: 7.0247 - val_categorical_accuracy: 0.2600\n",
      "\n",
      "Epoch 00002: saving model to model_init_2020-11-0116_17_40.971969/model-00002-2.15818-0.28431-7.02469-0.26000.h5\n",
      "Epoch 3/15\n",
      "34/34 [==============================] - 18s 516ms/step - loss: 1.9276 - categorical_accuracy: 0.2549 - val_loss: 4.9014 - val_categorical_accuracy: 0.2400\n",
      "\n",
      "Epoch 00003: saving model to model_init_2020-11-0116_17_40.971969/model-00003-1.92765-0.25490-4.90137-0.24000.h5\n",
      "Epoch 4/15\n",
      "34/34 [==============================] - 21s 609ms/step - loss: 1.7299 - categorical_accuracy: 0.2549 - val_loss: 6.6759 - val_categorical_accuracy: 0.2300\n",
      "\n",
      "Epoch 00004: saving model to model_init_2020-11-0116_17_40.971969/model-00004-1.72986-0.25490-6.67586-0.23000.h5\n",
      "Epoch 5/15\n",
      "34/34 [==============================] - 24s 707ms/step - loss: 2.1298 - categorical_accuracy: 0.2353 - val_loss: 3.9993 - val_categorical_accuracy: 0.2600\n",
      "\n",
      "Epoch 00005: saving model to model_init_2020-11-0116_17_40.971969/model-00005-2.12980-0.23529-3.99934-0.26000.h5\n",
      "Epoch 6/15\n",
      "34/34 [==============================] - 25s 733ms/step - loss: 1.7771 - categorical_accuracy: 0.3137 - val_loss: 1.9186 - val_categorical_accuracy: 0.2800\n",
      "\n",
      "Epoch 00006: saving model to model_init_2020-11-0116_17_40.971969/model-00006-1.77715-0.31373-1.91863-0.28000.h5\n",
      "Epoch 7/15\n",
      "34/34 [==============================] - 23s 683ms/step - loss: 1.6664 - categorical_accuracy: 0.3039 - val_loss: 2.0951 - val_categorical_accuracy: 0.2200\n",
      "\n",
      "Epoch 00007: saving model to model_init_2020-11-0116_17_40.971969/model-00007-1.66644-0.30392-2.09510-0.22000.h5\n",
      "Epoch 8/15\n",
      "34/34 [==============================] - 18s 526ms/step - loss: 1.6546 - categorical_accuracy: 0.3922 - val_loss: 2.0432 - val_categorical_accuracy: 0.2300\n",
      "\n",
      "Epoch 00008: saving model to model_init_2020-11-0116_17_40.971969/model-00008-1.65459-0.39216-2.04321-0.23000.h5\n",
      "Epoch 9/15\n",
      "34/34 [==============================] - 13s 381ms/step - loss: 1.7564 - categorical_accuracy: 0.2647 - val_loss: 1.6700 - val_categorical_accuracy: 0.3000\n",
      "\n",
      "Epoch 00009: saving model to model_init_2020-11-0116_17_40.971969/model-00009-1.75636-0.26471-1.67001-0.30000.h5\n",
      "Epoch 10/15\n",
      "34/34 [==============================] - 14s 426ms/step - loss: 1.8769 - categorical_accuracy: 0.2843 - val_loss: 1.7378 - val_categorical_accuracy: 0.2600\n",
      "\n",
      "Epoch 00010: saving model to model_init_2020-11-0116_17_40.971969/model-00010-1.87692-0.28431-1.73777-0.26000.h5\n",
      "Epoch 11/15\n",
      "34/34 [==============================] - 13s 395ms/step - loss: 1.7146 - categorical_accuracy: 0.2451 - val_loss: 1.9107 - val_categorical_accuracy: 0.2300\n",
      "\n",
      "Epoch 00011: saving model to model_init_2020-11-0116_17_40.971969/model-00011-1.71465-0.24510-1.91070-0.23000.h5\n",
      "Epoch 12/15\n",
      "34/34 [==============================] - 14s 422ms/step - loss: 1.6917 - categorical_accuracy: 0.3431 - val_loss: 1.5551 - val_categorical_accuracy: 0.3100\n",
      "\n",
      "Epoch 00012: saving model to model_init_2020-11-0116_17_40.971969/model-00012-1.69174-0.34314-1.55514-0.31000.h5\n",
      "Epoch 13/15\n",
      "34/34 [==============================] - 14s 404ms/step - loss: 1.5322 - categorical_accuracy: 0.3235 - val_loss: 4.2503 - val_categorical_accuracy: 0.1500\n",
      "\n",
      "Epoch 00013: saving model to model_init_2020-11-0116_17_40.971969/model-00013-1.53215-0.32353-4.25029-0.15000.h5\n",
      "Epoch 14/15\n",
      "34/34 [==============================] - 13s 395ms/step - loss: 1.6865 - categorical_accuracy: 0.3039 - val_loss: 1.9378 - val_categorical_accuracy: 0.2700\n",
      "\n",
      "Epoch 00014: saving model to model_init_2020-11-0116_17_40.971969/model-00014-1.68648-0.30392-1.93775-0.27000.h5\n",
      "Epoch 15/15\n",
      "34/34 [==============================] - 13s 393ms/step - loss: 1.6561 - categorical_accuracy: 0.2745 - val_loss: 5.1209 - val_categorical_accuracy: 0.2400\n",
      "\n",
      "Epoch 00015: saving model to model_init_2020-11-0116_17_40.971969/model-00015-1.65611-0.27451-5.12088-0.24000.h5\n"
     ]
    }
   ],
   "source": [
    "## without augmentation \n",
    "model_conv3d_history = train_model(model_conv3d,train_path,train_doc,val_path,val_doc,batch_size, num_epochs=num_epochs)"
   ]
  },
  {
   "cell_type": "code",
   "execution_count": 11,
   "metadata": {},
   "outputs": [
    {
     "name": "stdout",
     "output_type": "stream",
     "text": [
      "mean of training accuracy is 0.2952237380725646\n",
      "mean of validation accuracy is 0.24733333731691046\n"
     ]
    }
   ],
   "source": [
    "print(\"mean of training accuracy is %s\" %(np.mean(model_conv3d_history.history['categorical_accuracy'])))\n",
    "print(\"mean of validation accuracy is %s\" %(np.mean(model_conv3d_history.history['val_categorical_accuracy'])))"
   ]
  },
  {
   "cell_type": "code",
   "execution_count": 12,
   "metadata": {},
   "outputs": [
    {
     "data": {
      "image/png": "[encoded data removed]",
      "text/plain": [
       "<Figure size 432x288 with 1 Axes>"
      ]
     },
     "metadata": {},
     "output_type": "display_data"
    }
   ],
   "source": [
    "plot_graph(model_conv3d_history)"
   ]
  },
  {
   "cell_type": "code",
   "execution_count": 13,
   "metadata": {
    "scrolled": true
   },
   "outputs": [
    {
     "name": "stdout",
     "output_type": "stream",
     "text": [
      "Source path =  ./Project_data/val ; batch size = 20\n",
      "Source path =  ./Project_data/train ; batch size = 20\n",
      "Epoch 1/15\n"
     ]
    },
    {
     "name": "stderr",
     "output_type": "stream",
     "text": [
      "/mnt/disks/user/anaconda3/lib/python3.6/site-packages/skimage/transform/_warps.py:105: UserWarning: The default mode, 'constant', will be changed to 'reflect' in skimage 0.15.\n",
      "  warn(\"The default mode, 'constant', will be changed to 'reflect' in \"\n",
      "/mnt/disks/user/anaconda3/lib/python3.6/site-packages/skimage/transform/_warps.py:110: UserWarning: Anti-aliasing will be enabled by default in skimage 0.15 to avoid aliasing artifacts when down-sampling images.\n",
      "  warn(\"Anti-aliasing will be enabled by default in skimage 0.15 to \"\n"
     ]
    },
    {
     "name": "stdout",
     "output_type": "stream",
     "text": [
      "32/34 [===========================>..] - ETA: 11s - loss: 1.5805 - categorical_accuracy: 0.3266Batch:  34 Index: 20\n",
      "34/34 [==============================] - 199s 6s/step - loss: 1.5966 - categorical_accuracy: 0.3212 - val_loss: 5.7273 - val_categorical_accuracy: 0.2300\n",
      "\n",
      "Epoch 00001: saving model to model_init_2020-11-0116_24_34.309379/model-00001-1.58210-0.32504-5.72735-0.23000.h5\n",
      "Epoch 2/15\n",
      "34/34 [==============================] - 36s 1s/step - loss: 1.6551 - categorical_accuracy: 0.2451 - val_loss: 4.0949 - val_categorical_accuracy: 0.2300\n",
      "\n",
      "Epoch 00002: saving model to model_init_2020-11-0116_24_34.309379/model-00002-1.65514-0.24510-4.09494-0.23000.h5\n",
      "Epoch 3/15\n",
      "34/34 [==============================] - 37s 1s/step - loss: 1.7316 - categorical_accuracy: 0.3088 - val_loss: 3.0433 - val_categorical_accuracy: 0.2300\n",
      "\n",
      "Epoch 00003: saving model to model_init_2020-11-0116_24_34.309379/model-00003-1.73158-0.30882-3.04328-0.23000.h5\n",
      "Epoch 4/15\n",
      "34/34 [==============================] - 36s 1s/step - loss: 1.6067 - categorical_accuracy: 0.3725 - val_loss: 2.3488 - val_categorical_accuracy: 0.2400\n",
      "\n",
      "Epoch 00004: saving model to model_init_2020-11-0116_24_34.309379/model-00004-1.60665-0.37255-2.34879-0.24000.h5\n",
      "Epoch 5/15\n",
      "34/34 [==============================] - 36s 1s/step - loss: 1.7518 - categorical_accuracy: 0.2549 - val_loss: 1.8693 - val_categorical_accuracy: 0.2700\n",
      "\n",
      "Epoch 00005: saving model to model_init_2020-11-0116_24_34.309379/model-00005-1.75180-0.25490-1.86932-0.27000.h5\n",
      "Epoch 6/15\n",
      "34/34 [==============================] - 37s 1s/step - loss: 1.6738 - categorical_accuracy: 0.2745 - val_loss: 2.2887 - val_categorical_accuracy: 0.2400\n",
      "\n",
      "Epoch 00006: saving model to model_init_2020-11-0116_24_34.309379/model-00006-1.67384-0.27451-2.28867-0.24000.h5\n",
      "Epoch 7/15\n",
      "34/34 [==============================] - 38s 1s/step - loss: 1.6176 - categorical_accuracy: 0.2941 - val_loss: 3.0906 - val_categorical_accuracy: 0.2100\n",
      "\n",
      "Epoch 00007: saving model to model_init_2020-11-0116_24_34.309379/model-00007-1.61759-0.29412-3.09060-0.21000.h5\n",
      "Epoch 8/15\n",
      "34/34 [==============================] - 37s 1s/step - loss: 1.5515 - categorical_accuracy: 0.3431 - val_loss: 3.1429 - val_categorical_accuracy: 0.1700\n",
      "\n",
      "Epoch 00008: saving model to model_init_2020-11-0116_24_34.309379/model-00008-1.55151-0.34314-3.14295-0.17000.h5\n",
      "Epoch 9/15\n",
      "34/34 [==============================] - 37s 1s/step - loss: 1.6256 - categorical_accuracy: 0.2990 - val_loss: 2.4920 - val_categorical_accuracy: 0.1700\n",
      "\n",
      "Epoch 00009: saving model to model_init_2020-11-0116_24_34.309379/model-00009-1.62559-0.29902-2.49198-0.17000.h5\n",
      "\n",
      "Epoch 00009: ReduceLROnPlateau reducing learning rate to 0.00020000000949949026.\n",
      "Epoch 10/15\n",
      "34/34 [==============================] - 36s 1s/step - loss: 1.5278 - categorical_accuracy: 0.3382 - val_loss: 1.8645 - val_categorical_accuracy: 0.1900\n",
      "\n",
      "Epoch 00010: saving model to model_init_2020-11-0116_24_34.309379/model-00010-1.52775-0.33824-1.86448-0.19000.h5\n",
      "Epoch 11/15\n",
      "34/34 [==============================] - 37s 1s/step - loss: 1.6813 - categorical_accuracy: 0.2353 - val_loss: 1.5787 - val_categorical_accuracy: 0.3200\n",
      "\n",
      "Epoch 00011: saving model to model_init_2020-11-0116_24_34.309379/model-00011-1.68127-0.23529-1.57870-0.32000.h5\n",
      "Epoch 12/15\n",
      "34/34 [==============================] - 38s 1s/step - loss: 1.6411 - categorical_accuracy: 0.3235 - val_loss: 1.5068 - val_categorical_accuracy: 0.3300\n",
      "\n",
      "Epoch 00012: saving model to model_init_2020-11-0116_24_34.309379/model-00012-1.64106-0.32353-1.50683-0.33000.h5\n",
      "Epoch 13/15\n",
      "34/34 [==============================] - 37s 1s/step - loss: 1.5906 - categorical_accuracy: 0.2794 - val_loss: 1.4850 - val_categorical_accuracy: 0.3200\n",
      "\n",
      "Epoch 00013: saving model to model_init_2020-11-0116_24_34.309379/model-00013-1.59056-0.27941-1.48503-0.32000.h5\n",
      "Epoch 14/15\n",
      "34/34 [==============================] - 36s 1s/step - loss: 1.5294 - categorical_accuracy: 0.3088 - val_loss: 1.4702 - val_categorical_accuracy: 0.3600\n",
      "\n",
      "Epoch 00014: saving model to model_init_2020-11-0116_24_34.309379/model-00014-1.52936-0.30882-1.47021-0.36000.h5\n",
      "Epoch 15/15\n",
      "34/34 [==============================] - 38s 1s/step - loss: 1.5128 - categorical_accuracy: 0.3137 - val_loss: 1.4622 - val_categorical_accuracy: 0.3500\n",
      "\n",
      "Epoch 00015: saving model to model_init_2020-11-0116_24_34.309379/model-00015-1.51277-0.31373-1.46220-0.35000.h5\n"
     ]
    }
   ],
   "source": [
    "### model1 with data augmentation\n",
    "model_conv3d_history = train_model(model_conv3d,train_path,train_doc,val_path,val_doc,batch_size, num_epochs=num_epochs,augment_data=True)"
   ]
  },
  {
   "cell_type": "code",
   "execution_count": 14,
   "metadata": {},
   "outputs": [
    {
     "name": "stdout",
     "output_type": "stream",
     "text": [
      "mean of training accuracy is 0.3010809497888091\n",
      "mean of validation accuracy is 0.2573333365221819\n"
     ]
    }
   ],
   "source": [
    "print(\"mean of training accuracy is %s\" %(np.mean(model_conv3d_history.history['categorical_accuracy'])))\n",
    "print(\"mean of validation accuracy is %s\" %(np.mean(model_conv3d_history.history['val_categorical_accuracy'])))"
   ]
  },
  {
   "cell_type": "code",
   "execution_count": 15,
   "metadata": {},
   "outputs": [
    {
     "data": {
      "image/png": "[encoded data removed]",
      "text/plain": [
       "<Figure size 432x288 with 1 Axes>"
      ]
     },
     "metadata": {},
     "output_type": "display_data"
    }
   ],
   "source": [
    "plot_graph(model_conv3d_history)"
   ]
  },
  {
   "cell_type": "markdown",
   "metadata": {},
   "source": [
    "### Model-2 --  Conv3d layers and batch normalization\n",
    "Model with conv3d layers and using batch normalization layers after every conv3d layers and using dropout layers"
   ]
  },
  {
   "cell_type": "code",
   "execution_count": 16,
   "metadata": {
    "scrolled": true
   },
   "outputs": [
    {
     "name": "stdout",
     "output_type": "stream",
     "text": [
      "_________________________________________________________________\n",
      "Layer (type)                 Output Shape              Param #   \n",
      "=================================================================\n",
      "conv3d_5 (Conv3D)            (None, 15, 120, 120, 16)  1312      \n",
      "_________________________________________________________________\n",
      "activation_5 (Activation)    (None, 15, 120, 120, 16)  0         \n",
      "_________________________________________________________________\n",
      "max_pooling3d_5 (MaxPooling3 (None, 7, 60, 60, 16)     0         \n",
      "_________________________________________________________________\n",
      "batch_normalization_3 (Batch (None, 7, 60, 60, 16)     64        \n",
      "_________________________________________________________________\n",
      "conv3d_6 (Conv3D)            (None, 7, 60, 60, 32)     13856     \n",
      "_________________________________________________________________\n",
      "activation_6 (Activation)    (None, 7, 60, 60, 32)     0         \n",
      "_________________________________________________________________\n",
      "max_pooling3d_6 (MaxPooling3 (None, 3, 30, 30, 32)     0         \n",
      "_________________________________________________________________\n",
      "batch_normalization_4 (Batch (None, 3, 30, 30, 32)     128       \n",
      "_________________________________________________________________\n",
      "conv3d_7 (Conv3D)            (None, 3, 30, 30, 64)     55360     \n",
      "_________________________________________________________________\n",
      "activation_7 (Activation)    (None, 3, 30, 30, 64)     0         \n",
      "_________________________________________________________________\n",
      "max_pooling3d_7 (MaxPooling3 (None, 1, 15, 15, 64)     0         \n",
      "_________________________________________________________________\n",
      "batch_normalization_5 (Batch (None, 1, 15, 15, 64)     256       \n",
      "_________________________________________________________________\n",
      "conv3d_8 (Conv3D)            (None, 1, 15, 15, 128)    221312    \n",
      "_________________________________________________________________\n",
      "activation_8 (Activation)    (None, 1, 15, 15, 128)    0         \n",
      "_________________________________________________________________\n",
      "max_pooling3d_8 (MaxPooling3 (None, 1, 8, 8, 128)      0         \n",
      "_________________________________________________________________\n",
      "batch_normalization_6 (Batch (None, 1, 8, 8, 128)      512       \n",
      "_________________________________________________________________\n",
      "flatten_2 (Flatten)          (None, 8192)              0         \n",
      "_________________________________________________________________\n",
      "dense_4 (Dense)              (None, 64)                524352    \n",
      "_________________________________________________________________\n",
      "batch_normalization_7 (Batch (None, 64)                256       \n",
      "_________________________________________________________________\n",
      "dropout_3 (Dropout)          (None, 64)                0         \n",
      "_________________________________________________________________\n",
      "dense_5 (Dense)              (None, 64)                4160      \n",
      "_________________________________________________________________\n",
      "batch_normalization_8 (Batch (None, 64)                256       \n",
      "_________________________________________________________________\n",
      "dropout_4 (Dropout)          (None, 64)                0         \n",
      "_________________________________________________________________\n",
      "dense_6 (Dense)              (None, 5)                 325       \n",
      "=================================================================\n",
      "Total params: 822,149\n",
      "Trainable params: 821,413\n",
      "Non-trainable params: 736\n",
      "_________________________________________________________________\n",
      "None\n"
     ]
    }
   ],
   "source": [
    "#write your model here\n",
    "model_conv3d = Sequential()\n",
    "\n",
    "model_conv3d.add(Conv3D(16, kernel_size=(3,3,3),input_shape=input_size, padding='same'))\n",
    "model_conv3d.add(Activation('relu'))\n",
    "model_conv3d.add(MaxPooling3D(pool_size=(2, 2, 2)))\n",
    "model_conv3d.add(BatchNormalization())\n",
    "\n",
    "model_conv3d.add(Conv3D(32, kernel_size=(3,3,3), padding='same'))\n",
    "model_conv3d.add(Activation('relu'))\n",
    "model_conv3d.add(MaxPooling3D(pool_size=(2, 2, 2)))\n",
    "model_conv3d.add(BatchNormalization())\n",
    "\n",
    "model_conv3d.add(Conv3D(64, kernel_size=(3,3,3), padding='same'))\n",
    "model_conv3d.add(Activation('relu'))\n",
    "model_conv3d.add(MaxPooling3D(pool_size=(2, 2, 2)))\n",
    "model_conv3d.add(BatchNormalization())\n",
    "\n",
    "model_conv3d.add(Conv3D(128, kernel_size=(3,3,3), padding='same'))\n",
    "model_conv3d.add(Activation('relu'))\n",
    "model_conv3d.add(MaxPooling3D(pool_size=(2, 2, 2), padding='same'))\n",
    "model_conv3d.add(BatchNormalization())\n",
    "\n",
    "model_conv3d.add(Flatten())\n",
    "model_conv3d.add(Dense(64,activation='relu'))\n",
    "model_conv3d.add(BatchNormalization())\n",
    "model_conv3d.add(Dropout(0.25))\n",
    "\n",
    "model_conv3d.add(Dense(64,activation='relu'))\n",
    "model_conv3d.add(BatchNormalization())\n",
    "model_conv3d.add(Dropout(0.25))\n",
    "\n",
    "\n",
    "model_conv3d.add(Dense(no_of_classes,activation='softmax'))\n",
    "\n",
    "optimiser = Adam() #write your optimizer\n",
    "model_conv3d.compile(optimizer=optimiser, loss='categorical_crossentropy', metrics=['categorical_accuracy'])\n",
    "print (model_conv3d.summary())"
   ]
  },
  {
   "cell_type": "code",
   "execution_count": 17,
   "metadata": {},
   "outputs": [
    {
     "name": "stdout",
     "output_type": "stream",
     "text": [
      "Source path =  ./Project_data/val ; batch size = 20\n",
      "Source path =  ./Project_data/trainEpoch 1/15 ; batch size = 20\n",
      "\n"
     ]
    },
    {
     "name": "stderr",
     "output_type": "stream",
     "text": [
      "/mnt/disks/user/anaconda3/lib/python3.6/site-packages/skimage/transform/_warps.py:105: UserWarning: The default mode, 'constant', will be changed to 'reflect' in skimage 0.15.\n",
      "  warn(\"The default mode, 'constant', will be changed to 'reflect' in \"\n",
      "/mnt/disks/user/anaconda3/lib/python3.6/site-packages/skimage/transform/_warps.py:110: UserWarning: Anti-aliasing will be enabled by default in skimage 0.15 to avoid aliasing artifacts when down-sampling images.\n",
      "  warn(\"Anti-aliasing will be enabled by default in skimage 0.15 to \"\n"
     ]
    },
    {
     "name": "stdout",
     "output_type": "stream",
     "text": [
      "32/34 [===========================>..] - ETA: 11s - loss: 1.6034 - categorical_accuracy: 0.3906Batch:  34 Index: 20\n",
      "34/34 [==============================] - 197s 6s/step - loss: 1.6037 - categorical_accuracy: 0.3819 - val_loss: 7.7543 - val_categorical_accuracy: 0.2600\n",
      "\n",
      "Epoch 00001: saving model to model_init_2020-11-0116_36_34.618482/model-00001-1.59053-0.39140-7.75434-0.26000.h5\n",
      "Epoch 2/15\n",
      "34/34 [==============================] - 36s 1s/step - loss: 1.7905 - categorical_accuracy: 0.3333 - val_loss: 8.5337 - val_categorical_accuracy: 0.2800\n",
      "\n",
      "Epoch 00002: saving model to model_init_2020-11-0116_36_34.618482/model-00002-1.79045-0.33333-8.53367-0.28000.h5\n",
      "Epoch 3/15\n",
      "34/34 [==============================] - 36s 1s/step - loss: 2.2196 - categorical_accuracy: 0.2108 - val_loss: 4.8478 - val_categorical_accuracy: 0.2300\n",
      "\n",
      "Epoch 00003: saving model to model_init_2020-11-0116_36_34.618482/model-00003-2.21962-0.21078-4.84775-0.23000.h5\n",
      "Epoch 4/15\n",
      "34/34 [==============================] - 37s 1s/step - loss: 1.8949 - categorical_accuracy: 0.2892 - val_loss: 9.2806 - val_categorical_accuracy: 0.3000\n",
      "\n",
      "Epoch 00004: saving model to model_init_2020-11-0116_36_34.618482/model-00004-1.89490-0.28922-9.28057-0.30000.h5\n",
      "Epoch 5/15\n",
      "34/34 [==============================] - 37s 1s/step - loss: 1.9113 - categorical_accuracy: 0.3382 - val_loss: 9.9378 - val_categorical_accuracy: 0.2500\n",
      "\n",
      "Epoch 00005: saving model to model_init_2020-11-0116_36_34.618482/model-00005-1.91134-0.33824-9.93779-0.25000.h5\n",
      "Epoch 6/15\n",
      "34/34 [==============================] - 37s 1s/step - loss: 1.8423 - categorical_accuracy: 0.2549 - val_loss: 11.6065 - val_categorical_accuracy: 0.2800\n",
      "\n",
      "Epoch 00006: saving model to model_init_2020-11-0116_36_34.618482/model-00006-1.84235-0.25490-11.60650-0.28000.h5\n",
      "Epoch 7/15\n",
      "34/34 [==============================] - 37s 1s/step - loss: 1.6755 - categorical_accuracy: 0.2941 - val_loss: 11.8314 - val_categorical_accuracy: 0.2600\n",
      "\n",
      "Epoch 00007: saving model to model_init_2020-11-0116_36_34.618482/model-00007-1.67548-0.29412-11.83136-0.26000.h5\n",
      "\n",
      "Epoch 00007: ReduceLROnPlateau reducing learning rate to 0.00020000000949949026.\n",
      "Epoch 8/15\n",
      "34/34 [==============================] - 37s 1s/step - loss: 1.6510 - categorical_accuracy: 0.3333 - val_loss: 7.0548 - val_categorical_accuracy: 0.2600\n",
      "\n",
      "Epoch 00008: saving model to model_init_2020-11-0116_36_34.618482/model-00008-1.65096-0.33333-7.05478-0.26000.h5\n",
      "Epoch 9/15\n",
      "34/34 [==============================] - 37s 1s/step - loss: 1.6873 - categorical_accuracy: 0.3284 - val_loss: 3.4962 - val_categorical_accuracy: 0.2800\n",
      "\n",
      "Epoch 00009: saving model to model_init_2020-11-0116_36_34.618482/model-00009-1.68725-0.32843-3.49615-0.28000.h5\n",
      "Epoch 10/15\n",
      "34/34 [==============================] - 35s 1s/step - loss: 1.6980 - categorical_accuracy: 0.3382 - val_loss: 2.3892 - val_categorical_accuracy: 0.3100\n",
      "\n",
      "Epoch 00010: saving model to model_init_2020-11-0116_36_34.618482/model-00010-1.69798-0.33824-2.38920-0.31000.h5\n",
      "Epoch 11/15\n",
      "34/34 [==============================] - 36s 1s/step - loss: 1.7084 - categorical_accuracy: 0.2941 - val_loss: 1.8385 - val_categorical_accuracy: 0.4400\n",
      "\n",
      "Epoch 00011: saving model to model_init_2020-11-0116_36_34.618482/model-00011-1.70838-0.29412-1.83854-0.44000.h5\n",
      "Epoch 12/15\n",
      "34/34 [==============================] - 37s 1s/step - loss: 1.6590 - categorical_accuracy: 0.3382 - val_loss: 1.6038 - val_categorical_accuracy: 0.4200\n",
      "\n",
      "Epoch 00012: saving model to model_init_2020-11-0116_36_34.618482/model-00012-1.65898-0.33824-1.60384-0.42000.h5\n",
      "Epoch 13/15\n",
      "34/34 [==============================] - 38s 1s/step - loss: 1.6728 - categorical_accuracy: 0.3333 - val_loss: 1.5605 - val_categorical_accuracy: 0.4500\n",
      "\n",
      "Epoch 00013: saving model to model_init_2020-11-0116_36_34.618482/model-00013-1.67282-0.33333-1.56053-0.45000.h5\n",
      "Epoch 14/15\n",
      "34/34 [==============================] - 36s 1s/step - loss: 1.7076 - categorical_accuracy: 0.3039 - val_loss: 1.4869 - val_categorical_accuracy: 0.4500\n",
      "\n",
      "Epoch 00014: saving model to model_init_2020-11-0116_36_34.618482/model-00014-1.70762-0.30392-1.48694-0.45000.h5\n",
      "Epoch 15/15\n",
      "34/34 [==============================] - 38s 1s/step - loss: 1.5607 - categorical_accuracy: 0.3333 - val_loss: 1.3638 - val_categorical_accuracy: 0.4800\n",
      "\n",
      "Epoch 00015: saving model to model_init_2020-11-0116_36_34.618482/model-00015-1.56071-0.33333-1.36385-0.48000.h5\n"
     ]
    }
   ],
   "source": [
    "model_conv3d_history = train_model(model_conv3d,train_path,train_doc,val_path,val_doc,batch_size, num_epochs=num_epochs, augment_data=True)"
   ]
  },
  {
   "cell_type": "code",
   "execution_count": 18,
   "metadata": {},
   "outputs": [
    {
     "name": "stdout",
     "output_type": "stream",
     "text": [
      "mean of training accuracy is 0.3143288135693384\n",
      "mean of validation accuracy is 0.33000000208616254\n"
     ]
    }
   ],
   "source": [
    "print(\"mean of training accuracy is %s\" %(np.mean(model_conv3d_history.history['categorical_accuracy'])))\n",
    "print(\"mean of validation accuracy is %s\" %(np.mean(model_conv3d_history.history['val_categorical_accuracy'])))"
   ]
  },
  {
   "cell_type": "code",
   "execution_count": 19,
   "metadata": {},
   "outputs": [
    {
     "data": {
      "image/png": "[encoded data removed]",
      "text/plain": [
       "<Figure size 432x288 with 1 Axes>"
      ]
     },
     "metadata": {},
     "output_type": "display_data"
    }
   ],
   "source": [
    "plot_graph(model_conv3d_history)"
   ]
  },
  {
   "cell_type": "markdown",
   "metadata": {},
   "source": [
    "### Model-3 --  Conv3d layers without batchnormalization layer and dropout layer\n",
    "Model with only conv3d layers"
   ]
  },
  {
   "cell_type": "code",
   "execution_count": 20,
   "metadata": {},
   "outputs": [
    {
     "name": "stdout",
     "output_type": "stream",
     "text": [
      "_________________________________________________________________\n",
      "Layer (type)                 Output Shape              Param #   \n",
      "=================================================================\n",
      "conv3d_9 (Conv3D)            (None, 15, 120, 120, 16)  1312      \n",
      "_________________________________________________________________\n",
      "activation_9 (Activation)    (None, 15, 120, 120, 16)  0         \n",
      "_________________________________________________________________\n",
      "max_pooling3d_9 (MaxPooling3 (None, 7, 60, 60, 16)     0         \n",
      "_________________________________________________________________\n",
      "conv3d_10 (Conv3D)           (None, 7, 60, 60, 32)     13856     \n",
      "_________________________________________________________________\n",
      "activation_10 (Activation)   (None, 7, 60, 60, 32)     0         \n",
      "_________________________________________________________________\n",
      "max_pooling3d_10 (MaxPooling (None, 3, 30, 30, 32)     0         \n",
      "_________________________________________________________________\n",
      "conv3d_11 (Conv3D)           (None, 3, 30, 30, 64)     55360     \n",
      "_________________________________________________________________\n",
      "activation_11 (Activation)   (None, 3, 30, 30, 64)     0         \n",
      "_________________________________________________________________\n",
      "max_pooling3d_11 (MaxPooling (None, 1, 15, 15, 64)     0         \n",
      "_________________________________________________________________\n",
      "conv3d_12 (Conv3D)           (None, 1, 15, 15, 128)    221312    \n",
      "_________________________________________________________________\n",
      "activation_12 (Activation)   (None, 1, 15, 15, 128)    0         \n",
      "_________________________________________________________________\n",
      "max_pooling3d_12 (MaxPooling (None, 1, 8, 8, 128)      0         \n",
      "_________________________________________________________________\n",
      "flatten_3 (Flatten)          (None, 8192)              0         \n",
      "_________________________________________________________________\n",
      "dense_7 (Dense)              (None, 5)                 40965     \n",
      "=================================================================\n",
      "Total params: 332,805\n",
      "Trainable params: 332,805\n",
      "Non-trainable params: 0\n",
      "_________________________________________________________________\n",
      "None\n"
     ]
    }
   ],
   "source": [
    "#write your model here\n",
    "model_conv3d = Sequential()\n",
    "\n",
    "model_conv3d.add(Conv3D(16, kernel_size=(3,3,3),input_shape=input_size, padding='same'))\n",
    "model_conv3d.add(Activation('relu'))\n",
    "model_conv3d.add(MaxPooling3D(pool_size=(2, 2, 2)))\n",
    "\n",
    "model_conv3d.add(Conv3D(32, kernel_size=(3,3,3), padding='same'))\n",
    "model_conv3d.add(Activation('relu'))\n",
    "model_conv3d.add(MaxPooling3D(pool_size=(2, 2, 2)))\n",
    "\n",
    "model_conv3d.add(Conv3D(64, kernel_size=(3,3,3), padding='same'))\n",
    "model_conv3d.add(Activation('relu'))\n",
    "model_conv3d.add(MaxPooling3D(pool_size=(2, 2, 2)))\n",
    "\n",
    "model_conv3d.add(Conv3D(128, kernel_size=(3,3,3), padding='same'))\n",
    "model_conv3d.add(Activation('relu'))\n",
    "model_conv3d.add(MaxPooling3D(pool_size=(2, 2, 2), padding='same'))\n",
    "\n",
    "model_conv3d.add(Flatten())\n",
    "model_conv3d.add(Dense(no_of_classes,activation='softmax'))\n",
    "\n",
    "optimiser = Adam() #write your optimizer\n",
    "model_conv3d.compile(optimizer=optimiser, loss='categorical_crossentropy', metrics=['categorical_accuracy'])\n",
    "print (model_conv3d.summary())"
   ]
  },
  {
   "cell_type": "code",
   "execution_count": 21,
   "metadata": {},
   "outputs": [
    {
     "name": "stdout",
     "output_type": "stream",
     "text": [
      "Source path = Source path =  ./Project_data/train ; batch size = 20\n",
      " ./Project_data/val ; batch size = 20\n",
      "Epoch 1/15\n"
     ]
    },
    {
     "name": "stderr",
     "output_type": "stream",
     "text": [
      "/mnt/disks/user/anaconda3/lib/python3.6/site-packages/skimage/transform/_warps.py:105: UserWarning: The default mode, 'constant', will be changed to 'reflect' in skimage 0.15.\n",
      "  warn(\"The default mode, 'constant', will be changed to 'reflect' in \"\n",
      "/mnt/disks/user/anaconda3/lib/python3.6/site-packages/skimage/transform/_warps.py:110: UserWarning: Anti-aliasing will be enabled by default in skimage 0.15 to avoid aliasing artifacts when down-sampling images.\n",
      "  warn(\"Anti-aliasing will be enabled by default in skimage 0.15 to \"\n"
     ]
    },
    {
     "name": "stdout",
     "output_type": "stream",
     "text": [
      "32/34 [===========================>..] - ETA: 11s - loss: 1.6041 - categorical_accuracy: 0.2078Batch:  34 Index: 20\n",
      "34/34 [==============================] - 190s 6s/step - loss: 1.6090 - categorical_accuracy: 0.2068 - val_loss: 1.5477 - val_categorical_accuracy: 0.1700\n",
      "\n",
      "Epoch 00001: saving model to model_init_2020-11-0116_48_35.925639/model-00001-1.60652-0.20362-1.54775-0.17000.h5\n",
      "Epoch 2/15\n",
      "34/34 [==============================] - 35s 1s/step - loss: 1.6140 - categorical_accuracy: 0.1667 - val_loss: 1.6115 - val_categorical_accuracy: 0.2100\n",
      "\n",
      "Epoch 00002: saving model to model_init_2020-11-0116_48_35.925639/model-00002-1.61397-0.16667-1.61148-0.21000.h5\n",
      "Epoch 3/15\n",
      "34/34 [==============================] - 36s 1s/step - loss: 1.6089 - categorical_accuracy: 0.1765 - val_loss: 1.6106 - val_categorical_accuracy: 0.1600\n",
      "\n",
      "Epoch 00003: saving model to model_init_2020-11-0116_48_35.925639/model-00003-1.60895-0.17647-1.61058-0.16000.h5\n",
      "Epoch 4/15\n",
      "34/34 [==============================] - 37s 1s/step - loss: 1.6124 - categorical_accuracy: 0.1863 - val_loss: 1.6083 - val_categorical_accuracy: 0.2200\n",
      "\n",
      "Epoch 00004: saving model to model_init_2020-11-0116_48_35.925639/model-00004-1.61242-0.18627-1.60831-0.22000.h5\n",
      "Epoch 5/15\n",
      "34/34 [==============================] - 37s 1s/step - loss: 1.5882 - categorical_accuracy: 0.2647 - val_loss: 1.5951 - val_categorical_accuracy: 0.2300\n",
      "\n",
      "Epoch 00005: saving model to model_init_2020-11-0116_48_35.925639/model-00005-1.58825-0.26471-1.59507-0.23000.h5\n",
      "\n",
      "Epoch 00005: ReduceLROnPlateau reducing learning rate to 0.00020000000949949026.\n",
      "Epoch 6/15\n",
      "34/34 [==============================] - 37s 1s/step - loss: 1.6079 - categorical_accuracy: 0.2353 - val_loss: 1.5882 - val_categorical_accuracy: 0.2300\n",
      "\n",
      "Epoch 00006: saving model to model_init_2020-11-0116_48_35.925639/model-00006-1.60793-0.23529-1.58820-0.23000.h5\n",
      "Epoch 7/15\n",
      "34/34 [==============================] - 37s 1s/step - loss: 1.5982 - categorical_accuracy: 0.1961 - val_loss: 1.5680 - val_categorical_accuracy: 0.2300\n",
      "\n",
      "Epoch 00007: saving model to model_init_2020-11-0116_48_35.925639/model-00007-1.59821-0.19608-1.56800-0.23000.h5\n",
      "Epoch 8/15\n",
      "34/34 [==============================] - 36s 1s/step - loss: 1.5627 - categorical_accuracy: 0.1863 - val_loss: 1.4929 - val_categorical_accuracy: 0.2300\n",
      "\n",
      "Epoch 00008: saving model to model_init_2020-11-0116_48_35.925639/model-00008-1.56268-0.18627-1.49292-0.23000.h5\n",
      "Epoch 9/15\n",
      "34/34 [==============================] - 36s 1s/step - loss: 1.5222 - categorical_accuracy: 0.2255 - val_loss: 1.4637 - val_categorical_accuracy: 0.3100\n",
      "\n",
      "Epoch 00009: saving model to model_init_2020-11-0116_48_35.925639/model-00009-1.52223-0.22549-1.46366-0.31000.h5\n",
      "Epoch 10/15\n",
      "34/34 [==============================] - 36s 1s/step - loss: 1.4368 - categorical_accuracy: 0.3137 - val_loss: 1.4227 - val_categorical_accuracy: 0.2500\n",
      "\n",
      "Epoch 00010: saving model to model_init_2020-11-0116_48_35.925639/model-00010-1.43676-0.31373-1.42274-0.25000.h5\n",
      "Epoch 11/15\n",
      "34/34 [==============================] - 37s 1s/step - loss: 1.4615 - categorical_accuracy: 0.2843 - val_loss: 1.4344 - val_categorical_accuracy: 0.4200\n",
      "\n",
      "Epoch 00011: saving model to model_init_2020-11-0116_48_35.925639/model-00011-1.46152-0.28431-1.43436-0.42000.h5\n",
      "Epoch 12/15\n",
      "34/34 [==============================] - 37s 1s/step - loss: 1.4542 - categorical_accuracy: 0.3824 - val_loss: 1.4058 - val_categorical_accuracy: 0.3900\n",
      "\n",
      "Epoch 00012: saving model to model_init_2020-11-0116_48_35.925639/model-00012-1.45418-0.38235-1.40583-0.39000.h5\n",
      "Epoch 13/15\n",
      "34/34 [==============================] - 38s 1s/step - loss: 1.4431 - categorical_accuracy: 0.3333 - val_loss: 1.4289 - val_categorical_accuracy: 0.3700\n",
      "\n",
      "Epoch 00013: saving model to model_init_2020-11-0116_48_35.925639/model-00013-1.44308-0.33333-1.42888-0.37000.h5\n",
      "Epoch 14/15\n",
      "34/34 [==============================] - 37s 1s/step - loss: 1.4817 - categorical_accuracy: 0.3431 - val_loss: 1.3241 - val_categorical_accuracy: 0.4400\n",
      "\n",
      "Epoch 00014: saving model to model_init_2020-11-0116_48_35.925639/model-00014-1.48173-0.34314-1.32407-0.44000.h5\n",
      "Epoch 15/15\n",
      "34/34 [==============================] - 36s 1s/step - loss: 1.3125 - categorical_accuracy: 0.4118 - val_loss: 1.2645 - val_categorical_accuracy: 0.4900\n",
      "\n",
      "Epoch 00015: saving model to model_init_2020-11-0116_48_35.925639/model-00015-1.31245-0.41176-1.26454-0.49000.h5\n"
     ]
    }
   ],
   "source": [
    "model_conv3d_history = train_model(model_conv3d,train_path,train_doc,val_path,val_doc,batch_size, num_epochs=num_epochs,augment_data=True)"
   ]
  },
  {
   "cell_type": "code",
   "execution_count": 22,
   "metadata": {},
   "outputs": [
    {
     "name": "stdout",
     "output_type": "stream",
     "text": [
      "mean of training accuracy is 0.2606334910343615\n",
      "mean of validation accuracy is 0.2900000017384688\n"
     ]
    }
   ],
   "source": [
    "print(\"mean of training accuracy is %s\" %(np.mean(model_conv3d_history.history['categorical_accuracy'])))\n",
    "print(\"mean of validation accuracy is %s\" %(np.mean(model_conv3d_history.history['val_categorical_accuracy'])))"
   ]
  },
  {
   "cell_type": "code",
   "execution_count": 23,
   "metadata": {},
   "outputs": [
    {
     "data": {
      "image/png": "[encoded data removed]",
      "text/plain": [
       "<Figure size 432x288 with 1 Axes>"
      ]
     },
     "metadata": {},
     "output_type": "display_data"
    }
   ],
   "source": [
    "plot_graph(model_conv3d_history)"
   ]
  },
  {
   "cell_type": "markdown",
   "metadata": {},
   "source": [
    "### Model-4 -- transfer learning with VGG16 and LSTM\n",
    "\n",
    "using existing model VGG16 with RNN model (LSTM)"
   ]
  },
  {
   "cell_type": "code",
   "execution_count": 24,
   "metadata": {},
   "outputs": [
    {
     "name": "stdout",
     "output_type": "stream",
     "text": [
      "Downloading data from https://github.com/fchollet/deep-learning-models/releases/download/v0.1/vgg16_weights_tf_dim_ordering_tf_kernels_notop.h5\n",
      "58892288/58889256 [==============================] - 5s 0us/step\n",
      "_________________________________________________________________\n",
      "Layer (type)                 Output Shape              Param #   \n",
      "=================================================================\n",
      "time_distributed_1 (TimeDist (None, 15, 3, 3, 512)     14714688  \n",
      "_________________________________________________________________\n",
      "time_distributed_2 (TimeDist (None, 15, 3, 3, 512)     2048      \n",
      "_________________________________________________________________\n",
      "time_distributed_3 (TimeDist (None, 15, 1, 1, 512)     0         \n",
      "_________________________________________________________________\n",
      "time_distributed_4 (TimeDist (None, 15, 512)           0         \n",
      "_________________________________________________________________\n",
      "lstm_1 (LSTM)                (None, 128)               328192    \n",
      "_________________________________________________________________\n",
      "dropout_5 (Dropout)          (None, 128)               0         \n",
      "_________________________________________________________________\n",
      "dense_8 (Dense)              (None, 128)               16512     \n",
      "_________________________________________________________________\n",
      "dropout_6 (Dropout)          (None, 128)               0         \n",
      "_________________________________________________________________\n",
      "dense_9 (Dense)              (None, 5)                 645       \n",
      "=================================================================\n",
      "Total params: 15,062,085\n",
      "Trainable params: 346,373\n",
      "Non-trainable params: 14,715,712\n",
      "_________________________________________________________________\n",
      "None\n"
     ]
    }
   ],
   "source": [
    "vgg16_transfer = VGG16(weights=\"imagenet\", include_top=False)\n",
    "model_vgg16 = Sequential()\n",
    "model_vgg16.add(TimeDistributed(vgg16_transfer, input_shape=input_size))\n",
    "for layer in model_vgg16.layers:\n",
    "    layer.trainable = False\n",
    "model_vgg16.add(TimeDistributed(BatchNormalization()))\n",
    "model_vgg16.add(TimeDistributed(MaxPooling2D((2, 2))))\n",
    "model_vgg16.add(TimeDistributed(Flatten()))\n",
    "\n",
    "model_vgg16.add(LSTM(128))\n",
    "model_vgg16.add(Dropout(0.5))\n",
    "\n",
    "model_vgg16.add(Dense(128,activation='relu'))\n",
    "model_vgg16.add(Dropout(0.25))\n",
    "\n",
    "model_vgg16.add(Dense(no_of_classes, activation='softmax'))\n",
    "\n",
    "\n",
    "optimiser = optimizers.Adam()\n",
    "model_vgg16.compile(optimizer=optimiser, loss='categorical_crossentropy', metrics=['categorical_accuracy'])\n",
    "print(model_vgg16.summary())"
   ]
  },
  {
   "cell_type": "code",
   "execution_count": 25,
   "metadata": {
    "scrolled": true
   },
   "outputs": [
    {
     "name": "stdout",
     "output_type": "stream",
     "text": [
      "Source path =  ./Project_data/val ; batch size = 20\n",
      "Source path =  ./Project_data/train ; batch size = 20\n",
      "Epoch 1/15\n"
     ]
    },
    {
     "name": "stderr",
     "output_type": "stream",
     "text": [
      "/mnt/disks/user/anaconda3/lib/python3.6/site-packages/skimage/transform/_warps.py:105: UserWarning: The default mode, 'constant', will be changed to 'reflect' in skimage 0.15.\n",
      "  warn(\"The default mode, 'constant', will be changed to 'reflect' in \"\n",
      "/mnt/disks/user/anaconda3/lib/python3.6/site-packages/skimage/transform/_warps.py:110: UserWarning: Anti-aliasing will be enabled by default in skimage 0.15 to avoid aliasing artifacts when down-sampling images.\n",
      "  warn(\"Anti-aliasing will be enabled by default in skimage 0.15 to \"\n"
     ]
    },
    {
     "name": "stdout",
     "output_type": "stream",
     "text": [
      "32/34 [===========================>..] - ETA: 12s - loss: 1.6153 - categorical_accuracy: 0.2586Batch:  34 Index: 20\n",
      "34/34 [==============================] - 221s 6s/step - loss: 1.5998 - categorical_accuracy: 0.2804 - val_loss: 1.4487 - val_categorical_accuracy: 0.4200\n",
      "\n",
      "Epoch 00001: saving model to model_init_2020-11-0117_00_34.946142/model-00001-1.61300-0.26244-1.44867-0.42000.h5\n",
      "Epoch 2/15\n",
      "34/34 [==============================] - 36s 1s/step - loss: 1.4687 - categorical_accuracy: 0.4069 - val_loss: 1.3621 - val_categorical_accuracy: 0.4600\n",
      "\n",
      "Epoch 00002: saving model to model_init_2020-11-0117_00_34.946142/model-00002-1.46870-0.40686-1.36212-0.46000.h5\n",
      "Epoch 3/15\n",
      "34/34 [==============================] - 39s 1s/step - loss: 1.5464 - categorical_accuracy: 0.3480 - val_loss: 1.3521 - val_categorical_accuracy: 0.4900\n",
      "\n",
      "Epoch 00003: saving model to model_init_2020-11-0117_00_34.946142/model-00003-1.54641-0.34804-1.35213-0.49000.h5\n",
      "Epoch 4/15\n",
      "34/34 [==============================] - 39s 1s/step - loss: 1.4225 - categorical_accuracy: 0.4020 - val_loss: 1.2498 - val_categorical_accuracy: 0.5600\n",
      "\n",
      "Epoch 00004: saving model to model_init_2020-11-0117_00_34.946142/model-00004-1.42251-0.40196-1.24975-0.56000.h5\n",
      "Epoch 5/15\n",
      "34/34 [==============================] - 39s 1s/step - loss: 1.5131 - categorical_accuracy: 0.3529 - val_loss: 1.3303 - val_categorical_accuracy: 0.4400\n",
      "\n",
      "Epoch 00005: saving model to model_init_2020-11-0117_00_34.946142/model-00005-1.51314-0.35294-1.33026-0.44000.h5\n",
      "Epoch 6/15\n",
      "34/34 [==============================] - 39s 1s/step - loss: 1.4535 - categorical_accuracy: 0.4167 - val_loss: 1.2601 - val_categorical_accuracy: 0.5100\n",
      "\n",
      "Epoch 00006: saving model to model_init_2020-11-0117_00_34.946142/model-00006-1.45346-0.41667-1.26011-0.51000.h5\n",
      "Epoch 7/15\n",
      "34/34 [==============================] - 40s 1s/step - loss: 1.3552 - categorical_accuracy: 0.3775 - val_loss: 1.1911 - val_categorical_accuracy: 0.5400\n",
      "\n",
      "Epoch 00007: saving model to model_init_2020-11-0117_00_34.946142/model-00007-1.35525-0.37745-1.19107-0.54000.h5\n",
      "Epoch 8/15\n",
      "34/34 [==============================] - 39s 1s/step - loss: 1.2520 - categorical_accuracy: 0.4608 - val_loss: 1.3112 - val_categorical_accuracy: 0.4500\n",
      "\n",
      "Epoch 00008: saving model to model_init_2020-11-0117_00_34.946142/model-00008-1.25195-0.46078-1.31124-0.45000.h5\n",
      "Epoch 9/15\n",
      "34/34 [==============================] - 39s 1s/step - loss: 1.1583 - categorical_accuracy: 0.5539 - val_loss: 1.3042 - val_categorical_accuracy: 0.4800\n",
      "\n",
      "Epoch 00009: saving model to model_init_2020-11-0117_00_34.946142/model-00009-1.15826-0.55392-1.30416-0.48000.h5\n",
      "Epoch 10/15\n",
      "34/34 [==============================] - 38s 1s/step - loss: 1.2200 - categorical_accuracy: 0.5294 - val_loss: 1.1263 - val_categorical_accuracy: 0.5600\n",
      "\n",
      "Epoch 00010: saving model to model_init_2020-11-0117_00_34.946142/model-00010-1.22003-0.52941-1.12629-0.56000.h5\n",
      "Epoch 11/15\n",
      "34/34 [==============================] - 39s 1s/step - loss: 1.3769 - categorical_accuracy: 0.3971 - val_loss: 1.1611 - val_categorical_accuracy: 0.5200\n",
      "\n",
      "Epoch 00011: saving model to model_init_2020-11-0117_00_34.946142/model-00011-1.37690-0.39706-1.16113-0.52000.h5\n",
      "Epoch 12/15\n",
      "34/34 [==============================] - 39s 1s/step - loss: 1.1524 - categorical_accuracy: 0.5686 - val_loss: 1.1050 - val_categorical_accuracy: 0.5500\n",
      "\n",
      "Epoch 00012: saving model to model_init_2020-11-0117_00_34.946142/model-00012-1.15244-0.56863-1.10503-0.55000.h5\n",
      "Epoch 13/15\n",
      "34/34 [==============================] - 39s 1s/step - loss: 1.3981 - categorical_accuracy: 0.3922 - val_loss: 1.2103 - val_categorical_accuracy: 0.5100\n",
      "\n",
      "Epoch 00013: saving model to model_init_2020-11-0117_00_34.946142/model-00013-1.39813-0.39216-1.21035-0.51000.h5\n",
      "Epoch 14/15\n",
      "34/34 [==============================] - 39s 1s/step - loss: 1.4221 - categorical_accuracy: 0.3725 - val_loss: 1.1290 - val_categorical_accuracy: 0.5500\n",
      "\n",
      "Epoch 00014: saving model to model_init_2020-11-0117_00_34.946142/model-00014-1.42207-0.37255-1.12905-0.55000.h5\n",
      "Epoch 15/15\n",
      "34/34 [==============================] - 40s 1s/step - loss: 1.0185 - categorical_accuracy: 0.5784 - val_loss: 1.0881 - val_categorical_accuracy: 0.5500\n",
      "\n",
      "Epoch 00015: saving model to model_init_2020-11-0117_00_34.946142/model-00015-1.01846-0.57843-1.08811-0.55000.h5\n"
     ]
    }
   ],
   "source": [
    "model_vgg16_history = train_model(model_vgg16,train_path,train_doc,val_path,val_doc,batch_size, num_epochs=num_epochs, augment_data=True)"
   ]
  },
  {
   "cell_type": "code",
   "execution_count": 37,
   "metadata": {},
   "outputs": [
    {
     "name": "stdout",
     "output_type": "stream",
     "text": [
      "mean of training accuracy is 0.427953750256949\n",
      "mean of validation accuracy is 0.5060000038146972\n"
     ]
    }
   ],
   "source": [
    "print(\"mean of training accuracy is %s\" %(np.mean(model_vgg16_history.history['categorical_accuracy'])))\n",
    "print(\"mean of validation accuracy is %s\" %(np.mean(model_vgg16_history.history['val_categorical_accuracy'])))"
   ]
  },
  {
   "cell_type": "code",
   "execution_count": 27,
   "metadata": {},
   "outputs": [
    {
     "data": {
      "image/png": "[encoded data removed]",
      "text/plain": [
       "<Figure size 432x288 with 1 Axes>"
      ]
     },
     "metadata": {},
     "output_type": "display_data"
    }
   ],
   "source": [
    "plot_graph(model_vgg16_history)"
   ]
  },
  {
   "cell_type": "markdown",
   "metadata": {},
   "source": [
    "### Model-5 -- transfer learning with VGG16 and GRU\n",
    "using existing predefined model VGG16 with RNN (GRU)"
   ]
  },
  {
   "cell_type": "code",
   "execution_count": 28,
   "metadata": {},
   "outputs": [
    {
     "name": "stdout",
     "output_type": "stream",
     "text": [
      "_________________________________________________________________\n",
      "Layer (type)                 Output Shape              Param #   \n",
      "=================================================================\n",
      "time_distributed_5 (TimeDist (None, 15, 3, 3, 512)     14714688  \n",
      "_________________________________________________________________\n",
      "time_distributed_6 (TimeDist (None, 15, 3, 3, 512)     2048      \n",
      "_________________________________________________________________\n",
      "time_distributed_7 (TimeDist (None, 15, 1, 1, 512)     0         \n",
      "_________________________________________________________________\n",
      "time_distributed_8 (TimeDist (None, 15, 512)           0         \n",
      "_________________________________________________________________\n",
      "gru_1 (GRU)                  (None, 128)               246144    \n",
      "_________________________________________________________________\n",
      "dropout_7 (Dropout)          (None, 128)               0         \n",
      "_________________________________________________________________\n",
      "dense_10 (Dense)             (None, 128)               16512     \n",
      "_________________________________________________________________\n",
      "dropout_8 (Dropout)          (None, 128)               0         \n",
      "_________________________________________________________________\n",
      "dense_11 (Dense)             (None, 5)                 645       \n",
      "=================================================================\n",
      "Total params: 14,980,037\n",
      "Trainable params: 264,325\n",
      "Non-trainable params: 14,715,712\n",
      "_________________________________________________________________\n",
      "None\n"
     ]
    }
   ],
   "source": [
    "model_gru = Sequential()\n",
    "model_gru.add(TimeDistributed(vgg16_transfer, input_shape=input_size))\n",
    "for layer in model_gru.layers:\n",
    "    layer.trainable = False\n",
    "model_gru.add(TimeDistributed(BatchNormalization()))\n",
    "model_gru.add(TimeDistributed(MaxPooling2D((2, 2))))\n",
    "model_gru.add(TimeDistributed(Flatten()))\n",
    "\n",
    "model_gru.add(GRU(128))\n",
    "model_gru.add(Dropout(0.5))\n",
    "\n",
    "model_gru.add(Dense(128,activation='relu'))\n",
    "model_gru.add(Dropout(0.25))\n",
    "\n",
    "model_gru.add(Dense(no_of_classes, activation='softmax'))\n",
    "\n",
    "\n",
    "optimiser = optimizers.Adam()\n",
    "model_gru.compile(optimizer=optimiser, loss='categorical_crossentropy', metrics=['categorical_accuracy'])\n",
    "print(model_gru.summary())"
   ]
  },
  {
   "cell_type": "code",
   "execution_count": 29,
   "metadata": {},
   "outputs": [
    {
     "name": "stdout",
     "output_type": "stream",
     "text": [
      "Source path =  ./Project_data/val ; batch size = 20\n",
      "Source path =  Epoch 1/15./Project_data/train ; batch size = 20\n",
      "\n"
     ]
    },
    {
     "name": "stderr",
     "output_type": "stream",
     "text": [
      "/mnt/disks/user/anaconda3/lib/python3.6/site-packages/skimage/transform/_warps.py:105: UserWarning: The default mode, 'constant', will be changed to 'reflect' in skimage 0.15.\n",
      "  warn(\"The default mode, 'constant', will be changed to 'reflect' in \"\n",
      "/mnt/disks/user/anaconda3/lib/python3.6/site-packages/skimage/transform/_warps.py:110: UserWarning: Anti-aliasing will be enabled by default in skimage 0.15 to avoid aliasing artifacts when down-sampling images.\n",
      "  warn(\"Anti-aliasing will be enabled by default in skimage 0.15 to \"\n"
     ]
    },
    {
     "name": "stdout",
     "output_type": "stream",
     "text": [
      "32/34 [===========================>..] - ETA: 12s - loss: 1.7633 - categorical_accuracy: 0.2711Batch:  34 Index: 20\n",
      "34/34 [==============================] - 215s 6s/step - loss: 1.7399 - categorical_accuracy: 0.2748 - val_loss: 1.3428 - val_categorical_accuracy: 0.4600\n",
      "\n",
      "Epoch 00001: saving model to model_init_2020-11-0117_13_29.308065/model-00001-1.75658-0.26923-1.34276-0.46000.h5\n",
      "Epoch 2/15\n",
      "34/34 [==============================] - 36s 1s/step - loss: 1.4417 - categorical_accuracy: 0.3578 - val_loss: 1.4043 - val_categorical_accuracy: 0.4000\n",
      "\n",
      "Epoch 00002: saving model to model_init_2020-11-0117_13_29.308065/model-00002-1.44174-0.35784-1.40427-0.40000.h5\n",
      "Epoch 3/15\n",
      "34/34 [==============================] - 39s 1s/step - loss: 1.4046 - categorical_accuracy: 0.4069 - val_loss: 1.2884 - val_categorical_accuracy: 0.4100\n",
      "\n",
      "Epoch 00003: saving model to model_init_2020-11-0117_13_29.308065/model-00003-1.40464-0.40686-1.28838-0.41000.h5\n",
      "Epoch 4/15\n",
      "34/34 [==============================] - 38s 1s/step - loss: 1.3667 - categorical_accuracy: 0.4167 - val_loss: 1.2904 - val_categorical_accuracy: 0.4600\n",
      "\n",
      "Epoch 00004: saving model to model_init_2020-11-0117_13_29.308065/model-00004-1.36666-0.41667-1.29036-0.46000.h5\n",
      "Epoch 5/15\n",
      "34/34 [==============================] - 39s 1s/step - loss: 1.4707 - categorical_accuracy: 0.4216 - val_loss: 1.2239 - val_categorical_accuracy: 0.4800\n",
      "\n",
      "Epoch 00005: saving model to model_init_2020-11-0117_13_29.308065/model-00005-1.47073-0.42157-1.22390-0.48000.h5\n",
      "Epoch 6/15\n",
      "34/34 [==============================] - 39s 1s/step - loss: 1.5190 - categorical_accuracy: 0.3676 - val_loss: 1.1498 - val_categorical_accuracy: 0.6000\n",
      "\n",
      "Epoch 00006: saving model to model_init_2020-11-0117_13_29.308065/model-00006-1.51901-0.36765-1.14981-0.60000.h5\n",
      "Epoch 7/15\n",
      "34/34 [==============================] - 39s 1s/step - loss: 1.4415 - categorical_accuracy: 0.3922 - val_loss: 1.1555 - val_categorical_accuracy: 0.5300\n",
      "\n",
      "Epoch 00007: saving model to model_init_2020-11-0117_13_29.308065/model-00007-1.44153-0.39216-1.15548-0.53000.h5\n",
      "Epoch 8/15\n",
      "34/34 [==============================] - 39s 1s/step - loss: 1.2044 - categorical_accuracy: 0.4902 - val_loss: 1.1229 - val_categorical_accuracy: 0.5300\n",
      "\n",
      "Epoch 00008: saving model to model_init_2020-11-0117_13_29.308065/model-00008-1.20440-0.49020-1.12289-0.53000.h5\n",
      "Epoch 9/15\n",
      "34/34 [==============================] - 38s 1s/step - loss: 1.0138 - categorical_accuracy: 0.6176 - val_loss: 1.0901 - val_categorical_accuracy: 0.5500\n",
      "\n",
      "Epoch 00009: saving model to model_init_2020-11-0117_13_29.308065/model-00009-1.01384-0.61765-1.09009-0.55000.h5\n",
      "Epoch 10/15\n",
      "34/34 [==============================] - 38s 1s/step - loss: 1.3274 - categorical_accuracy: 0.4902 - val_loss: 1.1499 - val_categorical_accuracy: 0.4500\n",
      "\n",
      "Epoch 00010: saving model to model_init_2020-11-0117_13_29.308065/model-00010-1.32741-0.49020-1.14990-0.45000.h5\n",
      "Epoch 11/15\n",
      "34/34 [==============================] - 38s 1s/step - loss: 1.1761 - categorical_accuracy: 0.5147 - val_loss: 0.9669 - val_categorical_accuracy: 0.6000\n",
      "\n",
      "Epoch 00011: saving model to model_init_2020-11-0117_13_29.308065/model-00011-1.17609-0.51471-0.96693-0.60000.h5\n",
      "Epoch 12/15\n",
      "34/34 [==============================] - 39s 1s/step - loss: 1.2584 - categorical_accuracy: 0.5392 - val_loss: 1.0106 - val_categorical_accuracy: 0.5900\n",
      "\n",
      "Epoch 00012: saving model to model_init_2020-11-0117_13_29.308065/model-00012-1.25839-0.53922-1.01056-0.59000.h5\n",
      "Epoch 13/15\n",
      "34/34 [==============================] - 39s 1s/step - loss: 1.2725 - categorical_accuracy: 0.4510 - val_loss: 1.0010 - val_categorical_accuracy: 0.6400\n",
      "\n",
      "Epoch 00013: saving model to model_init_2020-11-0117_13_29.308065/model-00013-1.27251-0.45098-1.00096-0.64000.h5\n",
      "Epoch 14/15\n",
      "34/34 [==============================] - 37s 1s/step - loss: 0.9839 - categorical_accuracy: 0.5980 - val_loss: 1.1277 - val_categorical_accuracy: 0.5800\n",
      "\n",
      "Epoch 00014: saving model to model_init_2020-11-0117_13_29.308065/model-00014-0.98387-0.59804-1.12769-0.58000.h5\n",
      "Epoch 15/15\n",
      "34/34 [==============================] - 38s 1s/step - loss: 0.7844 - categorical_accuracy: 0.7157 - val_loss: 1.0004 - val_categorical_accuracy: 0.6200\n",
      "\n",
      "Epoch 00015: saving model to model_init_2020-11-0117_13_29.308065/model-00015-0.78444-0.71569-1.00037-0.62000.h5\n",
      "\n",
      "Epoch 00015: ReduceLROnPlateau reducing learning rate to 0.00020000000949949026.\n"
     ]
    }
   ],
   "source": [
    "model_gru_history = train_model(model_gru,train_path,train_doc,val_path,val_doc,batch_size, num_epochs=num_epochs, augment_data=True)"
   ]
  },
  {
   "cell_type": "code",
   "execution_count": 36,
   "metadata": {},
   "outputs": [
    {
     "name": "stdout",
     "output_type": "stream",
     "text": [
      "mean of training accuracy is 0.4699095075516439\n",
      "mean of validation accuracy is 0.5266666660706202\n"
     ]
    }
   ],
   "source": [
    "print(\"mean of training accuracy is %s\" %(np.mean(model_gru_history.history['categorical_accuracy'])))\n",
    "print(\"mean of validation accuracy is %s\" %(np.mean(model_gru_history.history['val_categorical_accuracy'])))"
   ]
  },
  {
   "cell_type": "markdown",
   "metadata": {},
   "source": [
    "This model is the best in terms of accuracy for training and validation and its accuracy can be increased more if <br>\n",
    "we increase the number of epocs"
   ]
  },
  {
   "cell_type": "code",
   "execution_count": 31,
   "metadata": {
    "scrolled": true
   },
   "outputs": [
    {
     "data": {
      "image/png": "[encoded data removed]",
      "text/plain": [
       "<Figure size 432x288 with 1 Axes>"
      ]
     },
     "metadata": {},
     "output_type": "display_data"
    }
   ],
   "source": [
    "plot_graph(model_gru_history)"
   ]
  },
  {
   "cell_type": "markdown",
   "metadata": {},
   "source": [
    "### Model-6 -- transfer learning with MobileNetV2\n",
    "using existing model MobileNetV2 with RNN (GRU)"
   ]
  },
  {
   "cell_type": "code",
   "execution_count": 32,
   "metadata": {},
   "outputs": [
    {
     "name": "stderr",
     "output_type": "stream",
     "text": [
      "/mnt/disks/user/anaconda3/lib/python3.6/site-packages/keras_applications/mobilenet_v2.py:310: UserWarning: MobileNet shape is undefined. Weights for input shape(224, 224) will be loaded.\n",
      "  warnings.warn('MobileNet shape is undefined.'\n"
     ]
    },
    {
     "name": "stdout",
     "output_type": "stream",
     "text": [
      "Downloading data from https://github.com/JonathanCMitchell/mobilenet_v2_keras/releases/download/v1.1/mobilenet_v2_weights_tf_dim_ordering_tf_kernels_1.0_224_no_top.h5\n",
      "9412608/9406464 [==============================] - 2s 0us/step\n",
      "_________________________________________________________________\n",
      "Layer (type)                 Output Shape              Param #   \n",
      "=================================================================\n",
      "time_distributed_9 (TimeDist (None, 15, 4, 4, 1280)    2257984   \n",
      "_________________________________________________________________\n",
      "time_distributed_10 (TimeDis (None, 15, 2, 2, 1280)    0         \n",
      "_________________________________________________________________\n",
      "time_distributed_11 (TimeDis (None, 15, 5120)          0         \n",
      "_________________________________________________________________\n",
      "gru_2 (GRU)                  (None, 128)               2015616   \n",
      "_________________________________________________________________\n",
      "dropout_9 (Dropout)          (None, 128)               0         \n",
      "_________________________________________________________________\n",
      "dense_12 (Dense)             (None, 128)               16512     \n",
      "_________________________________________________________________\n",
      "dropout_10 (Dropout)         (None, 128)               0         \n",
      "_________________________________________________________________\n",
      "dense_13 (Dense)             (None, 5)                 645       \n",
      "=================================================================\n",
      "Total params: 4,290,757\n",
      "Trainable params: 2,032,773\n",
      "Non-trainable params: 2,257,984\n",
      "_________________________________________________________________\n",
      "None\n"
     ]
    }
   ],
   "source": [
    "mobilenet_transfer = MobileNetV2(weights='imagenet', include_top=False)\n",
    "model_mobilenet = Sequential()\n",
    "model_mobilenet.add(TimeDistributed(mobilenet_transfer,input_shape=input_size))\n",
    "for layer in model_mobilenet.layers:\n",
    "    layer.trainable = False\n",
    "\n",
    "model_mobilenet.add(TimeDistributed(MaxPooling2D((2, 2))))\n",
    "model_mobilenet.add(TimeDistributed(Flatten()))\n",
    "\n",
    "model_mobilenet.add(GRU(128))\n",
    "model_mobilenet.add(Dropout(0.25))\n",
    "\n",
    "model_mobilenet.add(Dense(128,activation='relu'))\n",
    "model_mobilenet.add(Dropout(0.25))\n",
    "\n",
    "model_mobilenet.add(Dense(no_of_classes, activation='softmax'))\n",
    "\n",
    "optimiser = optimizers.Adam()\n",
    "model_mobilenet.compile(optimizer=optimiser, loss='categorical_crossentropy', metrics=['categorical_accuracy'])\n",
    "print(model_mobilenet.summary())"
   ]
  },
  {
   "cell_type": "code",
   "execution_count": 33,
   "metadata": {},
   "outputs": [
    {
     "name": "stdout",
     "output_type": "stream",
     "text": [
      "Source path = Source path =  ./Project_data/train ; batch size = 20\n",
      " ./Project_data/val ; batch size = 20\n",
      "Epoch 1/15\n"
     ]
    },
    {
     "name": "stderr",
     "output_type": "stream",
     "text": [
      "/mnt/disks/user/anaconda3/lib/python3.6/site-packages/skimage/transform/_warps.py:105: UserWarning: The default mode, 'constant', will be changed to 'reflect' in skimage 0.15.\n",
      "  warn(\"The default mode, 'constant', will be changed to 'reflect' in \"\n",
      "/mnt/disks/user/anaconda3/lib/python3.6/site-packages/skimage/transform/_warps.py:110: UserWarning: Anti-aliasing will be enabled by default in skimage 0.15 to avoid aliasing artifacts when down-sampling images.\n",
      "  warn(\"Anti-aliasing will be enabled by default in skimage 0.15 to \"\n"
     ]
    },
    {
     "name": "stdout",
     "output_type": "stream",
     "text": [
      "32/34 [===========================>..] - ETA: 11s - loss: 1.6925 - categorical_accuracy: 0.2680Batch:  34 Index: 20\n",
      "34/34 [==============================] - 193s 6s/step - loss: 1.6788 - categorical_accuracy: 0.2689 - val_loss: 1.5743 - val_categorical_accuracy: 0.2400\n",
      "\n",
      "Epoch 00001: saving model to model_init_2020-11-0117_26_31.455820/model-00001-1.68679-0.27149-1.57432-0.24000.h5\n",
      "Epoch 2/15\n",
      "34/34 [==============================] - 34s 992ms/step - loss: 1.6058 - categorical_accuracy: 0.2794 - val_loss: 1.6171 - val_categorical_accuracy: 0.2400\n",
      "\n",
      "Epoch 00002: saving model to model_init_2020-11-0117_26_31.455820/model-00002-1.60579-0.27941-1.61710-0.24000.h5\n",
      "Epoch 3/15\n",
      "34/34 [==============================] - 36s 1s/step - loss: 1.7107 - categorical_accuracy: 0.2549 - val_loss: 1.7799 - val_categorical_accuracy: 0.2100\n",
      "\n",
      "Epoch 00003: saving model to model_init_2020-11-0117_26_31.455820/model-00003-1.71073-0.25490-1.77988-0.21000.h5\n",
      "Epoch 4/15\n",
      "34/34 [==============================] - 39s 1s/step - loss: 1.7116 - categorical_accuracy: 0.2304 - val_loss: 1.6875 - val_categorical_accuracy: 0.2200\n",
      "\n",
      "Epoch 00004: saving model to model_init_2020-11-0117_26_31.455820/model-00004-1.71164-0.23039-1.68753-0.22000.h5\n",
      "Epoch 5/15\n",
      "34/34 [==============================] - 38s 1s/step - loss: 1.6996 - categorical_accuracy: 0.1961 - val_loss: 1.5831 - val_categorical_accuracy: 0.2800\n",
      "\n",
      "Epoch 00005: saving model to model_init_2020-11-0117_26_31.455820/model-00005-1.69963-0.19608-1.58308-0.28000.h5\n",
      "\n",
      "Epoch 00005: ReduceLROnPlateau reducing learning rate to 0.00020000000949949026.\n",
      "Epoch 6/15\n",
      "34/34 [==============================] - 36s 1s/step - loss: 1.6158 - categorical_accuracy: 0.2598 - val_loss: 1.5774 - val_categorical_accuracy: 0.2800\n",
      "\n",
      "Epoch 00006: saving model to model_init_2020-11-0117_26_31.455820/model-00006-1.61575-0.25980-1.57739-0.28000.h5\n",
      "Epoch 7/15\n",
      "34/34 [==============================] - 38s 1s/step - loss: 1.6051 - categorical_accuracy: 0.2402 - val_loss: 1.5556 - val_categorical_accuracy: 0.3400\n",
      "\n",
      "Epoch 00007: saving model to model_init_2020-11-0117_26_31.455820/model-00007-1.60509-0.24020-1.55560-0.34000.h5\n",
      "Epoch 8/15\n",
      "34/34 [==============================] - 36s 1s/step - loss: 1.5683 - categorical_accuracy: 0.2598 - val_loss: 1.5530 - val_categorical_accuracy: 0.3500\n",
      "\n",
      "Epoch 00008: saving model to model_init_2020-11-0117_26_31.455820/model-00008-1.56828-0.25980-1.55301-0.35000.h5\n",
      "Epoch 9/15\n",
      "34/34 [==============================] - 36s 1s/step - loss: 1.5844 - categorical_accuracy: 0.2598 - val_loss: 1.5345 - val_categorical_accuracy: 0.3600\n",
      "\n",
      "Epoch 00009: saving model to model_init_2020-11-0117_26_31.455820/model-00009-1.58437-0.25980-1.53451-0.36000.h5\n",
      "Epoch 10/15\n",
      "34/34 [==============================] - 37s 1s/step - loss: 1.6068 - categorical_accuracy: 0.2157 - val_loss: 1.5615 - val_categorical_accuracy: 0.2500\n",
      "\n",
      "Epoch 00010: saving model to model_init_2020-11-0117_26_31.455820/model-00010-1.60680-0.21569-1.56151-0.25000.h5\n",
      "Epoch 11/15\n",
      "34/34 [==============================] - 36s 1s/step - loss: 1.5797 - categorical_accuracy: 0.3088 - val_loss: 1.5528 - val_categorical_accuracy: 0.3400\n",
      "\n",
      "Epoch 00011: saving model to model_init_2020-11-0117_26_31.455820/model-00011-1.57967-0.30882-1.55282-0.34000.h5\n",
      "Epoch 12/15\n",
      "34/34 [==============================] - 38s 1s/step - loss: 1.5776 - categorical_accuracy: 0.2500 - val_loss: 1.5604 - val_categorical_accuracy: 0.2400\n",
      "\n",
      "Epoch 00012: saving model to model_init_2020-11-0117_26_31.455820/model-00012-1.57758-0.25000-1.56042-0.24000.h5\n",
      "Epoch 13/15\n",
      "34/34 [==============================] - 37s 1s/step - loss: 1.5095 - categorical_accuracy: 0.3088 - val_loss: 1.5639 - val_categorical_accuracy: 0.3500\n",
      "\n",
      "Epoch 00013: saving model to model_init_2020-11-0117_26_31.455820/model-00013-1.50948-0.30882-1.56387-0.35000.h5\n",
      "\n",
      "Epoch 00013: ReduceLROnPlateau reducing learning rate to 4.0000001899898055e-05.\n",
      "Epoch 14/15\n",
      "34/34 [==============================] - 37s 1s/step - loss: 1.5698 - categorical_accuracy: 0.2353 - val_loss: 1.5645 - val_categorical_accuracy: 0.3400\n",
      "\n",
      "Epoch 00014: saving model to model_init_2020-11-0117_26_31.455820/model-00014-1.56976-0.23529-1.56450-0.34000.h5\n",
      "Epoch 15/15\n",
      "34/34 [==============================] - 36s 1s/step - loss: 1.5448 - categorical_accuracy: 0.2941 - val_loss: 1.5627 - val_categorical_accuracy: 0.2800\n",
      "\n",
      "Epoch 00015: saving model to model_init_2020-11-0117_26_31.455820/model-00015-1.54480-0.29412-1.56269-0.28000.h5\n"
     ]
    }
   ],
   "source": [
    "model_mobilenet_history = train_model(model_mobilenet,train_path,train_doc,val_path,val_doc,batch_size, num_epochs=num_epochs, augment_data=True)"
   ]
  },
  {
   "cell_type": "code",
   "execution_count": 34,
   "metadata": {},
   "outputs": [
    {
     "name": "stdout",
     "output_type": "stream",
     "text": [
      "mean of training accuracy is 0.2606334910343615\n",
      "mean of validation accuracy is 0.2900000017384688\n"
     ]
    }
   ],
   "source": [
    "print(\"mean of training accuracy is %s\" %(np.mean(model_conv3d_history.history['categorical_accuracy'])))\n",
    "print(\"mean of validation accuracy is %s\" %(np.mean(model_conv3d_history.history['val_categorical_accuracy'])))"
   ]
  },
  {
   "cell_type": "code",
   "execution_count": 35,
   "metadata": {
    "scrolled": true
   },
   "outputs": [
    {
     "data": {
      "image/png": "[encoded data removed]",
      "text/plain": [
       "<Figure size 432x288 with 1 Axes>"
      ]
     },
     "metadata": {},
     "output_type": "display_data"
    }
   ],
   "source": [
    "plot_graph(model_mobilenet_history)"
   ]
  },
  {
   "cell_type": "markdown",
   "metadata": {},
   "source": [
    "### Loading model and testing "
   ]
  },
  {
   "cell_type": "code",
   "execution_count": 38,
   "metadata": {},
   "outputs": [],
   "source": [
    "import time\n",
    "from keras.models import load_model"
   ]
  },
  {
   "cell_type": "code",
   "execution_count": 39,
   "metadata": {},
   "outputs": [],
   "source": [
    "model = load_model('model-00015-0.78444-0.71569-1.00037-0.62000.h5')"
   ]
  },
  {
   "cell_type": "code",
   "execution_count": 42,
   "metadata": {},
   "outputs": [
    {
     "name": "stdout",
     "output_type": "stream",
     "text": [
      "Source path =  ./Project_data/val ; batch size = 20\n"
     ]
    },
    {
     "name": "stderr",
     "output_type": "stream",
     "text": [
      "/mnt/disks/user/anaconda3/lib/python3.6/site-packages/skimage/transform/_warps.py:105: UserWarning: The default mode, 'constant', will be changed to 'reflect' in skimage 0.15.\n",
      "  warn(\"The default mode, 'constant', will be changed to 'reflect' in \"\n",
      "/mnt/disks/user/anaconda3/lib/python3.6/site-packages/skimage/transform/_warps.py:110: UserWarning: Anti-aliasing will be enabled by default in skimage 0.15 to avoid aliasing artifacts when down-sampling images.\n",
      "  warn(\"Anti-aliasing will be enabled by default in skimage 0.15 to \"\n"
     ]
    }
   ],
   "source": [
    "data = generator(val_path,val_doc,batch_size)\n",
    "batch_data, batch_labels = next(data)"
   ]
  },
  {
   "cell_type": "code",
   "execution_count": null,
   "metadata": {},
   "outputs": [],
   "source": [
    "print(np.argmax(model.predict(batch_data[:,:,:,:,:]),axis=1))"
   ]
  }
 ],
 "metadata": {
  "kernelspec": {
   "display_name": "Python 3",
   "language": "python",
   "name": "python3"
  },
  "language_info": {
   "codemirror_mode": {
    "name": "ipython",
    "version": 3
   },
   "file_extension": ".py",
   "mimetype": "text/x-python",
   "name": "python",
   "nbconvert_exporter": "python",
   "pygments_lexer": "ipython3",
   "version": "3.7.4"
  }
 },
 "nbformat": 4,
 "nbformat_minor": 2
}
