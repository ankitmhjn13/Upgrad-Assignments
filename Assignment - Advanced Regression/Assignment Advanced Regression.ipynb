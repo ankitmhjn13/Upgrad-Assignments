{
 "cells": [
  {
   "cell_type": "markdown",
   "metadata": {},
   "source": [
    "A US-based housing company named Surprise Housing has decided to enter the Australian market. \n",
    "The company uses data analytics to purchase houses at a price below their actual values and flip them on at a higher price. \n",
    "For the same purpose, the company has collected a data set from the sale of houses in Australia. \n",
    "The data is provided in the CSV file below.\n",
    "\n",
    "The company is looking at prospective properties to buy to enter the market.\n",
    "You are required to build a regression model using regularisation in order to predict the actual value of the prospective \n",
    "properties and decide whether to invest in them or not.\n",
    "\n",
    "The company wants to know:\n",
    "\n",
    "* Which variables are significant in predicting the price of a house, and\n",
    "\n",
    "* How well those variables describe the price of a house."
   ]
  },
  {
   "cell_type": "code",
   "execution_count": 1,
   "metadata": {},
   "outputs": [],
   "source": [
    "# importing requires libraries\n",
    "\n",
    "import warnings\n",
    "warnings.filterwarnings('ignore')\n",
    "\n",
    "import pandas as pd\n",
    "import matplotlib.pyplot as plt\n",
    "import seaborn as sns\n",
    "from sklearn.preprocessing import StandardScaler\n",
    "from sklearn.model_selection import train_test_split, GridSearchCV\n",
    "from sklearn.feature_selection import RFE\n",
    "from sklearn.linear_model import Lasso, Ridge\n",
    "from sklearn.metrics import r2_score"
   ]
  },
  {
   "cell_type": "code",
   "execution_count": 90,
   "metadata": {},
   "outputs": [],
   "source": [
    "# reading data from csv file\n",
    "data = pd.read_csv('./train.csv')"
   ]
  },
  {
   "cell_type": "code",
   "execution_count": 91,
   "metadata": {},
   "outputs": [
    {
     "data": {
      "text/plain": [
       "(1460, 81)"
      ]
     },
     "execution_count": 91,
     "metadata": {},
     "output_type": "execute_result"
    }
   ],
   "source": [
    "# getting the number of rows and columns in the data \n",
    "data.shape"
   ]
  },
  {
   "cell_type": "code",
   "execution_count": 92,
   "metadata": {},
   "outputs": [
    {
     "data": {
      "text/html": [
       "<div>\n",
       "<style scoped>\n",
       "    .dataframe tbody tr th:only-of-type {\n",
       "        vertical-align: middle;\n",
       "    }\n",
       "\n",
       "    .dataframe tbody tr th {\n",
       "        vertical-align: top;\n",
       "    }\n",
       "\n",
       "    .dataframe thead th {\n",
       "        text-align: right;\n",
       "    }\n",
       "</style>\n",
       "<table border=\"1\" class=\"dataframe\">\n",
       "  <thead>\n",
       "    <tr style=\"text-align: right;\">\n",
       "      <th></th>\n",
       "      <th>Id</th>\n",
       "      <th>MSSubClass</th>\n",
       "      <th>MSZoning</th>\n",
       "      <th>LotFrontage</th>\n",
       "      <th>LotArea</th>\n",
       "      <th>Street</th>\n",
       "      <th>Alley</th>\n",
       "      <th>LotShape</th>\n",
       "      <th>LandContour</th>\n",
       "      <th>Utilities</th>\n",
       "      <th>...</th>\n",
       "      <th>PoolArea</th>\n",
       "      <th>PoolQC</th>\n",
       "      <th>Fence</th>\n",
       "      <th>MiscFeature</th>\n",
       "      <th>MiscVal</th>\n",
       "      <th>MoSold</th>\n",
       "      <th>YrSold</th>\n",
       "      <th>SaleType</th>\n",
       "      <th>SaleCondition</th>\n",
       "      <th>SalePrice</th>\n",
       "    </tr>\n",
       "  </thead>\n",
       "  <tbody>\n",
       "    <tr>\n",
       "      <td>0</td>\n",
       "      <td>1</td>\n",
       "      <td>60</td>\n",
       "      <td>RL</td>\n",
       "      <td>65.0</td>\n",
       "      <td>8450</td>\n",
       "      <td>Pave</td>\n",
       "      <td>NaN</td>\n",
       "      <td>Reg</td>\n",
       "      <td>Lvl</td>\n",
       "      <td>AllPub</td>\n",
       "      <td>...</td>\n",
       "      <td>0</td>\n",
       "      <td>NaN</td>\n",
       "      <td>NaN</td>\n",
       "      <td>NaN</td>\n",
       "      <td>0</td>\n",
       "      <td>2</td>\n",
       "      <td>2008</td>\n",
       "      <td>WD</td>\n",
       "      <td>Normal</td>\n",
       "      <td>208500</td>\n",
       "    </tr>\n",
       "    <tr>\n",
       "      <td>1</td>\n",
       "      <td>2</td>\n",
       "      <td>20</td>\n",
       "      <td>RL</td>\n",
       "      <td>80.0</td>\n",
       "      <td>9600</td>\n",
       "      <td>Pave</td>\n",
       "      <td>NaN</td>\n",
       "      <td>Reg</td>\n",
       "      <td>Lvl</td>\n",
       "      <td>AllPub</td>\n",
       "      <td>...</td>\n",
       "      <td>0</td>\n",
       "      <td>NaN</td>\n",
       "      <td>NaN</td>\n",
       "      <td>NaN</td>\n",
       "      <td>0</td>\n",
       "      <td>5</td>\n",
       "      <td>2007</td>\n",
       "      <td>WD</td>\n",
       "      <td>Normal</td>\n",
       "      <td>181500</td>\n",
       "    </tr>\n",
       "    <tr>\n",
       "      <td>2</td>\n",
       "      <td>3</td>\n",
       "      <td>60</td>\n",
       "      <td>RL</td>\n",
       "      <td>68.0</td>\n",
       "      <td>11250</td>\n",
       "      <td>Pave</td>\n",
       "      <td>NaN</td>\n",
       "      <td>IR1</td>\n",
       "      <td>Lvl</td>\n",
       "      <td>AllPub</td>\n",
       "      <td>...</td>\n",
       "      <td>0</td>\n",
       "      <td>NaN</td>\n",
       "      <td>NaN</td>\n",
       "      <td>NaN</td>\n",
       "      <td>0</td>\n",
       "      <td>9</td>\n",
       "      <td>2008</td>\n",
       "      <td>WD</td>\n",
       "      <td>Normal</td>\n",
       "      <td>223500</td>\n",
       "    </tr>\n",
       "    <tr>\n",
       "      <td>3</td>\n",
       "      <td>4</td>\n",
       "      <td>70</td>\n",
       "      <td>RL</td>\n",
       "      <td>60.0</td>\n",
       "      <td>9550</td>\n",
       "      <td>Pave</td>\n",
       "      <td>NaN</td>\n",
       "      <td>IR1</td>\n",
       "      <td>Lvl</td>\n",
       "      <td>AllPub</td>\n",
       "      <td>...</td>\n",
       "      <td>0</td>\n",
       "      <td>NaN</td>\n",
       "      <td>NaN</td>\n",
       "      <td>NaN</td>\n",
       "      <td>0</td>\n",
       "      <td>2</td>\n",
       "      <td>2006</td>\n",
       "      <td>WD</td>\n",
       "      <td>Abnorml</td>\n",
       "      <td>140000</td>\n",
       "    </tr>\n",
       "    <tr>\n",
       "      <td>4</td>\n",
       "      <td>5</td>\n",
       "      <td>60</td>\n",
       "      <td>RL</td>\n",
       "      <td>84.0</td>\n",
       "      <td>14260</td>\n",
       "      <td>Pave</td>\n",
       "      <td>NaN</td>\n",
       "      <td>IR1</td>\n",
       "      <td>Lvl</td>\n",
       "      <td>AllPub</td>\n",
       "      <td>...</td>\n",
       "      <td>0</td>\n",
       "      <td>NaN</td>\n",
       "      <td>NaN</td>\n",
       "      <td>NaN</td>\n",
       "      <td>0</td>\n",
       "      <td>12</td>\n",
       "      <td>2008</td>\n",
       "      <td>WD</td>\n",
       "      <td>Normal</td>\n",
       "      <td>250000</td>\n",
       "    </tr>\n",
       "  </tbody>\n",
       "</table>\n",
       "<p>5 rows × 81 columns</p>\n",
       "</div>"
      ],
      "text/plain": [
       "   Id  MSSubClass MSZoning  LotFrontage  LotArea Street Alley LotShape  \\\n",
       "0   1          60       RL         65.0     8450   Pave   NaN      Reg   \n",
       "1   2          20       RL         80.0     9600   Pave   NaN      Reg   \n",
       "2   3          60       RL         68.0    11250   Pave   NaN      IR1   \n",
       "3   4          70       RL         60.0     9550   Pave   NaN      IR1   \n",
       "4   5          60       RL         84.0    14260   Pave   NaN      IR1   \n",
       "\n",
       "  LandContour Utilities  ... PoolArea PoolQC Fence MiscFeature MiscVal MoSold  \\\n",
       "0         Lvl    AllPub  ...        0    NaN   NaN         NaN       0      2   \n",
       "1         Lvl    AllPub  ...        0    NaN   NaN         NaN       0      5   \n",
       "2         Lvl    AllPub  ...        0    NaN   NaN         NaN       0      9   \n",
       "3         Lvl    AllPub  ...        0    NaN   NaN         NaN       0      2   \n",
       "4         Lvl    AllPub  ...        0    NaN   NaN         NaN       0     12   \n",
       "\n",
       "  YrSold  SaleType  SaleCondition  SalePrice  \n",
       "0   2008        WD         Normal     208500  \n",
       "1   2007        WD         Normal     181500  \n",
       "2   2008        WD         Normal     223500  \n",
       "3   2006        WD        Abnorml     140000  \n",
       "4   2008        WD         Normal     250000  \n",
       "\n",
       "[5 rows x 81 columns]"
      ]
     },
     "execution_count": 92,
     "metadata": {},
     "output_type": "execute_result"
    }
   ],
   "source": [
    "# reading the first 5 rows of data\n",
    "data.head()"
   ]
  },
  {
   "cell_type": "code",
   "execution_count": 93,
   "metadata": {},
   "outputs": [
    {
     "data": {
      "text/html": [
       "<div>\n",
       "<style scoped>\n",
       "    .dataframe tbody tr th:only-of-type {\n",
       "        vertical-align: middle;\n",
       "    }\n",
       "\n",
       "    .dataframe tbody tr th {\n",
       "        vertical-align: top;\n",
       "    }\n",
       "\n",
       "    .dataframe thead th {\n",
       "        text-align: right;\n",
       "    }\n",
       "</style>\n",
       "<table border=\"1\" class=\"dataframe\">\n",
       "  <thead>\n",
       "    <tr style=\"text-align: right;\">\n",
       "      <th></th>\n",
       "      <th>Id</th>\n",
       "      <th>MSSubClass</th>\n",
       "      <th>LotFrontage</th>\n",
       "      <th>LotArea</th>\n",
       "      <th>OverallQual</th>\n",
       "      <th>OverallCond</th>\n",
       "      <th>YearBuilt</th>\n",
       "      <th>YearRemodAdd</th>\n",
       "      <th>MasVnrArea</th>\n",
       "      <th>BsmtFinSF1</th>\n",
       "      <th>...</th>\n",
       "      <th>WoodDeckSF</th>\n",
       "      <th>OpenPorchSF</th>\n",
       "      <th>EnclosedPorch</th>\n",
       "      <th>3SsnPorch</th>\n",
       "      <th>ScreenPorch</th>\n",
       "      <th>PoolArea</th>\n",
       "      <th>MiscVal</th>\n",
       "      <th>MoSold</th>\n",
       "      <th>YrSold</th>\n",
       "      <th>SalePrice</th>\n",
       "    </tr>\n",
       "  </thead>\n",
       "  <tbody>\n",
       "    <tr>\n",
       "      <td>count</td>\n",
       "      <td>1460.000000</td>\n",
       "      <td>1460.000000</td>\n",
       "      <td>1201.000000</td>\n",
       "      <td>1460.000000</td>\n",
       "      <td>1460.000000</td>\n",
       "      <td>1460.000000</td>\n",
       "      <td>1460.000000</td>\n",
       "      <td>1460.000000</td>\n",
       "      <td>1452.000000</td>\n",
       "      <td>1460.000000</td>\n",
       "      <td>...</td>\n",
       "      <td>1460.000000</td>\n",
       "      <td>1460.000000</td>\n",
       "      <td>1460.000000</td>\n",
       "      <td>1460.000000</td>\n",
       "      <td>1460.000000</td>\n",
       "      <td>1460.000000</td>\n",
       "      <td>1460.000000</td>\n",
       "      <td>1460.000000</td>\n",
       "      <td>1460.000000</td>\n",
       "      <td>1460.000000</td>\n",
       "    </tr>\n",
       "    <tr>\n",
       "      <td>mean</td>\n",
       "      <td>730.500000</td>\n",
       "      <td>56.897260</td>\n",
       "      <td>70.049958</td>\n",
       "      <td>10516.828082</td>\n",
       "      <td>6.099315</td>\n",
       "      <td>5.575342</td>\n",
       "      <td>1971.267808</td>\n",
       "      <td>1984.865753</td>\n",
       "      <td>103.685262</td>\n",
       "      <td>443.639726</td>\n",
       "      <td>...</td>\n",
       "      <td>94.244521</td>\n",
       "      <td>46.660274</td>\n",
       "      <td>21.954110</td>\n",
       "      <td>3.409589</td>\n",
       "      <td>15.060959</td>\n",
       "      <td>2.758904</td>\n",
       "      <td>43.489041</td>\n",
       "      <td>6.321918</td>\n",
       "      <td>2007.815753</td>\n",
       "      <td>180921.195890</td>\n",
       "    </tr>\n",
       "    <tr>\n",
       "      <td>std</td>\n",
       "      <td>421.610009</td>\n",
       "      <td>42.300571</td>\n",
       "      <td>24.284752</td>\n",
       "      <td>9981.264932</td>\n",
       "      <td>1.382997</td>\n",
       "      <td>1.112799</td>\n",
       "      <td>30.202904</td>\n",
       "      <td>20.645407</td>\n",
       "      <td>181.066207</td>\n",
       "      <td>456.098091</td>\n",
       "      <td>...</td>\n",
       "      <td>125.338794</td>\n",
       "      <td>66.256028</td>\n",
       "      <td>61.119149</td>\n",
       "      <td>29.317331</td>\n",
       "      <td>55.757415</td>\n",
       "      <td>40.177307</td>\n",
       "      <td>496.123024</td>\n",
       "      <td>2.703626</td>\n",
       "      <td>1.328095</td>\n",
       "      <td>79442.502883</td>\n",
       "    </tr>\n",
       "    <tr>\n",
       "      <td>min</td>\n",
       "      <td>1.000000</td>\n",
       "      <td>20.000000</td>\n",
       "      <td>21.000000</td>\n",
       "      <td>1300.000000</td>\n",
       "      <td>1.000000</td>\n",
       "      <td>1.000000</td>\n",
       "      <td>1872.000000</td>\n",
       "      <td>1950.000000</td>\n",
       "      <td>0.000000</td>\n",
       "      <td>0.000000</td>\n",
       "      <td>...</td>\n",
       "      <td>0.000000</td>\n",
       "      <td>0.000000</td>\n",
       "      <td>0.000000</td>\n",
       "      <td>0.000000</td>\n",
       "      <td>0.000000</td>\n",
       "      <td>0.000000</td>\n",
       "      <td>0.000000</td>\n",
       "      <td>1.000000</td>\n",
       "      <td>2006.000000</td>\n",
       "      <td>34900.000000</td>\n",
       "    </tr>\n",
       "    <tr>\n",
       "      <td>25%</td>\n",
       "      <td>365.750000</td>\n",
       "      <td>20.000000</td>\n",
       "      <td>59.000000</td>\n",
       "      <td>7553.500000</td>\n",
       "      <td>5.000000</td>\n",
       "      <td>5.000000</td>\n",
       "      <td>1954.000000</td>\n",
       "      <td>1967.000000</td>\n",
       "      <td>0.000000</td>\n",
       "      <td>0.000000</td>\n",
       "      <td>...</td>\n",
       "      <td>0.000000</td>\n",
       "      <td>0.000000</td>\n",
       "      <td>0.000000</td>\n",
       "      <td>0.000000</td>\n",
       "      <td>0.000000</td>\n",
       "      <td>0.000000</td>\n",
       "      <td>0.000000</td>\n",
       "      <td>5.000000</td>\n",
       "      <td>2007.000000</td>\n",
       "      <td>129975.000000</td>\n",
       "    </tr>\n",
       "    <tr>\n",
       "      <td>50%</td>\n",
       "      <td>730.500000</td>\n",
       "      <td>50.000000</td>\n",
       "      <td>69.000000</td>\n",
       "      <td>9478.500000</td>\n",
       "      <td>6.000000</td>\n",
       "      <td>5.000000</td>\n",
       "      <td>1973.000000</td>\n",
       "      <td>1994.000000</td>\n",
       "      <td>0.000000</td>\n",
       "      <td>383.500000</td>\n",
       "      <td>...</td>\n",
       "      <td>0.000000</td>\n",
       "      <td>25.000000</td>\n",
       "      <td>0.000000</td>\n",
       "      <td>0.000000</td>\n",
       "      <td>0.000000</td>\n",
       "      <td>0.000000</td>\n",
       "      <td>0.000000</td>\n",
       "      <td>6.000000</td>\n",
       "      <td>2008.000000</td>\n",
       "      <td>163000.000000</td>\n",
       "    </tr>\n",
       "    <tr>\n",
       "      <td>75%</td>\n",
       "      <td>1095.250000</td>\n",
       "      <td>70.000000</td>\n",
       "      <td>80.000000</td>\n",
       "      <td>11601.500000</td>\n",
       "      <td>7.000000</td>\n",
       "      <td>6.000000</td>\n",
       "      <td>2000.000000</td>\n",
       "      <td>2004.000000</td>\n",
       "      <td>166.000000</td>\n",
       "      <td>712.250000</td>\n",
       "      <td>...</td>\n",
       "      <td>168.000000</td>\n",
       "      <td>68.000000</td>\n",
       "      <td>0.000000</td>\n",
       "      <td>0.000000</td>\n",
       "      <td>0.000000</td>\n",
       "      <td>0.000000</td>\n",
       "      <td>0.000000</td>\n",
       "      <td>8.000000</td>\n",
       "      <td>2009.000000</td>\n",
       "      <td>214000.000000</td>\n",
       "    </tr>\n",
       "    <tr>\n",
       "      <td>max</td>\n",
       "      <td>1460.000000</td>\n",
       "      <td>190.000000</td>\n",
       "      <td>313.000000</td>\n",
       "      <td>215245.000000</td>\n",
       "      <td>10.000000</td>\n",
       "      <td>9.000000</td>\n",
       "      <td>2010.000000</td>\n",
       "      <td>2010.000000</td>\n",
       "      <td>1600.000000</td>\n",
       "      <td>5644.000000</td>\n",
       "      <td>...</td>\n",
       "      <td>857.000000</td>\n",
       "      <td>547.000000</td>\n",
       "      <td>552.000000</td>\n",
       "      <td>508.000000</td>\n",
       "      <td>480.000000</td>\n",
       "      <td>738.000000</td>\n",
       "      <td>15500.000000</td>\n",
       "      <td>12.000000</td>\n",
       "      <td>2010.000000</td>\n",
       "      <td>755000.000000</td>\n",
       "    </tr>\n",
       "  </tbody>\n",
       "</table>\n",
       "<p>8 rows × 38 columns</p>\n",
       "</div>"
      ],
      "text/plain": [
       "                Id   MSSubClass  LotFrontage        LotArea  OverallQual  \\\n",
       "count  1460.000000  1460.000000  1201.000000    1460.000000  1460.000000   \n",
       "mean    730.500000    56.897260    70.049958   10516.828082     6.099315   \n",
       "std     421.610009    42.300571    24.284752    9981.264932     1.382997   \n",
       "min       1.000000    20.000000    21.000000    1300.000000     1.000000   \n",
       "25%     365.750000    20.000000    59.000000    7553.500000     5.000000   \n",
       "50%     730.500000    50.000000    69.000000    9478.500000     6.000000   \n",
       "75%    1095.250000    70.000000    80.000000   11601.500000     7.000000   \n",
       "max    1460.000000   190.000000   313.000000  215245.000000    10.000000   \n",
       "\n",
       "       OverallCond    YearBuilt  YearRemodAdd   MasVnrArea   BsmtFinSF1  ...  \\\n",
       "count  1460.000000  1460.000000   1460.000000  1452.000000  1460.000000  ...   \n",
       "mean      5.575342  1971.267808   1984.865753   103.685262   443.639726  ...   \n",
       "std       1.112799    30.202904     20.645407   181.066207   456.098091  ...   \n",
       "min       1.000000  1872.000000   1950.000000     0.000000     0.000000  ...   \n",
       "25%       5.000000  1954.000000   1967.000000     0.000000     0.000000  ...   \n",
       "50%       5.000000  1973.000000   1994.000000     0.000000   383.500000  ...   \n",
       "75%       6.000000  2000.000000   2004.000000   166.000000   712.250000  ...   \n",
       "max       9.000000  2010.000000   2010.000000  1600.000000  5644.000000  ...   \n",
       "\n",
       "        WoodDeckSF  OpenPorchSF  EnclosedPorch    3SsnPorch  ScreenPorch  \\\n",
       "count  1460.000000  1460.000000    1460.000000  1460.000000  1460.000000   \n",
       "mean     94.244521    46.660274      21.954110     3.409589    15.060959   \n",
       "std     125.338794    66.256028      61.119149    29.317331    55.757415   \n",
       "min       0.000000     0.000000       0.000000     0.000000     0.000000   \n",
       "25%       0.000000     0.000000       0.000000     0.000000     0.000000   \n",
       "50%       0.000000    25.000000       0.000000     0.000000     0.000000   \n",
       "75%     168.000000    68.000000       0.000000     0.000000     0.000000   \n",
       "max     857.000000   547.000000     552.000000   508.000000   480.000000   \n",
       "\n",
       "          PoolArea       MiscVal       MoSold       YrSold      SalePrice  \n",
       "count  1460.000000   1460.000000  1460.000000  1460.000000    1460.000000  \n",
       "mean      2.758904     43.489041     6.321918  2007.815753  180921.195890  \n",
       "std      40.177307    496.123024     2.703626     1.328095   79442.502883  \n",
       "min       0.000000      0.000000     1.000000  2006.000000   34900.000000  \n",
       "25%       0.000000      0.000000     5.000000  2007.000000  129975.000000  \n",
       "50%       0.000000      0.000000     6.000000  2008.000000  163000.000000  \n",
       "75%       0.000000      0.000000     8.000000  2009.000000  214000.000000  \n",
       "max     738.000000  15500.000000    12.000000  2010.000000  755000.000000  \n",
       "\n",
       "[8 rows x 38 columns]"
      ]
     },
     "execution_count": 93,
     "metadata": {},
     "output_type": "execute_result"
    }
   ],
   "source": [
    "# getting the mean, standard deviation and different quartile values for the numerical columns\n",
    "data.describe()"
   ]
  },
  {
   "cell_type": "code",
   "execution_count": 94,
   "metadata": {},
   "outputs": [
    {
     "name": "stdout",
     "output_type": "stream",
     "text": [
      "<class 'pandas.core.frame.DataFrame'>\n",
      "RangeIndex: 1460 entries, 0 to 1459\n",
      "Data columns (total 81 columns):\n",
      "Id               1460 non-null int64\n",
      "MSSubClass       1460 non-null int64\n",
      "MSZoning         1460 non-null object\n",
      "LotFrontage      1201 non-null float64\n",
      "LotArea          1460 non-null int64\n",
      "Street           1460 non-null object\n",
      "Alley            91 non-null object\n",
      "LotShape         1460 non-null object\n",
      "LandContour      1460 non-null object\n",
      "Utilities        1460 non-null object\n",
      "LotConfig        1460 non-null object\n",
      "LandSlope        1460 non-null object\n",
      "Neighborhood     1460 non-null object\n",
      "Condition1       1460 non-null object\n",
      "Condition2       1460 non-null object\n",
      "BldgType         1460 non-null object\n",
      "HouseStyle       1460 non-null object\n",
      "OverallQual      1460 non-null int64\n",
      "OverallCond      1460 non-null int64\n",
      "YearBuilt        1460 non-null int64\n",
      "YearRemodAdd     1460 non-null int64\n",
      "RoofStyle        1460 non-null object\n",
      "RoofMatl         1460 non-null object\n",
      "Exterior1st      1460 non-null object\n",
      "Exterior2nd      1460 non-null object\n",
      "MasVnrType       1452 non-null object\n",
      "MasVnrArea       1452 non-null float64\n",
      "ExterQual        1460 non-null object\n",
      "ExterCond        1460 non-null object\n",
      "Foundation       1460 non-null object\n",
      "BsmtQual         1423 non-null object\n",
      "BsmtCond         1423 non-null object\n",
      "BsmtExposure     1422 non-null object\n",
      "BsmtFinType1     1423 non-null object\n",
      "BsmtFinSF1       1460 non-null int64\n",
      "BsmtFinType2     1422 non-null object\n",
      "BsmtFinSF2       1460 non-null int64\n",
      "BsmtUnfSF        1460 non-null int64\n",
      "TotalBsmtSF      1460 non-null int64\n",
      "Heating          1460 non-null object\n",
      "HeatingQC        1460 non-null object\n",
      "CentralAir       1460 non-null object\n",
      "Electrical       1459 non-null object\n",
      "1stFlrSF         1460 non-null int64\n",
      "2ndFlrSF         1460 non-null int64\n",
      "LowQualFinSF     1460 non-null int64\n",
      "GrLivArea        1460 non-null int64\n",
      "BsmtFullBath     1460 non-null int64\n",
      "BsmtHalfBath     1460 non-null int64\n",
      "FullBath         1460 non-null int64\n",
      "HalfBath         1460 non-null int64\n",
      "BedroomAbvGr     1460 non-null int64\n",
      "KitchenAbvGr     1460 non-null int64\n",
      "KitchenQual      1460 non-null object\n",
      "TotRmsAbvGrd     1460 non-null int64\n",
      "Functional       1460 non-null object\n",
      "Fireplaces       1460 non-null int64\n",
      "FireplaceQu      770 non-null object\n",
      "GarageType       1379 non-null object\n",
      "GarageYrBlt      1379 non-null float64\n",
      "GarageFinish     1379 non-null object\n",
      "GarageCars       1460 non-null int64\n",
      "GarageArea       1460 non-null int64\n",
      "GarageQual       1379 non-null object\n",
      "GarageCond       1379 non-null object\n",
      "PavedDrive       1460 non-null object\n",
      "WoodDeckSF       1460 non-null int64\n",
      "OpenPorchSF      1460 non-null int64\n",
      "EnclosedPorch    1460 non-null int64\n",
      "3SsnPorch        1460 non-null int64\n",
      "ScreenPorch      1460 non-null int64\n",
      "PoolArea         1460 non-null int64\n",
      "PoolQC           7 non-null object\n",
      "Fence            281 non-null object\n",
      "MiscFeature      54 non-null object\n",
      "MiscVal          1460 non-null int64\n",
      "MoSold           1460 non-null int64\n",
      "YrSold           1460 non-null int64\n",
      "SaleType         1460 non-null object\n",
      "SaleCondition    1460 non-null object\n",
      "SalePrice        1460 non-null int64\n",
      "dtypes: float64(3), int64(35), object(43)\n",
      "memory usage: 924.0+ KB\n"
     ]
    }
   ],
   "source": [
    "# getting the type of columns and non-null values in the dataset\n",
    "data.info()"
   ]
  },
  {
   "cell_type": "code",
   "execution_count": 95,
   "metadata": {},
   "outputs": [
    {
     "data": {
      "text/html": [
       "<div>\n",
       "<style scoped>\n",
       "    .dataframe tbody tr th:only-of-type {\n",
       "        vertical-align: middle;\n",
       "    }\n",
       "\n",
       "    .dataframe tbody tr th {\n",
       "        vertical-align: top;\n",
       "    }\n",
       "\n",
       "    .dataframe thead th {\n",
       "        text-align: right;\n",
       "    }\n",
       "</style>\n",
       "<table border=\"1\" class=\"dataframe\">\n",
       "  <thead>\n",
       "    <tr style=\"text-align: right;\">\n",
       "      <th></th>\n",
       "      <th>index</th>\n",
       "      <th>0</th>\n",
       "    </tr>\n",
       "  </thead>\n",
       "  <tbody>\n",
       "    <tr>\n",
       "      <td>3</td>\n",
       "      <td>LotFrontage</td>\n",
       "      <td>17.739726</td>\n",
       "    </tr>\n",
       "    <tr>\n",
       "      <td>6</td>\n",
       "      <td>Alley</td>\n",
       "      <td>93.767123</td>\n",
       "    </tr>\n",
       "    <tr>\n",
       "      <td>25</td>\n",
       "      <td>MasVnrType</td>\n",
       "      <td>0.547945</td>\n",
       "    </tr>\n",
       "    <tr>\n",
       "      <td>26</td>\n",
       "      <td>MasVnrArea</td>\n",
       "      <td>0.547945</td>\n",
       "    </tr>\n",
       "    <tr>\n",
       "      <td>30</td>\n",
       "      <td>BsmtQual</td>\n",
       "      <td>2.534247</td>\n",
       "    </tr>\n",
       "    <tr>\n",
       "      <td>31</td>\n",
       "      <td>BsmtCond</td>\n",
       "      <td>2.534247</td>\n",
       "    </tr>\n",
       "    <tr>\n",
       "      <td>32</td>\n",
       "      <td>BsmtExposure</td>\n",
       "      <td>2.602740</td>\n",
       "    </tr>\n",
       "    <tr>\n",
       "      <td>33</td>\n",
       "      <td>BsmtFinType1</td>\n",
       "      <td>2.534247</td>\n",
       "    </tr>\n",
       "    <tr>\n",
       "      <td>35</td>\n",
       "      <td>BsmtFinType2</td>\n",
       "      <td>2.602740</td>\n",
       "    </tr>\n",
       "    <tr>\n",
       "      <td>42</td>\n",
       "      <td>Electrical</td>\n",
       "      <td>0.068493</td>\n",
       "    </tr>\n",
       "    <tr>\n",
       "      <td>57</td>\n",
       "      <td>FireplaceQu</td>\n",
       "      <td>47.260274</td>\n",
       "    </tr>\n",
       "    <tr>\n",
       "      <td>58</td>\n",
       "      <td>GarageType</td>\n",
       "      <td>5.547945</td>\n",
       "    </tr>\n",
       "    <tr>\n",
       "      <td>59</td>\n",
       "      <td>GarageYrBlt</td>\n",
       "      <td>5.547945</td>\n",
       "    </tr>\n",
       "    <tr>\n",
       "      <td>60</td>\n",
       "      <td>GarageFinish</td>\n",
       "      <td>5.547945</td>\n",
       "    </tr>\n",
       "    <tr>\n",
       "      <td>63</td>\n",
       "      <td>GarageQual</td>\n",
       "      <td>5.547945</td>\n",
       "    </tr>\n",
       "    <tr>\n",
       "      <td>64</td>\n",
       "      <td>GarageCond</td>\n",
       "      <td>5.547945</td>\n",
       "    </tr>\n",
       "    <tr>\n",
       "      <td>72</td>\n",
       "      <td>PoolQC</td>\n",
       "      <td>99.520548</td>\n",
       "    </tr>\n",
       "    <tr>\n",
       "      <td>73</td>\n",
       "      <td>Fence</td>\n",
       "      <td>80.753425</td>\n",
       "    </tr>\n",
       "    <tr>\n",
       "      <td>74</td>\n",
       "      <td>MiscFeature</td>\n",
       "      <td>96.301370</td>\n",
       "    </tr>\n",
       "  </tbody>\n",
       "</table>\n",
       "</div>"
      ],
      "text/plain": [
       "           index          0\n",
       "3    LotFrontage  17.739726\n",
       "6          Alley  93.767123\n",
       "25    MasVnrType   0.547945\n",
       "26    MasVnrArea   0.547945\n",
       "30      BsmtQual   2.534247\n",
       "31      BsmtCond   2.534247\n",
       "32  BsmtExposure   2.602740\n",
       "33  BsmtFinType1   2.534247\n",
       "35  BsmtFinType2   2.602740\n",
       "42    Electrical   0.068493\n",
       "57   FireplaceQu  47.260274\n",
       "58    GarageType   5.547945\n",
       "59   GarageYrBlt   5.547945\n",
       "60  GarageFinish   5.547945\n",
       "63    GarageQual   5.547945\n",
       "64    GarageCond   5.547945\n",
       "72        PoolQC  99.520548\n",
       "73         Fence  80.753425\n",
       "74   MiscFeature  96.301370"
      ]
     },
     "execution_count": 95,
     "metadata": {},
     "output_type": "execute_result"
    }
   ],
   "source": [
    "# getting the percentage of missing values in the data \n",
    "missing_data = (100*data.isna().sum()/ len(data)).reset_index()\n",
    "missing_data[missing_data[0] > 0]"
   ]
  },
  {
   "cell_type": "markdown",
   "metadata": {},
   "source": [
    "we see there are various columns with missing values.\n",
    "But there is catch, actually the values are not null if the house doesn't contain garage or alley the value of that column\n",
    "is marked as NA.\n",
    "So, we need to replace values in such column with No Basement or No Alley etc "
   ]
  },
  {
   "cell_type": "code",
   "execution_count": 96,
   "metadata": {},
   "outputs": [],
   "source": [
    "data['Alley'].fillna('No Alley', inplace=True)\n",
    "data['MasVnrType'].fillna('No MasVnrType', inplace=True)\n",
    "data['MasVnrArea'].fillna(0, inplace=True)\n",
    "data['LotFrontage'].fillna(0, inplace=True)\n",
    "data['BsmtQual'].fillna('No Basement', inplace=True)\n",
    "data['BsmtCond'].fillna('No Basement', inplace=True)\n",
    "data['BsmtExposure'].fillna('No Basement', inplace=True)\n",
    "data['BsmtFinType1'].fillna('No Basement', inplace=True)\n",
    "data['BsmtFinType2'].fillna('No Basement', inplace=True)\n",
    "data['FireplaceQu'].fillna('No Fireplace', inplace=True)\n",
    "data['GarageType'].fillna('No Garage', inplace=True)\n",
    "data['GarageType'].fillna('No Garage', inplace=True)\n",
    "data['GarageFinish'].fillna('No Garage', inplace=True)\n",
    "data['GarageQual'].fillna('No Garage', inplace=True)\n",
    "data['GarageCond'].fillna('No Garage', inplace=True)\n",
    "data['PoolQC'].fillna('No Pool', inplace=True)\n",
    "data['Fence'].fillna('No Fence', inplace=True)\n",
    "data['MiscFeature'].fillna('No Features', inplace=True)"
   ]
  },
  {
   "cell_type": "code",
   "execution_count": 97,
   "metadata": {},
   "outputs": [],
   "source": [
    "# since rows with null values for column Electrical are less than 1% so getting rid of these rows\n",
    "data = data[~data['Electrical'].isnull()]"
   ]
  },
  {
   "cell_type": "code",
   "execution_count": 98,
   "metadata": {},
   "outputs": [
    {
     "data": {
      "text/plain": [
       "(1459, 81)"
      ]
     },
     "execution_count": 98,
     "metadata": {},
     "output_type": "execute_result"
    }
   ],
   "source": [
    "# the shape of data after handling the missing values\n",
    "data.shape"
   ]
  },
  {
   "cell_type": "code",
   "execution_count": 99,
   "metadata": {},
   "outputs": [
    {
     "data": {
      "text/html": [
       "<div>\n",
       "<style scoped>\n",
       "    .dataframe tbody tr th:only-of-type {\n",
       "        vertical-align: middle;\n",
       "    }\n",
       "\n",
       "    .dataframe tbody tr th {\n",
       "        vertical-align: top;\n",
       "    }\n",
       "\n",
       "    .dataframe thead th {\n",
       "        text-align: right;\n",
       "    }\n",
       "</style>\n",
       "<table border=\"1\" class=\"dataframe\">\n",
       "  <thead>\n",
       "    <tr style=\"text-align: right;\">\n",
       "      <th></th>\n",
       "      <th>index</th>\n",
       "      <th>0</th>\n",
       "    </tr>\n",
       "  </thead>\n",
       "  <tbody>\n",
       "    <tr>\n",
       "      <td>59</td>\n",
       "      <td>GarageYrBlt</td>\n",
       "      <td>5.551748</td>\n",
       "    </tr>\n",
       "  </tbody>\n",
       "</table>\n",
       "</div>"
      ],
      "text/plain": [
       "          index         0\n",
       "59  GarageYrBlt  5.551748"
      ]
     },
     "execution_count": 99,
     "metadata": {},
     "output_type": "execute_result"
    }
   ],
   "source": [
    "# again checking the missing values \n",
    "missing_data = (100*data.isna().sum()/ len(data)).reset_index()\n",
    "missing_data[missing_data[0] > 0]"
   ]
  },
  {
   "cell_type": "markdown",
   "metadata": {},
   "source": [
    "so there is still one more column we need to deal for missing values.<br>\n",
    "GarageYrBlt is null because these houses don't have the Garage to handle these rows we are going to convert the <br>\n",
    "GarageYrBlt column to age i.e. how many years ago the garage was built. <br>\n",
    "To calculate the value we need to take the difference of current year (2020) - value of column <br>\n",
    "<br>\n",
    "There are others columns like YearBuilt, YearRemodAdd, YrSold we are going to perform the same operations"
   ]
  },
  {
   "cell_type": "code",
   "execution_count": 100,
   "metadata": {},
   "outputs": [],
   "source": [
    "data['GarageYrBlt'] = 2020 - data['GarageYrBlt']\n",
    "data['YearBuilt'] = 2020-data['YearBuilt']\n",
    "data['YearRemodAdd'] = 2020-data['YearRemodAdd']\n",
    "data['YrSold'] = 2020-data['YrSold']"
   ]
  },
  {
   "cell_type": "code",
   "execution_count": 101,
   "metadata": {},
   "outputs": [
    {
     "data": {
      "text/plain": [
       "0"
      ]
     },
     "execution_count": 101,
     "metadata": {},
     "output_type": "execute_result"
    }
   ],
   "source": [
    "data['GarageYrBlt'].fillna(0, inplace=True)\n",
    "data['GarageYrBlt'].isna().sum()"
   ]
  },
  {
   "cell_type": "code",
   "execution_count": 102,
   "metadata": {},
   "outputs": [],
   "source": [
    "# lets perform binning on the year columns \n",
    "# if age is between 0-10 we now the activity is performed recently \n",
    "# else old\n",
    "\n",
    "def getAgeBins(row):\n",
    "    if row >=0 and row <=10:\n",
    "        return 'Recent'\n",
    "    else:\n",
    "        return 'Old'\n",
    "\n",
    "data['GarageYrBlt'] = data['GarageYrBlt'].apply(lambda row: getAgeBins(row))\n",
    "data['YearBuilt'] = data['YearBuilt'].apply(lambda row: getAgeBins(row))\n",
    "data['YearRemodAdd'] = data['YearRemodAdd'].apply(lambda row: getAgeBins(row))\n",
    "data['YrSold'] = data['YrSold'].apply(lambda row: getAgeBins(row))"
   ]
  },
  {
   "cell_type": "markdown",
   "metadata": {},
   "source": [
    "## lets do some visualization"
   ]
  },
  {
   "cell_type": "code",
   "execution_count": 103,
   "metadata": {},
   "outputs": [
    {
     "data": {
      "text/plain": [
       "<matplotlib.axes._subplots.AxesSubplot at 0x2572da29f88>"
      ]
     },
     "execution_count": 103,
     "metadata": {},
     "output_type": "execute_result"
    },
    {
     "data": {
      "image/png": "[encoded data removed]",
      "text/plain": [
       "<Figure size 432x288 with 1 Axes>"
      ]
     },
     "metadata": {
      "needs_background": "light"
     },
     "output_type": "display_data"
    }
   ],
   "source": [
    "# visualizing price distribution\n",
    "sns.distplot(data['SalePrice'])\n",
    "\n",
    "# by looks of the dist plot for the saleprice, the variable is normally distributed"
   ]
  },
  {
   "cell_type": "code",
   "execution_count": 104,
   "metadata": {},
   "outputs": [
    {
     "data": {
      "text/plain": [
       "<matplotlib.axes._subplots.AxesSubplot at 0x2572d962148>"
      ]
     },
     "execution_count": 104,
     "metadata": {},
     "output_type": "execute_result"
    },
    {
     "data": {
      "image/png": "[encoded data removed]",
      "text/plain": [
       "<Figure size 432x288 with 1 Axes>"
      ]
     },
     "metadata": {
      "needs_background": "light"
     },
     "output_type": "display_data"
    }
   ],
   "source": [
    "sns.countplot(x='MoSold', data=data)"
   ]
  },
  {
   "cell_type": "code",
   "execution_count": 105,
   "metadata": {},
   "outputs": [
    {
     "data": {
      "text/plain": [
       "<matplotlib.axes._subplots.AxesSubplot at 0x2572cdf53c8>"
      ]
     },
     "execution_count": 105,
     "metadata": {},
     "output_type": "execute_result"
    },
    {
     "data": {
      "image/png": "[encoded data removed]",
      "text/plain": [
       "<Figure size 432x288 with 1 Axes>"
      ]
     },
     "metadata": {
      "needs_background": "light"
     },
     "output_type": "display_data"
    }
   ],
   "source": [
    "# getting the count of the MSZoning\n",
    "sns.countplot(data['MSZoning'])"
   ]
  },
  {
   "cell_type": "markdown",
   "metadata": {},
   "source": [
    "Max number of data is for Residential Low Density with around 1100 as count"
   ]
  },
  {
   "cell_type": "code",
   "execution_count": 106,
   "metadata": {},
   "outputs": [
    {
     "data": {
      "text/plain": [
       "<matplotlib.axes._subplots.AxesSubplot at 0x2572b223b08>"
      ]
     },
     "execution_count": 106,
     "metadata": {},
     "output_type": "execute_result"
    },
    {
     "data": {
      "image/png": "[encoded data removed]",
      "text/plain": [
       "<Figure size 432x288 with 1 Axes>"
      ]
     },
     "metadata": {
      "needs_background": "light"
     },
     "output_type": "display_data"
    }
   ],
   "source": [
    "# count of the properties with different Street\n",
    "sns.countplot(data['Street'])"
   ]
  },
  {
   "cell_type": "markdown",
   "metadata": {},
   "source": [
    "Most of the houses have Paved street"
   ]
  },
  {
   "cell_type": "code",
   "execution_count": 107,
   "metadata": {},
   "outputs": [
    {
     "data": {
      "image/png": "[encoded data removed]",
      "text/plain": [
       "<Figure size 1440x720 with 1 Axes>"
      ]
     },
     "metadata": {
      "needs_background": "light"
     },
     "output_type": "display_data"
    }
   ],
   "source": [
    "# getting the most neighbourhood \n",
    "plt.figure(figsize=(20,10))\n",
    "ax = sns.countplot(x=\"Neighborhood\", data=data)\n",
    "ax.set_xticklabels(ax.get_xticklabels(), rotation=90, ha=\"right\")\n",
    "plt.show()\n"
   ]
  },
  {
   "cell_type": "code",
   "execution_count": 108,
   "metadata": {},
   "outputs": [
    {
     "data": {
      "text/plain": [
       "<matplotlib.axes._subplots.AxesSubplot at 0x2572b0b1a48>"
      ]
     },
     "execution_count": 108,
     "metadata": {},
     "output_type": "execute_result"
    },
    {
     "data": {
      "image/png": "[encoded data removed]",
      "text/plain": [
       "<Figure size 432x288 with 1 Axes>"
      ]
     },
     "metadata": {
      "needs_background": "light"
     },
     "output_type": "display_data"
    }
   ],
   "source": [
    "# count of building type\n",
    "sns.countplot(\"BldgType\", data=data)"
   ]
  },
  {
   "cell_type": "code",
   "execution_count": 109,
   "metadata": {},
   "outputs": [
    {
     "data": {
      "text/plain": [
       "<matplotlib.axes._subplots.AxesSubplot at 0x2572b1790c8>"
      ]
     },
     "execution_count": 109,
     "metadata": {},
     "output_type": "execute_result"
    },
    {
     "data": {
      "image/png": "[encoded data removed]",
      "text/plain": [
       "<Figure size 432x288 with 1 Axes>"
      ]
     },
     "metadata": {
      "needs_background": "light"
     },
     "output_type": "display_data"
    }
   ],
   "source": [
    "# count of the building OverallQual\n",
    "sns.countplot(\"OverallQual\", data=data)"
   ]
  },
  {
   "cell_type": "markdown",
   "metadata": {},
   "source": [
    "house ratings between 5 -7 are more"
   ]
  },
  {
   "cell_type": "markdown",
   "metadata": {},
   "source": [
    "most of the houses built are 2007"
   ]
  },
  {
   "cell_type": "code",
   "execution_count": 110,
   "metadata": {},
   "outputs": [
    {
     "data": {
      "text/plain": [
       "<matplotlib.axes._subplots.AxesSubplot at 0x2572c5d7d08>"
      ]
     },
     "execution_count": 110,
     "metadata": {},
     "output_type": "execute_result"
    },
    {
     "data": {
      "image/png": "[encoded data removed]",
      "text/plain": [
       "<Figure size 432x288 with 1 Axes>"
      ]
     },
     "metadata": {
      "needs_background": "light"
     },
     "output_type": "display_data"
    }
   ],
   "source": [
    "# count of houses with airconditioning\n",
    "sns.countplot('CentralAir', data=data)"
   ]
  },
  {
   "cell_type": "markdown",
   "metadata": {},
   "source": [
    "Most of the house have central air conditioning "
   ]
  },
  {
   "cell_type": "markdown",
   "metadata": {},
   "source": [
    "### lets visualize the depandent variable price with indepandent variables"
   ]
  },
  {
   "cell_type": "code",
   "execution_count": 111,
   "metadata": {},
   "outputs": [
    {
     "data": {
      "text/plain": [
       "<matplotlib.axes._subplots.AxesSubplot at 0x2572c632bc8>"
      ]
     },
     "execution_count": 111,
     "metadata": {},
     "output_type": "execute_result"
    },
    {
     "data": {
      "image/png": "[encoded data removed]",
      "text/plain": [
       "<Figure size 432x288 with 1 Axes>"
      ]
     },
     "metadata": {
      "needs_background": "light"
     },
     "output_type": "display_data"
    }
   ],
   "source": [
    "# visualizing the price with central air conditioning\n",
    "sns.boxplot(x='CentralAir', y='SalePrice', data=data)"
   ]
  },
  {
   "cell_type": "markdown",
   "metadata": {},
   "source": [
    "the average price of house with no central air conditioning is very less than the houses with central air conditioning"
   ]
  },
  {
   "cell_type": "code",
   "execution_count": 112,
   "metadata": {},
   "outputs": [
    {
     "data": {
      "image/png": "[encoded data removed]",
      "text/plain": [
       "<Figure size 1440x720 with 1 Axes>"
      ]
     },
     "metadata": {
      "needs_background": "light"
     },
     "output_type": "display_data"
    }
   ],
   "source": [
    "plt.figure(figsize=(20,10))\n",
    "sns.boxplot(x='MSZoning', y='SalePrice',data=data)\n",
    "plt.show()"
   ]
  },
  {
   "cell_type": "code",
   "execution_count": 113,
   "metadata": {},
   "outputs": [
    {
     "data": {
      "text/plain": [
       "<matplotlib.axes._subplots.AxesSubplot at 0x2572da3fac8>"
      ]
     },
     "execution_count": 113,
     "metadata": {},
     "output_type": "execute_result"
    },
    {
     "data": {
      "image/png": "[encoded data removed]",
      "text/plain": [
       "<Figure size 432x288 with 1 Axes>"
      ]
     },
     "metadata": {
      "needs_background": "light"
     },
     "output_type": "display_data"
    }
   ],
   "source": [
    "# visualizing saleprice with Street\n",
    "sns.boxplot(x='Street', y='SalePrice', data=data)"
   ]
  },
  {
   "cell_type": "markdown",
   "metadata": {},
   "source": [
    "paved street are most costlier than graved stree houses"
   ]
  },
  {
   "cell_type": "code",
   "execution_count": 114,
   "metadata": {},
   "outputs": [
    {
     "data": {
      "text/plain": [
       "<matplotlib.axes._subplots.AxesSubplot at 0x2572ab689c8>"
      ]
     },
     "execution_count": 114,
     "metadata": {},
     "output_type": "execute_result"
    },
    {
     "data": {
      "image/png": "[encoded data removed]",
      "text/plain": [
       "<Figure size 432x288 with 1 Axes>"
      ]
     },
     "metadata": {
      "needs_background": "light"
     },
     "output_type": "display_data"
    }
   ],
   "source": [
    "# houses with Alley\n",
    "sns.boxplot(x='Alley', y='SalePrice',data=data)"
   ]
  },
  {
   "cell_type": "code",
   "execution_count": 115,
   "metadata": {},
   "outputs": [
    {
     "data": {
      "text/plain": [
       "<matplotlib.axes._subplots.AxesSubplot at 0x2572a7cee48>"
      ]
     },
     "execution_count": 115,
     "metadata": {},
     "output_type": "execute_result"
    },
    {
     "data": {
      "image/png": "[encoded data removed]",
      "text/plain": [
       "<Figure size 432x288 with 1 Axes>"
      ]
     },
     "metadata": {
      "needs_background": "light"
     },
     "output_type": "display_data"
    }
   ],
   "source": [
    "sns.boxplot(x='LandSlope', y='SalePrice',data=data)"
   ]
  },
  {
   "cell_type": "code",
   "execution_count": 116,
   "metadata": {},
   "outputs": [
    {
     "data": {
      "image/png": "[encoded data removed]",
      "text/plain": [
       "<Figure size 1440x720 with 1 Axes>"
      ]
     },
     "metadata": {
      "needs_background": "light"
     },
     "output_type": "display_data"
    }
   ],
   "source": [
    "plt.figure(figsize=(20,10))\n",
    "sns.boxplot(x='HouseStyle', y='SalePrice', data=data)\n",
    "plt.show()"
   ]
  },
  {
   "cell_type": "code",
   "execution_count": 117,
   "metadata": {},
   "outputs": [
    {
     "data": {
      "image/png": "[encoded data removed]",
      "text/plain": [
       "<Figure size 1440x720 with 1 Axes>"
      ]
     },
     "metadata": {
      "needs_background": "light"
     },
     "output_type": "display_data"
    }
   ],
   "source": [
    "plt.figure(figsize=(20,10))\n",
    "sns.boxplot(x='OverallCond', y='SalePrice', data=data)\n",
    "plt.show()"
   ]
  },
  {
   "cell_type": "code",
   "execution_count": 118,
   "metadata": {},
   "outputs": [
    {
     "data": {
      "image/png": "[encoded data removed]",
      "text/plain": [
       "<Figure size 1440x720 with 1 Axes>"
      ]
     },
     "metadata": {
      "needs_background": "light"
     },
     "output_type": "display_data"
    }
   ],
   "source": [
    "plt.figure(figsize=(20,10))\n",
    "sns.boxplot(x='Heating', y='SalePrice', data=data)\n",
    "plt.show()"
   ]
  },
  {
   "cell_type": "code",
   "execution_count": 119,
   "metadata": {},
   "outputs": [
    {
     "data": {
      "image/png": "[encoded data removed]",
      "text/plain": [
       "<Figure size 1440x720 with 1 Axes>"
      ]
     },
     "metadata": {
      "needs_background": "light"
     },
     "output_type": "display_data"
    }
   ],
   "source": [
    "plt.figure(figsize=(20,10))\n",
    "sns.boxplot(x='KitchenQual', y='SalePrice', data=data)\n",
    "plt.show()"
   ]
  },
  {
   "cell_type": "code",
   "execution_count": 120,
   "metadata": {},
   "outputs": [
    {
     "data": {
      "image/png": "[encoded data removed]",
      "text/plain": [
       "<Figure size 1440x720 with 1 Axes>"
      ]
     },
     "metadata": {
      "needs_background": "light"
     },
     "output_type": "display_data"
    }
   ],
   "source": [
    "# some more visualizations\n",
    "plt.figure(figsize=(20,10))\n",
    "sns.boxplot(x='MSZoning', y='SalePrice', hue='Street', data=data)\n",
    "plt.show()"
   ]
  },
  {
   "cell_type": "code",
   "execution_count": 121,
   "metadata": {},
   "outputs": [
    {
     "data": {
      "image/png": "[encoded data removed]",
      "text/plain": [
       "<Figure size 1440x720 with 1 Axes>"
      ]
     },
     "metadata": {
      "needs_background": "light"
     },
     "output_type": "display_data"
    }
   ],
   "source": [
    "plt.figure(figsize=(20,10))\n",
    "sns.boxplot(x='MSZoning', y='SalePrice', hue='CentralAir', data=data)\n",
    "plt.show()"
   ]
  },
  {
   "cell_type": "code",
   "execution_count": 122,
   "metadata": {},
   "outputs": [
    {
     "data": {
      "image/png": "[encoded data removed]",
      "text/plain": [
       "<Figure size 1440x720 with 1 Axes>"
      ]
     },
     "metadata": {
      "needs_background": "light"
     },
     "output_type": "display_data"
    }
   ],
   "source": [
    "plt.figure(figsize=(20,10))\n",
    "sns.boxplot(x='Street', y='SalePrice', hue='CentralAir', data=data)\n",
    "plt.show()"
   ]
  },
  {
   "cell_type": "markdown",
   "metadata": {},
   "source": [
    "### converting the column to dummies "
   ]
  },
  {
   "cell_type": "code",
   "execution_count": 123,
   "metadata": {},
   "outputs": [],
   "source": [
    "data['Street'] = data['Street'].apply(lambda row: 1 if row == \"Grvl\" else 0)\n",
    "data['CentralAir'] = data['CentralAir'].apply(lambda row: 1 if row == \"N\" else 0)\n",
    "data['GarageYrBlt'] = data['GarageYrBlt'].apply(lambda row: 1 if row == \"Recent\" else 0)\n",
    "data['YearBuilt'] = data['YearBuilt'].apply(lambda row: 1 if row == \"Recent\" else 0)\n",
    "data['YearRemodAdd'] = data['YearRemodAdd'].apply(lambda row: 1 if row == \"Recent\" else 0)\n",
    "data['YrSold'] = data['YrSold'].apply(lambda row: 1 if row == \"Recent\" else 0)"
   ]
  },
  {
   "cell_type": "code",
   "execution_count": 124,
   "metadata": {},
   "outputs": [],
   "source": [
    "# converting int columns to categoriacal variables\n",
    "data['MSSubClass'] = data['MSSubClass'].astype('category')\n",
    "data['OverallQual'] = data['OverallQual'].astype('category')\n",
    "data['OverallCond'] = data['OverallCond'].astype('category')"
   ]
  },
  {
   "cell_type": "code",
   "execution_count": 125,
   "metadata": {},
   "outputs": [],
   "source": [
    "# converting the categorical variables to dummies \n",
    "dummy = pd.get_dummies(data[['MSSubClass', 'MSZoning', 'Alley', 'LotShape', 'LandContour', 'Utilities', 'LotConfig', 'LandSlope', 'Neighborhood', \n",
    "                'Condition1', 'Condition2', 'BldgType', 'HouseStyle', 'OverallQual', 'OverallCond', 'RoofStyle', 'RoofMatl', 'Exterior1st',\n",
    "               'Exterior2nd', 'MasVnrType', 'ExterQual', 'ExterCond', 'Foundation', 'BsmtQual', 'BsmtCond', 'BsmtExposure', 'BsmtFinType1',\n",
    "               'BsmtFinType2', 'Heating', 'HeatingQC', 'Electrical', 'KitchenQual', 'Functional', 'FireplaceQu', 'GarageType', 'GarageFinish',\n",
    "               'GarageQual', 'GarageCond', 'PavedDrive', 'PoolQC', 'Fence', 'MiscFeature', 'SaleType', 'SaleCondition']])"
   ]
  },
  {
   "cell_type": "code",
   "execution_count": 126,
   "metadata": {},
   "outputs": [],
   "source": [
    "data = pd.concat([data, dummy], axis=1)"
   ]
  },
  {
   "cell_type": "code",
   "execution_count": 127,
   "metadata": {},
   "outputs": [],
   "source": [
    "data = data.drop(columns=['MSSubClass', 'MSZoning', 'Alley', 'LotShape', 'LandContour', 'Utilities', 'LotConfig', 'LandSlope', 'Neighborhood', \n",
    "                'Condition1', 'Condition2', 'BldgType', 'HouseStyle', 'OverallQual', 'OverallCond', 'RoofStyle', 'RoofMatl', 'Exterior1st',\n",
    "               'Exterior2nd', 'MasVnrType', 'ExterQual', 'ExterCond', 'Foundation', 'BsmtQual', 'BsmtCond', 'BsmtExposure', 'BsmtFinType1',\n",
    "               'BsmtFinType2', 'Heating', 'HeatingQC', 'Electrical', 'KitchenQual', 'Functional', 'FireplaceQu', 'GarageType', 'GarageFinish',\n",
    "               'GarageQual', 'GarageCond', 'PavedDrive', 'PoolQC', 'Fence', 'MiscFeature', 'SaleType', 'SaleCondition', 'Id'], axis=1)\n"
   ]
  },
  {
   "cell_type": "code",
   "execution_count": 128,
   "metadata": {},
   "outputs": [
    {
     "data": {
      "text/plain": [
       "(1459, 333)"
      ]
     },
     "execution_count": 128,
     "metadata": {},
     "output_type": "execute_result"
    }
   ],
   "source": [
    "data.shape"
   ]
  },
  {
   "cell_type": "code",
   "execution_count": 129,
   "metadata": {},
   "outputs": [
    {
     "data": {
      "image/png": "[encoded data removed]",
      "text/plain": [
       "<Figure size 1440x720 with 2 Axes>"
      ]
     },
     "metadata": {
      "needs_background": "light"
     },
     "output_type": "display_data"
    }
   ],
   "source": [
    "# getting the numeric columns\n",
    "data_numeric_vars = data.select_dtypes(include=['float64', 'int64'])\n",
    "\n",
    "# correlation matrix\n",
    "numeric_cols = data_numeric_vars.columns\n",
    "cor = data[numeric_cols].corr()\n",
    "cor\n",
    "\n",
    "# plotting the heatmap for correlation\n",
    "plt.figure(figsize=(20,10))\n",
    "sns.heatmap(cor, cmap=\"YlGnBu\")\n",
    "plt.show()"
   ]
  },
  {
   "cell_type": "markdown",
   "metadata": {},
   "source": [
    "### splitting the data to train and test"
   ]
  },
  {
   "cell_type": "code",
   "execution_count": 130,
   "metadata": {},
   "outputs": [],
   "source": [
    "train_data, test_data = train_test_split(data, random_state=100, train_size=0.7, test_size=0.3)"
   ]
  },
  {
   "cell_type": "code",
   "execution_count": 131,
   "metadata": {},
   "outputs": [],
   "source": [
    "data_numeric_col_names = data_numeric_vars.columns"
   ]
  },
  {
   "cell_type": "markdown",
   "metadata": {},
   "source": [
    "### scaling the numerical columns"
   ]
  },
  {
   "cell_type": "code",
   "execution_count": 132,
   "metadata": {},
   "outputs": [],
   "source": [
    "scaler = StandardScaler()"
   ]
  },
  {
   "cell_type": "code",
   "execution_count": 133,
   "metadata": {},
   "outputs": [],
   "source": [
    "train_data[data_numeric_col_names] = scaler.fit_transform(train_data[data_numeric_col_names])"
   ]
  },
  {
   "cell_type": "code",
   "execution_count": 134,
   "metadata": {},
   "outputs": [],
   "source": [
    "y_train = train_data['SalePrice']\n",
    "X_train = train_data.drop(['SalePrice'], axis=1)"
   ]
  },
  {
   "cell_type": "markdown",
   "metadata": {},
   "source": [
    "### Lasso regression"
   ]
  },
  {
   "cell_type": "code",
   "execution_count": 135,
   "metadata": {},
   "outputs": [
    {
     "name": "stdout",
     "output_type": "stream",
     "text": [
      "Fitting 5 folds for each of 28 candidates, totalling 140 fits\n"
     ]
    },
    {
     "name": "stderr",
     "output_type": "stream",
     "text": [
      "[Parallel(n_jobs=1)]: Using backend SequentialBackend with 1 concurrent workers.\n",
      "[Parallel(n_jobs=1)]: Done 140 out of 140 | elapsed:    3.4s finished\n"
     ]
    },
    {
     "data": {
      "text/plain": [
       "GridSearchCV(cv=5, error_score='raise-deprecating',\n",
       "             estimator=Lasso(alpha=1.0, copy_X=True, fit_intercept=True,\n",
       "                             max_iter=1000, normalize=False, positive=False,\n",
       "                             precompute=False, random_state=None,\n",
       "                             selection='cyclic', tol=0.0001, warm_start=False),\n",
       "             iid='warn', n_jobs=None,\n",
       "             param_grid={'alpha': [0.0001, 0.001, 0.01, 0.05, 0.1, 0.2, 0.3,\n",
       "                                   0.4, 0.5, 0.6, 0.7, 0.8, 0.9, 1.0, 2.0, 3.0,\n",
       "                                   4.0, 5.0, 6.0, 7.0, 8.0, 9.0, 10.0, 20, 50,\n",
       "                                   100, 500, 1000]},\n",
       "             pre_dispatch='2*n_jobs', refit=True, return_train_score=True,\n",
       "             scoring='neg_mean_absolute_error', verbose=1)"
      ]
     },
     "execution_count": 135,
     "metadata": {},
     "output_type": "execute_result"
    }
   ],
   "source": [
    "lasso = Lasso()\n",
    "folds = 5\n",
    "params = {'alpha': [0.0001, 0.001, 0.01, 0.05, 0.1, \n",
    " 0.2, 0.3, 0.4, 0.5, 0.6, 0.7, 0.8, 0.9, 1.0, 2.0, 3.0, \n",
    " 4.0, 5.0, 6.0, 7.0, 8.0, 9.0, 10.0, 20, 50, 100, 500, 1000 ]}\n",
    "\n",
    "# cross validation\n",
    "model_cv = GridSearchCV(estimator = lasso, \n",
    "                        param_grid = params, \n",
    "                        scoring= 'neg_mean_absolute_error', \n",
    "                        cv = folds, \n",
    "                        return_train_score=True,\n",
    "                        verbose = 1)            \n",
    "\n",
    "model_cv.fit(X_train, y_train) "
   ]
  },
  {
   "cell_type": "code",
   "execution_count": 136,
   "metadata": {},
   "outputs": [
    {
     "data": {
      "text/html": [
       "<div>\n",
       "<style scoped>\n",
       "    .dataframe tbody tr th:only-of-type {\n",
       "        vertical-align: middle;\n",
       "    }\n",
       "\n",
       "    .dataframe tbody tr th {\n",
       "        vertical-align: top;\n",
       "    }\n",
       "\n",
       "    .dataframe thead th {\n",
       "        text-align: right;\n",
       "    }\n",
       "</style>\n",
       "<table border=\"1\" class=\"dataframe\">\n",
       "  <thead>\n",
       "    <tr style=\"text-align: right;\">\n",
       "      <th></th>\n",
       "      <th>mean_fit_time</th>\n",
       "      <th>std_fit_time</th>\n",
       "      <th>mean_score_time</th>\n",
       "      <th>std_score_time</th>\n",
       "      <th>param_alpha</th>\n",
       "      <th>params</th>\n",
       "      <th>split0_test_score</th>\n",
       "      <th>split1_test_score</th>\n",
       "      <th>split2_test_score</th>\n",
       "      <th>split3_test_score</th>\n",
       "      <th>...</th>\n",
       "      <th>mean_test_score</th>\n",
       "      <th>std_test_score</th>\n",
       "      <th>rank_test_score</th>\n",
       "      <th>split0_train_score</th>\n",
       "      <th>split1_train_score</th>\n",
       "      <th>split2_train_score</th>\n",
       "      <th>split3_train_score</th>\n",
       "      <th>split4_train_score</th>\n",
       "      <th>mean_train_score</th>\n",
       "      <th>std_train_score</th>\n",
       "    </tr>\n",
       "  </thead>\n",
       "  <tbody>\n",
       "    <tr>\n",
       "      <td>0</td>\n",
       "      <td>0.206449</td>\n",
       "      <td>0.046326</td>\n",
       "      <td>0.001596</td>\n",
       "      <td>0.000488</td>\n",
       "      <td>0.0001</td>\n",
       "      <td>{'alpha': 0.0001}</td>\n",
       "      <td>-0.209439</td>\n",
       "      <td>-0.242542</td>\n",
       "      <td>-0.229859</td>\n",
       "      <td>-0.255096</td>\n",
       "      <td>...</td>\n",
       "      <td>-0.230027</td>\n",
       "      <td>0.017259</td>\n",
       "      <td>2</td>\n",
       "      <td>-0.147682</td>\n",
       "      <td>-0.134495</td>\n",
       "      <td>-0.140049</td>\n",
       "      <td>-0.147468</td>\n",
       "      <td>-0.144156</td>\n",
       "      <td>-0.142770</td>\n",
       "      <td>0.004980</td>\n",
       "    </tr>\n",
       "    <tr>\n",
       "      <td>1</td>\n",
       "      <td>0.093352</td>\n",
       "      <td>0.014475</td>\n",
       "      <td>0.001596</td>\n",
       "      <td>0.000489</td>\n",
       "      <td>0.001</td>\n",
       "      <td>{'alpha': 0.001}</td>\n",
       "      <td>-0.201744</td>\n",
       "      <td>-0.225066</td>\n",
       "      <td>-0.214948</td>\n",
       "      <td>-0.232949</td>\n",
       "      <td>...</td>\n",
       "      <td>-0.213187</td>\n",
       "      <td>0.015132</td>\n",
       "      <td>1</td>\n",
       "      <td>-0.163940</td>\n",
       "      <td>-0.149912</td>\n",
       "      <td>-0.153981</td>\n",
       "      <td>-0.158375</td>\n",
       "      <td>-0.159963</td>\n",
       "      <td>-0.157234</td>\n",
       "      <td>0.004856</td>\n",
       "    </tr>\n",
       "    <tr>\n",
       "      <td>2</td>\n",
       "      <td>0.018254</td>\n",
       "      <td>0.001719</td>\n",
       "      <td>0.001596</td>\n",
       "      <td>0.000489</td>\n",
       "      <td>0.01</td>\n",
       "      <td>{'alpha': 0.01}</td>\n",
       "      <td>-0.251913</td>\n",
       "      <td>-0.257333</td>\n",
       "      <td>-0.253918</td>\n",
       "      <td>-0.261253</td>\n",
       "      <td>...</td>\n",
       "      <td>-0.250917</td>\n",
       "      <td>0.010845</td>\n",
       "      <td>3</td>\n",
       "      <td>-0.222697</td>\n",
       "      <td>-0.223754</td>\n",
       "      <td>-0.224410</td>\n",
       "      <td>-0.214802</td>\n",
       "      <td>-0.228904</td>\n",
       "      <td>-0.222913</td>\n",
       "      <td>0.004575</td>\n",
       "    </tr>\n",
       "    <tr>\n",
       "      <td>3</td>\n",
       "      <td>0.012965</td>\n",
       "      <td>0.001262</td>\n",
       "      <td>0.001596</td>\n",
       "      <td>0.000489</td>\n",
       "      <td>0.05</td>\n",
       "      <td>{'alpha': 0.05}</td>\n",
       "      <td>-0.296195</td>\n",
       "      <td>-0.332627</td>\n",
       "      <td>-0.308771</td>\n",
       "      <td>-0.315055</td>\n",
       "      <td>...</td>\n",
       "      <td>-0.310758</td>\n",
       "      <td>0.012681</td>\n",
       "      <td>4</td>\n",
       "      <td>-0.295224</td>\n",
       "      <td>-0.292646</td>\n",
       "      <td>-0.294225</td>\n",
       "      <td>-0.290529</td>\n",
       "      <td>-0.296672</td>\n",
       "      <td>-0.293859</td>\n",
       "      <td>0.002120</td>\n",
       "    </tr>\n",
       "    <tr>\n",
       "      <td>4</td>\n",
       "      <td>0.010971</td>\n",
       "      <td>0.001093</td>\n",
       "      <td>0.001197</td>\n",
       "      <td>0.000398</td>\n",
       "      <td>0.1</td>\n",
       "      <td>{'alpha': 0.1}</td>\n",
       "      <td>-0.341029</td>\n",
       "      <td>-0.367942</td>\n",
       "      <td>-0.345654</td>\n",
       "      <td>-0.358240</td>\n",
       "      <td>...</td>\n",
       "      <td>-0.351787</td>\n",
       "      <td>0.009881</td>\n",
       "      <td>5</td>\n",
       "      <td>-0.345658</td>\n",
       "      <td>-0.338541</td>\n",
       "      <td>-0.338721</td>\n",
       "      <td>-0.331993</td>\n",
       "      <td>-0.344765</td>\n",
       "      <td>-0.339936</td>\n",
       "      <td>0.004951</td>\n",
       "    </tr>\n",
       "  </tbody>\n",
       "</table>\n",
       "<p>5 rows × 21 columns</p>\n",
       "</div>"
      ],
      "text/plain": [
       "   mean_fit_time  std_fit_time  mean_score_time  std_score_time param_alpha  \\\n",
       "0       0.206449      0.046326         0.001596        0.000488      0.0001   \n",
       "1       0.093352      0.014475         0.001596        0.000489       0.001   \n",
       "2       0.018254      0.001719         0.001596        0.000489        0.01   \n",
       "3       0.012965      0.001262         0.001596        0.000489        0.05   \n",
       "4       0.010971      0.001093         0.001197        0.000398         0.1   \n",
       "\n",
       "              params  split0_test_score  split1_test_score  split2_test_score  \\\n",
       "0  {'alpha': 0.0001}          -0.209439          -0.242542          -0.229859   \n",
       "1   {'alpha': 0.001}          -0.201744          -0.225066          -0.214948   \n",
       "2    {'alpha': 0.01}          -0.251913          -0.257333          -0.253918   \n",
       "3    {'alpha': 0.05}          -0.296195          -0.332627          -0.308771   \n",
       "4     {'alpha': 0.1}          -0.341029          -0.367942          -0.345654   \n",
       "\n",
       "   split3_test_score  ...  mean_test_score  std_test_score  rank_test_score  \\\n",
       "0          -0.255096  ...        -0.230027        0.017259                2   \n",
       "1          -0.232949  ...        -0.213187        0.015132                1   \n",
       "2          -0.261253  ...        -0.250917        0.010845                3   \n",
       "3          -0.315055  ...        -0.310758        0.012681                4   \n",
       "4          -0.358240  ...        -0.351787        0.009881                5   \n",
       "\n",
       "   split0_train_score  split1_train_score  split2_train_score  \\\n",
       "0           -0.147682           -0.134495           -0.140049   \n",
       "1           -0.163940           -0.149912           -0.153981   \n",
       "2           -0.222697           -0.223754           -0.224410   \n",
       "3           -0.295224           -0.292646           -0.294225   \n",
       "4           -0.345658           -0.338541           -0.338721   \n",
       "\n",
       "   split3_train_score  split4_train_score  mean_train_score  std_train_score  \n",
       "0           -0.147468           -0.144156         -0.142770         0.004980  \n",
       "1           -0.158375           -0.159963         -0.157234         0.004856  \n",
       "2           -0.214802           -0.228904         -0.222913         0.004575  \n",
       "3           -0.290529           -0.296672         -0.293859         0.002120  \n",
       "4           -0.331993           -0.344765         -0.339936         0.004951  \n",
       "\n",
       "[5 rows x 21 columns]"
      ]
     },
     "execution_count": 136,
     "metadata": {},
     "output_type": "execute_result"
    }
   ],
   "source": [
    "cv_results = pd.DataFrame(model_cv.cv_results_)\n",
    "cv_results.head()"
   ]
  },
  {
   "cell_type": "code",
   "execution_count": 137,
   "metadata": {},
   "outputs": [
    {
     "data": {
      "image/png": "[encoded data removed]",
      "text/plain": [
       "<Figure size 432x288 with 1 Axes>"
      ]
     },
     "metadata": {
      "needs_background": "light"
     },
     "output_type": "display_data"
    }
   ],
   "source": [
    "# plotting mean test and train scoes with alpha \n",
    "cv_results['param_alpha'] = cv_results['param_alpha'].astype('float32')\n",
    "\n",
    "# plotting\n",
    "plt.plot(cv_results['param_alpha'], cv_results['mean_train_score'])\n",
    "plt.plot(cv_results['param_alpha'], cv_results['mean_test_score'])\n",
    "plt.xlabel('alpha')\n",
    "plt.ylabel('Negative Mean Absolute Error')\n",
    "\n",
    "plt.title(\"Negative Mean Absolute Error and alpha\")\n",
    "plt.legend(['train score', 'test score'], loc='upper left')\n",
    "plt.show()"
   ]
  },
  {
   "cell_type": "markdown",
   "metadata": {},
   "source": [
    "Optimal value of alpha is 0"
   ]
  },
  {
   "cell_type": "code",
   "execution_count": 138,
   "metadata": {},
   "outputs": [
    {
     "data": {
      "text/plain": [
       "array([ 1.55861688e-02,  7.19862206e-02, -1.87632435e-02, -1.87561689e-02,\n",
       "        4.87802092e-02,  3.89498818e-02,  1.73499103e-01,  5.83875199e-02,\n",
       "        7.11207705e-02,  4.19436271e-02,  3.81876198e-03,  1.77924478e-01,\n",
       "        2.94873893e-01, -6.98915467e-03,  4.55526592e-02,  1.78566057e-02,\n",
       "        5.11272657e-03,  3.28679409e-02, -1.73716582e-03, -1.94339421e-02,\n",
       "       -6.97019377e-02,  2.64091254e-02,  3.26167705e-02, -1.19517564e-01,\n",
       "        4.14362773e-02,  6.49454154e-02,  1.45564497e-02,  3.20441299e-03,\n",
       "        6.49019070e-03,  2.07760818e-02,  1.74561496e-02,  6.44431931e-01,\n",
       "        2.03860060e-02, -1.96797716e-02, -9.45666826e-03,  5.36992455e-02,\n",
       "        1.21387258e-02, -8.63606965e-02,  5.11832664e-02, -4.58582817e-02,\n",
       "        1.04312992e-01, -1.95190977e-02, -4.28372564e-01,  2.41186363e-02,\n",
       "        2.63303522e-02, -8.04208831e-02,  3.25019662e-02,  2.72759845e-02,\n",
       "        1.19484379e-01, -3.39664674e-01, -5.59174560e-01,  1.45757528e-01,\n",
       "        1.21740180e-01,  1.20691500e-02, -5.58848414e-03, -6.70992962e-02,\n",
       "       -2.96675880e-03,  4.21832908e-03, -2.75399360e-02,  4.21092278e-02,\n",
       "        7.96562327e-02, -2.60624100e-03, -1.26445568e-01, -9.47793390e-03,\n",
       "       -7.96393625e-02,  1.82116443e-03,  5.89448596e-01,  1.39368878e-13,\n",
       "        9.17693273e-03,  1.02016210e-01, -1.01714919e-01, -4.03382449e-01,\n",
       "       -1.45385113e-03,  2.79909819e-02,  7.30587809e-02, -2.61255833e-01,\n",
       "        1.09069355e-02,  5.31931485e-02,  1.57268925e-02, -4.27220861e-02,\n",
       "        3.18530347e-02,  1.82455835e-03,  2.69765154e-01, -1.91401252e-01,\n",
       "        2.91495399e-02, -4.25420588e-02, -3.02308220e-01, -7.28246157e-02,\n",
       "       -1.14970963e-01,  1.57689430e-01, -1.10624207e-01,  3.61878479e-01,\n",
       "        2.32906134e-01, -1.13380749e-01,  1.07203609e-02, -8.49429158e-02,\n",
       "        2.19903324e-02,  4.73837919e-02,  2.25301586e-01, -1.05341948e-02,\n",
       "        1.03930250e-01, -1.77947270e-01, -1.03202785e-01,  2.02448816e-02,\n",
       "        6.03694405e-02, -6.07949479e-02, -1.04817358e-01,  2.75504523e-02,\n",
       "       -2.11594466e-01, -8.04296498e-02,  7.58133555e-01,  4.04268501e-01,\n",
       "        4.68768761e-01,  1.97989817e+00, -2.66152827e+00,  0.00000000e+00,\n",
       "        0.00000000e+00,  5.48767137e-01,  2.40384710e-02,  1.41395778e-01,\n",
       "        1.29024893e-01, -8.22225990e-02, -6.39916849e-02,  9.60717509e-02,\n",
       "        8.48514248e-02,  9.12422543e-02, -3.17919550e-02,  3.34183516e-01,\n",
       "       -6.71841164e-02,  3.43218031e-02,  9.40103959e-02, -5.40178413e-02,\n",
       "       -8.77996554e-02, -2.02007561e-01, -1.52811157e-01, -1.81681597e-01,\n",
       "       -1.94522248e-01, -1.03155054e-01,  8.11059014e-02,  4.79052566e-01,\n",
       "        1.08151548e+00, -9.60909955e-02,  2.64723054e-01, -3.10509147e-01,\n",
       "       -2.52473039e-01, -1.38724156e-01, -5.03790456e-02,  4.24874047e-02,\n",
       "        5.75602179e-02,  2.13516929e-01, -6.99352272e-02,  1.28655929e-02,\n",
       "        8.97245526e-02, -1.62273599e-02,  1.56489242e-01,  1.02748417e+00,\n",
       "       -1.82372550e+01, -1.57399626e-01,  5.67014815e-01,  2.96713562e-01,\n",
       "       -2.59383095e-01, -1.39149517e-01, -3.42908501e-01,  5.06502574e-01,\n",
       "        1.53509157e-02, -1.25051464e-01, -7.46718482e-02,  2.58026255e-01,\n",
       "       -3.71910467e-01, -1.03996223e-01,  7.33389822e-02,  0.00000000e+00,\n",
       "        4.26871252e-02, -2.44000978e-02,  1.98647483e-01,  1.72932518e-01,\n",
       "       -2.75711660e-03, -3.73051425e-02,  8.34639032e-02, -1.42079440e-02,\n",
       "        2.34712236e-01,  3.54001141e-02, -1.14569785e-01,  8.38167842e-03,\n",
       "        1.49186205e-01, -8.13999543e-02, -3.90683268e-02, -3.21267990e-02,\n",
       "        0.00000000e+00, -5.15828130e-02, -1.90057652e-01, -1.05115250e-01,\n",
       "        3.38052031e-02,  2.58914759e-02, -1.29964695e-01, -3.44335763e-02,\n",
       "       -2.28084052e-02, -9.02682156e-02, -1.87935545e-02,  4.62723857e-02,\n",
       "        5.87394039e-02,  9.54706239e-02,  1.70878485e-02, -1.34432453e-03,\n",
       "       -1.82358305e+00, -1.26988593e-02, -6.11772898e-02,  0.00000000e+00,\n",
       "        1.26056966e-03, -9.20700020e-02, -2.46162819e-02,  1.51144842e-02,\n",
       "       -6.28752435e-02, -7.92576528e-03, -5.82102926e-01,  1.70952817e-01,\n",
       "        1.42547792e-02, -2.30499190e-02,  3.51994926e-01, -1.95943866e-02,\n",
       "       -4.00704311e-02, -1.78425418e-02, -1.09834006e-02, -9.66898844e-02,\n",
       "        6.44188986e-04,  2.88974263e-02,  1.75561856e-01,  1.49651875e-02,\n",
       "       -1.65305690e-02,  1.38485755e-02, -4.21434027e-02, -2.44074557e-02,\n",
       "        4.00698298e-02, -3.67367284e-02,  1.24286003e-03, -3.99511406e-02,\n",
       "        1.75710380e-03,  2.88787082e-02, -1.21984296e-01, -3.10186941e-02,\n",
       "       -4.42917113e-02, -2.89150173e-01, -2.91402695e-02,  7.75749110e-03,\n",
       "        7.07958267e-03,  3.91478430e-02,  1.59192412e-02,  4.92619511e-03,\n",
       "       -2.73869303e-01,  6.25786058e-02,  5.35789900e-02,  4.44718242e-02,\n",
       "       -1.22230616e-02, -2.77367930e-01,  2.06130208e-03,  4.70515804e-02,\n",
       "        9.84367909e-02,  2.47760542e-01,  0.00000000e+00, -2.28960300e-03,\n",
       "        2.66413712e-01, -3.76655760e-02,  1.63395470e-02, -2.29065229e-03,\n",
       "       -2.56657481e-01, -1.74867075e-01, -1.13537049e-01, -1.42092140e-01,\n",
       "       -2.09107644e-01, -6.66321670e-01,  4.62730507e-03, -9.07162717e-02,\n",
       "       -6.00405253e-02, -3.26083884e-02, -2.32349331e-03,  1.59319137e-02,\n",
       "        3.49357561e-03, -4.93748145e-01, -1.06049897e-01, -2.88290953e-02,\n",
       "       -1.68032384e-01, -1.03128055e-01, -1.13985777e-01,  5.44350723e-01,\n",
       "        9.70095129e-03,  2.56081012e-03,  7.68652386e-03, -2.92401237e-03,\n",
       "        1.98596431e-01, -1.09166716e-01,  6.99497483e-02, -2.23811107e-03,\n",
       "       -2.51919595e-01,  4.68394656e-04, -3.52569805e-03, -4.22098373e-02,\n",
       "       -3.64535681e-02, -1.52805576e-03,  4.24232396e-02, -5.51546126e-05,\n",
       "       -4.63630027e-02, -5.51778373e-02,  9.45571678e-04, -1.11985589e+01,\n",
       "        0.00000000e+00, -1.01289176e+00,  6.63321388e-04, -3.81714670e-02,\n",
       "       -5.09580136e-02,  1.69541086e-02,  3.54879647e-02, -7.24020155e-04,\n",
       "       -3.65942029e-01, -1.96184621e-03,  2.17803161e-01, -1.23647675e-02,\n",
       "        0.00000000e+00,  3.32713844e-03, -5.00192261e-02,  3.38964081e-01,\n",
       "        2.22199320e-01, -7.40814612e-02, -4.01012827e-02,  2.04440926e-01,\n",
       "        2.52900806e-01, -8.89108876e-03, -8.64142363e-02, -5.41647036e-02,\n",
       "        1.96912376e-01, -8.22705902e-02,  7.57473426e-03, -7.69318045e-03])"
      ]
     },
     "execution_count": 138,
     "metadata": {},
     "output_type": "execute_result"
    }
   ],
   "source": [
    "alpha =0\n",
    "\n",
    "lasso = Lasso(alpha=alpha)\n",
    "        \n",
    "lasso.fit(X_train, y_train) \n",
    "\n",
    "lasso.coef_"
   ]
  },
  {
   "cell_type": "code",
   "execution_count": 139,
   "metadata": {},
   "outputs": [],
   "source": [
    "y_pred = lasso.predict(X_train)"
   ]
  },
  {
   "cell_type": "code",
   "execution_count": 140,
   "metadata": {},
   "outputs": [
    {
     "data": {
      "text/plain": [
       "0.9458634846042352"
      ]
     },
     "execution_count": 140,
     "metadata": {},
     "output_type": "execute_result"
    }
   ],
   "source": [
    "lasso.score(X_train, y_train)"
   ]
  },
  {
   "cell_type": "markdown",
   "metadata": {},
   "source": [
    "Score of our model on train data is 94% "
   ]
  },
  {
   "cell_type": "markdown",
   "metadata": {},
   "source": [
    "#### getting the top 10 features helful in prediction"
   ]
  },
  {
   "cell_type": "code",
   "execution_count": 141,
   "metadata": {},
   "outputs": [
    {
     "data": {
      "text/html": [
       "<div>\n",
       "<style scoped>\n",
       "    .dataframe tbody tr th:only-of-type {\n",
       "        vertical-align: middle;\n",
       "    }\n",
       "\n",
       "    .dataframe tbody tr th {\n",
       "        vertical-align: top;\n",
       "    }\n",
       "\n",
       "    .dataframe thead th {\n",
       "        text-align: right;\n",
       "    }\n",
       "</style>\n",
       "<table border=\"1\" class=\"dataframe\">\n",
       "  <thead>\n",
       "    <tr style=\"text-align: right;\">\n",
       "      <th></th>\n",
       "      <th>feature_name</th>\n",
       "      <th>coef</th>\n",
       "    </tr>\n",
       "  </thead>\n",
       "  <tbody>\n",
       "    <tr>\n",
       "      <td>113</td>\n",
       "      <td>Condition2_PosA</td>\n",
       "      <td>1.979898</td>\n",
       "    </tr>\n",
       "    <tr>\n",
       "      <td>140</td>\n",
       "      <td>OverallQual_10</td>\n",
       "      <td>1.081515</td>\n",
       "    </tr>\n",
       "    <tr>\n",
       "      <td>155</td>\n",
       "      <td>RoofStyle_Shed</td>\n",
       "      <td>1.027484</td>\n",
       "    </tr>\n",
       "    <tr>\n",
       "      <td>110</td>\n",
       "      <td>Condition2_Artery</td>\n",
       "      <td>0.758134</td>\n",
       "    </tr>\n",
       "    <tr>\n",
       "      <td>31</td>\n",
       "      <td>PoolArea</td>\n",
       "      <td>0.644432</td>\n",
       "    </tr>\n",
       "    <tr>\n",
       "      <td>66</td>\n",
       "      <td>Utilities_AllPub</td>\n",
       "      <td>0.589449</td>\n",
       "    </tr>\n",
       "    <tr>\n",
       "      <td>158</td>\n",
       "      <td>RoofMatl_Membran</td>\n",
       "      <td>0.567015</td>\n",
       "    </tr>\n",
       "    <tr>\n",
       "      <td>117</td>\n",
       "      <td>Condition2_RRNn</td>\n",
       "      <td>0.548767</td>\n",
       "    </tr>\n",
       "    <tr>\n",
       "      <td>283</td>\n",
       "      <td>GarageType_No Garage</td>\n",
       "      <td>0.544351</td>\n",
       "    </tr>\n",
       "    <tr>\n",
       "      <td>163</td>\n",
       "      <td>RoofMatl_WdShngl</td>\n",
       "      <td>0.506503</td>\n",
       "    </tr>\n",
       "  </tbody>\n",
       "</table>\n",
       "</div>"
      ],
      "text/plain": [
       "             feature_name      coef\n",
       "113       Condition2_PosA  1.979898\n",
       "140        OverallQual_10  1.081515\n",
       "155        RoofStyle_Shed  1.027484\n",
       "110     Condition2_Artery  0.758134\n",
       "31               PoolArea  0.644432\n",
       "66       Utilities_AllPub  0.589449\n",
       "158      RoofMatl_Membran  0.567015\n",
       "117       Condition2_RRNn  0.548767\n",
       "283  GarageType_No Garage  0.544351\n",
       "163      RoofMatl_WdShngl  0.506503"
      ]
     },
     "execution_count": 141,
     "metadata": {},
     "output_type": "execute_result"
    }
   ],
   "source": [
    "lasso_model_param = list(lasso.coef_)\n",
    "cols = X_train.columns\n",
    "lasso_coef = pd.DataFrame(list(zip(cols,lasso_model_param)))\n",
    "lasso_coef.columns = ['feature_name','coef']\n",
    "lasso_coef.sort_values(by='coef',ascending=False).head(10)"
   ]
  },
  {
   "cell_type": "markdown",
   "metadata": {},
   "source": [
    "### Ridge regression"
   ]
  },
  {
   "cell_type": "code",
   "execution_count": 142,
   "metadata": {},
   "outputs": [
    {
     "name": "stdout",
     "output_type": "stream",
     "text": [
      "Fitting 5 folds for each of 28 candidates, totalling 140 fits\n"
     ]
    },
    {
     "name": "stderr",
     "output_type": "stream",
     "text": [
      "[Parallel(n_jobs=1)]: Using backend SequentialBackend with 1 concurrent workers.\n",
      "[Parallel(n_jobs=1)]: Done 140 out of 140 | elapsed:    1.7s finished\n"
     ]
    },
    {
     "data": {
      "text/plain": [
       "GridSearchCV(cv=5, error_score='raise-deprecating',\n",
       "             estimator=Ridge(alpha=1.0, copy_X=True, fit_intercept=True,\n",
       "                             max_iter=None, normalize=False, random_state=None,\n",
       "                             solver='auto', tol=0.001),\n",
       "             iid='warn', n_jobs=None,\n",
       "             param_grid={'alpha': [0.0001, 0.001, 0.01, 0.05, 0.1, 0.2, 0.3,\n",
       "                                   0.4, 0.5, 0.6, 0.7, 0.8, 0.9, 1.0, 2.0, 3.0,\n",
       "                                   4.0, 5.0, 6.0, 7.0, 8.0, 9.0, 10.0, 20, 50,\n",
       "                                   100, 500, 1000]},\n",
       "             pre_dispatch='2*n_jobs', refit=True, return_train_score=True,\n",
       "             scoring='neg_mean_absolute_error', verbose=1)"
      ]
     },
     "execution_count": 142,
     "metadata": {},
     "output_type": "execute_result"
    }
   ],
   "source": [
    "## Ridge regression\n",
    "ridge = Ridge()\n",
    "\n",
    "params = {'alpha': [0.0001, 0.001, 0.01, 0.05, 0.1, \n",
    " 0.2, 0.3, 0.4, 0.5, 0.6, 0.7, 0.8, 0.9, 1.0, 2.0, 3.0, \n",
    " 4.0, 5.0, 6.0, 7.0, 8.0, 9.0, 10.0, 20, 50, 100, 500, 1000 ]}\n",
    "\n",
    "# cross validation\n",
    "model_cv_ridge = GridSearchCV(estimator = ridge, \n",
    "                        param_grid = params, \n",
    "                        scoring= 'neg_mean_absolute_error', \n",
    "                        cv = folds, \n",
    "                        return_train_score=True,\n",
    "                        verbose = 1)            \n",
    "\n",
    "model_cv_ridge.fit(X_train, y_train) "
   ]
  },
  {
   "cell_type": "code",
   "execution_count": 143,
   "metadata": {},
   "outputs": [
    {
     "data": {
      "text/html": [
       "<div>\n",
       "<style scoped>\n",
       "    .dataframe tbody tr th:only-of-type {\n",
       "        vertical-align: middle;\n",
       "    }\n",
       "\n",
       "    .dataframe tbody tr th {\n",
       "        vertical-align: top;\n",
       "    }\n",
       "\n",
       "    .dataframe thead th {\n",
       "        text-align: right;\n",
       "    }\n",
       "</style>\n",
       "<table border=\"1\" class=\"dataframe\">\n",
       "  <thead>\n",
       "    <tr style=\"text-align: right;\">\n",
       "      <th></th>\n",
       "      <th>mean_fit_time</th>\n",
       "      <th>std_fit_time</th>\n",
       "      <th>mean_score_time</th>\n",
       "      <th>std_score_time</th>\n",
       "      <th>param_alpha</th>\n",
       "      <th>params</th>\n",
       "      <th>split0_test_score</th>\n",
       "      <th>split1_test_score</th>\n",
       "      <th>split2_test_score</th>\n",
       "      <th>split3_test_score</th>\n",
       "      <th>...</th>\n",
       "      <th>mean_test_score</th>\n",
       "      <th>std_test_score</th>\n",
       "      <th>rank_test_score</th>\n",
       "      <th>split0_train_score</th>\n",
       "      <th>split1_train_score</th>\n",
       "      <th>split2_train_score</th>\n",
       "      <th>split3_train_score</th>\n",
       "      <th>split4_train_score</th>\n",
       "      <th>mean_train_score</th>\n",
       "      <th>std_train_score</th>\n",
       "    </tr>\n",
       "  </thead>\n",
       "  <tbody>\n",
       "    <tr>\n",
       "      <td>0</td>\n",
       "      <td>0.011569</td>\n",
       "      <td>0.003433</td>\n",
       "      <td>0.001594</td>\n",
       "      <td>4.876155e-04</td>\n",
       "      <td>0.0001</td>\n",
       "      <td>{'alpha': 0.0001}</td>\n",
       "      <td>-0.220078</td>\n",
       "      <td>-0.262193</td>\n",
       "      <td>-0.247262</td>\n",
       "      <td>-0.331496</td>\n",
       "      <td>...</td>\n",
       "      <td>-0.258171</td>\n",
       "      <td>0.039383</td>\n",
       "      <td>26</td>\n",
       "      <td>-0.145965</td>\n",
       "      <td>-0.132631</td>\n",
       "      <td>-0.133583</td>\n",
       "      <td>-0.141850</td>\n",
       "      <td>-0.137578</td>\n",
       "      <td>-0.138322</td>\n",
       "      <td>0.005025</td>\n",
       "    </tr>\n",
       "    <tr>\n",
       "      <td>1</td>\n",
       "      <td>0.008976</td>\n",
       "      <td>0.001411</td>\n",
       "      <td>0.001596</td>\n",
       "      <td>4.886361e-04</td>\n",
       "      <td>0.001</td>\n",
       "      <td>{'alpha': 0.001}</td>\n",
       "      <td>-0.220097</td>\n",
       "      <td>-0.262057</td>\n",
       "      <td>-0.246215</td>\n",
       "      <td>-0.315015</td>\n",
       "      <td>...</td>\n",
       "      <td>-0.254748</td>\n",
       "      <td>0.033305</td>\n",
       "      <td>25</td>\n",
       "      <td>-0.145979</td>\n",
       "      <td>-0.132638</td>\n",
       "      <td>-0.134378</td>\n",
       "      <td>-0.142364</td>\n",
       "      <td>-0.138214</td>\n",
       "      <td>-0.138715</td>\n",
       "      <td>0.004941</td>\n",
       "    </tr>\n",
       "    <tr>\n",
       "      <td>2</td>\n",
       "      <td>0.010173</td>\n",
       "      <td>0.000747</td>\n",
       "      <td>0.001396</td>\n",
       "      <td>4.884027e-04</td>\n",
       "      <td>0.01</td>\n",
       "      <td>{'alpha': 0.01}</td>\n",
       "      <td>-0.220386</td>\n",
       "      <td>-0.260792</td>\n",
       "      <td>-0.244948</td>\n",
       "      <td>-0.286205</td>\n",
       "      <td>...</td>\n",
       "      <td>-0.248699</td>\n",
       "      <td>0.023120</td>\n",
       "      <td>24</td>\n",
       "      <td>-0.146130</td>\n",
       "      <td>-0.132725</td>\n",
       "      <td>-0.137011</td>\n",
       "      <td>-0.144244</td>\n",
       "      <td>-0.140715</td>\n",
       "      <td>-0.140165</td>\n",
       "      <td>0.004854</td>\n",
       "    </tr>\n",
       "    <tr>\n",
       "      <td>3</td>\n",
       "      <td>0.010974</td>\n",
       "      <td>0.002274</td>\n",
       "      <td>0.001393</td>\n",
       "      <td>4.861571e-04</td>\n",
       "      <td>0.05</td>\n",
       "      <td>{'alpha': 0.05}</td>\n",
       "      <td>-0.222397</td>\n",
       "      <td>-0.256127</td>\n",
       "      <td>-0.243767</td>\n",
       "      <td>-0.275026</td>\n",
       "      <td>...</td>\n",
       "      <td>-0.245193</td>\n",
       "      <td>0.018985</td>\n",
       "      <td>23</td>\n",
       "      <td>-0.146868</td>\n",
       "      <td>-0.133368</td>\n",
       "      <td>-0.138165</td>\n",
       "      <td>-0.145255</td>\n",
       "      <td>-0.142234</td>\n",
       "      <td>-0.141178</td>\n",
       "      <td>0.004903</td>\n",
       "    </tr>\n",
       "    <tr>\n",
       "      <td>4</td>\n",
       "      <td>0.006583</td>\n",
       "      <td>0.000489</td>\n",
       "      <td>0.000997</td>\n",
       "      <td>3.814697e-07</td>\n",
       "      <td>0.1</td>\n",
       "      <td>{'alpha': 0.1}</td>\n",
       "      <td>-0.224404</td>\n",
       "      <td>-0.251635</td>\n",
       "      <td>-0.241883</td>\n",
       "      <td>-0.270064</td>\n",
       "      <td>...</td>\n",
       "      <td>-0.243130</td>\n",
       "      <td>0.016653</td>\n",
       "      <td>22</td>\n",
       "      <td>-0.147802</td>\n",
       "      <td>-0.134621</td>\n",
       "      <td>-0.138839</td>\n",
       "      <td>-0.145868</td>\n",
       "      <td>-0.143383</td>\n",
       "      <td>-0.142102</td>\n",
       "      <td>0.004794</td>\n",
       "    </tr>\n",
       "  </tbody>\n",
       "</table>\n",
       "<p>5 rows × 21 columns</p>\n",
       "</div>"
      ],
      "text/plain": [
       "   mean_fit_time  std_fit_time  mean_score_time  std_score_time param_alpha  \\\n",
       "0       0.011569      0.003433         0.001594    4.876155e-04      0.0001   \n",
       "1       0.008976      0.001411         0.001596    4.886361e-04       0.001   \n",
       "2       0.010173      0.000747         0.001396    4.884027e-04        0.01   \n",
       "3       0.010974      0.002274         0.001393    4.861571e-04        0.05   \n",
       "4       0.006583      0.000489         0.000997    3.814697e-07         0.1   \n",
       "\n",
       "              params  split0_test_score  split1_test_score  split2_test_score  \\\n",
       "0  {'alpha': 0.0001}          -0.220078          -0.262193          -0.247262   \n",
       "1   {'alpha': 0.001}          -0.220097          -0.262057          -0.246215   \n",
       "2    {'alpha': 0.01}          -0.220386          -0.260792          -0.244948   \n",
       "3    {'alpha': 0.05}          -0.222397          -0.256127          -0.243767   \n",
       "4     {'alpha': 0.1}          -0.224404          -0.251635          -0.241883   \n",
       "\n",
       "   split3_test_score  ...  mean_test_score  std_test_score  rank_test_score  \\\n",
       "0          -0.331496  ...        -0.258171        0.039383               26   \n",
       "1          -0.315015  ...        -0.254748        0.033305               25   \n",
       "2          -0.286205  ...        -0.248699        0.023120               24   \n",
       "3          -0.275026  ...        -0.245193        0.018985               23   \n",
       "4          -0.270064  ...        -0.243130        0.016653               22   \n",
       "\n",
       "   split0_train_score  split1_train_score  split2_train_score  \\\n",
       "0           -0.145965           -0.132631           -0.133583   \n",
       "1           -0.145979           -0.132638           -0.134378   \n",
       "2           -0.146130           -0.132725           -0.137011   \n",
       "3           -0.146868           -0.133368           -0.138165   \n",
       "4           -0.147802           -0.134621           -0.138839   \n",
       "\n",
       "   split3_train_score  split4_train_score  mean_train_score  std_train_score  \n",
       "0           -0.141850           -0.137578         -0.138322         0.005025  \n",
       "1           -0.142364           -0.138214         -0.138715         0.004941  \n",
       "2           -0.144244           -0.140715         -0.140165         0.004854  \n",
       "3           -0.145255           -0.142234         -0.141178         0.004903  \n",
       "4           -0.145868           -0.143383         -0.142102         0.004794  \n",
       "\n",
       "[5 rows x 21 columns]"
      ]
     },
     "execution_count": 143,
     "metadata": {},
     "output_type": "execute_result"
    }
   ],
   "source": [
    "cv_results_ridge = pd.DataFrame(model_cv_ridge.cv_results_)\n",
    "cv_results_ridge.head()"
   ]
  },
  {
   "cell_type": "code",
   "execution_count": 144,
   "metadata": {},
   "outputs": [
    {
     "data": {
      "image/png": "[encoded data removed]",
      "text/plain": [
       "<Figure size 432x288 with 1 Axes>"
      ]
     },
     "metadata": {
      "needs_background": "light"
     },
     "output_type": "display_data"
    }
   ],
   "source": [
    "# plotting mean test and train scoes with alpha \n",
    "cv_results_ridge['param_alpha'] = cv_results_ridge['param_alpha'].astype('float32')\n",
    "\n",
    "# plotting\n",
    "plt.plot(cv_results_ridge['param_alpha'], cv_results_ridge['mean_train_score'])\n",
    "plt.plot(cv_results_ridge['param_alpha'], cv_results_ridge['mean_test_score'])\n",
    "plt.xlabel('alpha')\n",
    "plt.ylabel('Negative Mean Absolute Error')\n",
    "\n",
    "plt.title(\"Negative Mean Absolute Error and alpha\")\n",
    "plt.legend(['train score', 'test score'], loc='upper left')\n",
    "plt.show()"
   ]
  },
  {
   "cell_type": "code",
   "execution_count": 145,
   "metadata": {},
   "outputs": [
    {
     "data": {
      "text/plain": [
       "array([ 1.55861688e-02,  7.19862206e-02, -1.87632435e-02, -1.87561689e-02,\n",
       "        4.87802092e-02,  3.89498818e-02,  1.73499103e-01,  5.83875199e-02,\n",
       "        7.11207705e-02,  4.19436271e-02,  3.81876198e-03,  1.77924478e-01,\n",
       "        2.94873893e-01, -6.98915467e-03,  4.55526592e-02,  1.78566057e-02,\n",
       "        5.11272657e-03,  3.28679409e-02, -1.73716582e-03, -1.94339421e-02,\n",
       "       -6.97019377e-02,  2.64091254e-02,  3.26167705e-02, -1.19517564e-01,\n",
       "        4.14362773e-02,  6.49454154e-02,  1.45564497e-02,  3.20441299e-03,\n",
       "        6.49019070e-03,  2.07760818e-02,  1.74561496e-02,  6.44431931e-01,\n",
       "        2.03860060e-02, -1.96797716e-02, -9.45666826e-03,  5.36992455e-02,\n",
       "        1.21387258e-02, -8.63606965e-02,  5.11832664e-02, -4.58582817e-02,\n",
       "        1.04312992e-01, -1.95190977e-02, -4.28372564e-01,  2.41186363e-02,\n",
       "        2.63303522e-02, -8.04208831e-02,  3.25019662e-02,  2.72759845e-02,\n",
       "        1.19484379e-01, -3.39664674e-01, -5.59174560e-01,  1.45757528e-01,\n",
       "        1.21740180e-01,  1.20691500e-02, -5.58848414e-03, -6.70992962e-02,\n",
       "       -2.96675880e-03,  4.21832908e-03, -2.75399360e-02,  4.21092278e-02,\n",
       "        7.96562327e-02, -2.60624100e-03, -1.26445568e-01, -9.47793390e-03,\n",
       "       -7.96393625e-02,  1.82116443e-03,  5.89448596e-01,  1.39368878e-13,\n",
       "        9.17693273e-03,  1.02016210e-01, -1.01714919e-01, -4.03382449e-01,\n",
       "       -1.45385113e-03,  2.79909819e-02,  7.30587809e-02, -2.61255833e-01,\n",
       "        1.09069355e-02,  5.31931485e-02,  1.57268925e-02, -4.27220861e-02,\n",
       "        3.18530347e-02,  1.82455835e-03,  2.69765154e-01, -1.91401252e-01,\n",
       "        2.91495399e-02, -4.25420588e-02, -3.02308220e-01, -7.28246157e-02,\n",
       "       -1.14970963e-01,  1.57689430e-01, -1.10624207e-01,  3.61878479e-01,\n",
       "        2.32906134e-01, -1.13380749e-01,  1.07203609e-02, -8.49429158e-02,\n",
       "        2.19903324e-02,  4.73837919e-02,  2.25301586e-01, -1.05341948e-02,\n",
       "        1.03930250e-01, -1.77947270e-01, -1.03202785e-01,  2.02448816e-02,\n",
       "        6.03694405e-02, -6.07949479e-02, -1.04817358e-01,  2.75504523e-02,\n",
       "       -2.11594466e-01, -8.04296498e-02,  7.58133555e-01,  4.04268501e-01,\n",
       "        4.68768761e-01,  1.97989817e+00, -2.66152827e+00,  0.00000000e+00,\n",
       "        0.00000000e+00,  5.48767137e-01,  2.40384710e-02,  1.41395778e-01,\n",
       "        1.29024893e-01, -8.22225990e-02, -6.39916849e-02,  9.60717509e-02,\n",
       "        8.48514248e-02,  9.12422543e-02, -3.17919550e-02,  3.34183516e-01,\n",
       "       -6.71841164e-02,  3.43218031e-02,  9.40103959e-02, -5.40178413e-02,\n",
       "       -8.77996554e-02, -2.02007561e-01, -1.52811157e-01, -1.81681597e-01,\n",
       "       -1.94522248e-01, -1.03155054e-01,  8.11059014e-02,  4.79052566e-01,\n",
       "        1.08151548e+00, -9.60909955e-02,  2.64723054e-01, -3.10509147e-01,\n",
       "       -2.52473039e-01, -1.38724156e-01, -5.03790456e-02,  4.24874047e-02,\n",
       "        5.75602179e-02,  2.13516929e-01, -6.99352272e-02,  1.28655929e-02,\n",
       "        8.97245526e-02, -1.62273599e-02,  1.56489242e-01,  1.02748417e+00,\n",
       "       -1.82372550e+01, -1.57399626e-01,  5.67014815e-01,  2.96713562e-01,\n",
       "       -2.59383095e-01, -1.39149517e-01, -3.42908501e-01,  5.06502574e-01,\n",
       "        1.53509157e-02, -1.25051464e-01, -7.46718482e-02,  2.58026255e-01,\n",
       "       -3.71910467e-01, -1.03996223e-01,  7.33389822e-02,  0.00000000e+00,\n",
       "        4.26871252e-02, -2.44000978e-02,  1.98647483e-01,  1.72932518e-01,\n",
       "       -2.75711660e-03, -3.73051425e-02,  8.34639032e-02, -1.42079440e-02,\n",
       "        2.34712236e-01,  3.54001141e-02, -1.14569785e-01,  8.38167842e-03,\n",
       "        1.49186205e-01, -8.13999543e-02, -3.90683268e-02, -3.21267990e-02,\n",
       "        0.00000000e+00, -5.15828130e-02, -1.90057652e-01, -1.05115250e-01,\n",
       "        3.38052031e-02,  2.58914759e-02, -1.29964695e-01, -3.44335763e-02,\n",
       "       -2.28084052e-02, -9.02682156e-02, -1.87935545e-02,  4.62723857e-02,\n",
       "        5.87394039e-02,  9.54706239e-02,  1.70878485e-02, -1.34432453e-03,\n",
       "       -1.82358305e+00, -1.26988593e-02, -6.11772898e-02,  0.00000000e+00,\n",
       "        1.26056966e-03, -9.20700020e-02, -2.46162819e-02,  1.51144842e-02,\n",
       "       -6.28752435e-02, -7.92576528e-03, -5.82102926e-01,  1.70952817e-01,\n",
       "        1.42547792e-02, -2.30499190e-02,  3.51994926e-01, -1.95943866e-02,\n",
       "       -4.00704311e-02, -1.78425418e-02, -1.09834006e-02, -9.66898844e-02,\n",
       "        6.44188986e-04,  2.88974263e-02,  1.75561856e-01,  1.49651875e-02,\n",
       "       -1.65305690e-02,  1.38485755e-02, -4.21434027e-02, -2.44074557e-02,\n",
       "        4.00698298e-02, -3.67367284e-02,  1.24286003e-03, -3.99511406e-02,\n",
       "        1.75710380e-03,  2.88787082e-02, -1.21984296e-01, -3.10186941e-02,\n",
       "       -4.42917113e-02, -2.89150173e-01, -2.91402695e-02,  7.75749110e-03,\n",
       "        7.07958267e-03,  3.91478430e-02,  1.59192412e-02,  4.92619511e-03,\n",
       "       -2.73869303e-01,  6.25786058e-02,  5.35789900e-02,  4.44718242e-02,\n",
       "       -1.22230616e-02, -2.77367930e-01,  2.06130208e-03,  4.70515804e-02,\n",
       "        9.84367909e-02,  2.47760542e-01,  0.00000000e+00, -2.28960300e-03,\n",
       "        2.66413712e-01, -3.76655760e-02,  1.63395470e-02, -2.29065229e-03,\n",
       "       -2.56657481e-01, -1.74867075e-01, -1.13537049e-01, -1.42092140e-01,\n",
       "       -2.09107644e-01, -6.66321670e-01,  4.62730507e-03, -9.07162717e-02,\n",
       "       -6.00405253e-02, -3.26083884e-02, -2.32349331e-03,  1.59319137e-02,\n",
       "        3.49357561e-03, -4.93748145e-01, -1.06049897e-01, -2.88290953e-02,\n",
       "       -1.68032384e-01, -1.03128055e-01, -1.13985777e-01,  5.44350723e-01,\n",
       "        9.70095129e-03,  2.56081012e-03,  7.68652386e-03, -2.92401237e-03,\n",
       "        1.98596431e-01, -1.09166716e-01,  6.99497483e-02, -2.23811107e-03,\n",
       "       -2.51919595e-01,  4.68394656e-04, -3.52569805e-03, -4.22098373e-02,\n",
       "       -3.64535681e-02, -1.52805576e-03,  4.24232396e-02, -5.51546126e-05,\n",
       "       -4.63630027e-02, -5.51778373e-02,  9.45571678e-04, -1.11985589e+01,\n",
       "        0.00000000e+00, -1.01289176e+00,  6.63321388e-04, -3.81714670e-02,\n",
       "       -5.09580136e-02,  1.69541086e-02,  3.54879647e-02, -7.24020155e-04,\n",
       "       -3.65942029e-01, -1.96184621e-03,  2.17803161e-01, -1.23647675e-02,\n",
       "        0.00000000e+00,  3.32713844e-03, -5.00192261e-02,  3.38964081e-01,\n",
       "        2.22199320e-01, -7.40814612e-02, -4.01012827e-02,  2.04440926e-01,\n",
       "        2.52900806e-01, -8.89108876e-03, -8.64142363e-02, -5.41647036e-02,\n",
       "        1.96912376e-01, -8.22705902e-02,  7.57473426e-03, -7.69318045e-03])"
      ]
     },
     "execution_count": 145,
     "metadata": {},
     "output_type": "execute_result"
    }
   ],
   "source": [
    "alpha = 0\n",
    "\n",
    "ridge = Ridge(alpha=alpha)\n",
    "        \n",
    "ridge.fit(X_train, y_train) \n",
    "\n",
    "lasso.coef_"
   ]
  },
  {
   "cell_type": "code",
   "execution_count": 146,
   "metadata": {},
   "outputs": [
    {
     "data": {
      "text/plain": [
       "0.9287166194493841"
      ]
     },
     "execution_count": 146,
     "metadata": {},
     "output_type": "execute_result"
    }
   ],
   "source": [
    "ridge.score(X_train, y_train)"
   ]
  },
  {
   "cell_type": "markdown",
   "metadata": {},
   "source": [
    "score of model using ridge is 93%"
   ]
  },
  {
   "cell_type": "markdown",
   "metadata": {},
   "source": [
    "Getting the top 10 features using ridge regression "
   ]
  },
  {
   "cell_type": "code",
   "execution_count": 147,
   "metadata": {},
   "outputs": [
    {
     "data": {
      "text/html": [
       "<div>\n",
       "<style scoped>\n",
       "    .dataframe tbody tr th:only-of-type {\n",
       "        vertical-align: middle;\n",
       "    }\n",
       "\n",
       "    .dataframe tbody tr th {\n",
       "        vertical-align: top;\n",
       "    }\n",
       "\n",
       "    .dataframe thead th {\n",
       "        text-align: right;\n",
       "    }\n",
       "</style>\n",
       "<table border=\"1\" class=\"dataframe\">\n",
       "  <thead>\n",
       "    <tr style=\"text-align: right;\">\n",
       "      <th></th>\n",
       "      <th>feature_name</th>\n",
       "      <th>coef</th>\n",
       "    </tr>\n",
       "  </thead>\n",
       "  <tbody>\n",
       "    <tr>\n",
       "      <td>113</td>\n",
       "      <td>Condition2_PosA</td>\n",
       "      <td>1.979898</td>\n",
       "    </tr>\n",
       "    <tr>\n",
       "      <td>140</td>\n",
       "      <td>OverallQual_10</td>\n",
       "      <td>1.081515</td>\n",
       "    </tr>\n",
       "    <tr>\n",
       "      <td>155</td>\n",
       "      <td>RoofStyle_Shed</td>\n",
       "      <td>1.027484</td>\n",
       "    </tr>\n",
       "    <tr>\n",
       "      <td>110</td>\n",
       "      <td>Condition2_Artery</td>\n",
       "      <td>0.758134</td>\n",
       "    </tr>\n",
       "    <tr>\n",
       "      <td>31</td>\n",
       "      <td>PoolArea</td>\n",
       "      <td>0.644432</td>\n",
       "    </tr>\n",
       "    <tr>\n",
       "      <td>66</td>\n",
       "      <td>Utilities_AllPub</td>\n",
       "      <td>0.589449</td>\n",
       "    </tr>\n",
       "    <tr>\n",
       "      <td>158</td>\n",
       "      <td>RoofMatl_Membran</td>\n",
       "      <td>0.567015</td>\n",
       "    </tr>\n",
       "    <tr>\n",
       "      <td>117</td>\n",
       "      <td>Condition2_RRNn</td>\n",
       "      <td>0.548767</td>\n",
       "    </tr>\n",
       "    <tr>\n",
       "      <td>283</td>\n",
       "      <td>GarageType_No Garage</td>\n",
       "      <td>0.544351</td>\n",
       "    </tr>\n",
       "    <tr>\n",
       "      <td>163</td>\n",
       "      <td>RoofMatl_WdShngl</td>\n",
       "      <td>0.506503</td>\n",
       "    </tr>\n",
       "  </tbody>\n",
       "</table>\n",
       "</div>"
      ],
      "text/plain": [
       "             feature_name      coef\n",
       "113       Condition2_PosA  1.979898\n",
       "140        OverallQual_10  1.081515\n",
       "155        RoofStyle_Shed  1.027484\n",
       "110     Condition2_Artery  0.758134\n",
       "31               PoolArea  0.644432\n",
       "66       Utilities_AllPub  0.589449\n",
       "158      RoofMatl_Membran  0.567015\n",
       "117       Condition2_RRNn  0.548767\n",
       "283  GarageType_No Garage  0.544351\n",
       "163      RoofMatl_WdShngl  0.506503"
      ]
     },
     "execution_count": 147,
     "metadata": {},
     "output_type": "execute_result"
    }
   ],
   "source": [
    "ridge_model_param = list(lasso.coef_)\n",
    "cols = X_train.columns\n",
    "ridge_coef = pd.DataFrame(list(zip(cols,ridge_model_param)))\n",
    "ridge_coef.columns = ['feature_name','coef']\n",
    "ridge_coef.sort_values(by='coef',ascending=False).head(10)"
   ]
  }
 ],
 "metadata": {
  "kernelspec": {
   "display_name": "Python 3",
   "language": "python",
   "name": "python3"
  },
  "language_info": {
   "codemirror_mode": {
    "name": "ipython",
    "version": 3
   },
   "file_extension": ".py",
   "mimetype": "text/x-python",
   "name": "python",
   "nbconvert_exporter": "python",
   "pygments_lexer": "ipython3",
   "version": "3.7.4"
  }
 },
 "nbformat": 4,
 "nbformat_minor": 2
}
